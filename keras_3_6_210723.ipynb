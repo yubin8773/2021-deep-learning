{
  "nbformat": 4,
  "nbformat_minor": 0,
  "metadata": {
    "colab": {
      "name": "keras_3.6_210723.ipynb",
      "provenance": [],
      "collapsed_sections": [],
      "mount_file_id": "10W_dPhbpLuJ6PMFFinVFBwX3doj0i-Sc",
      "authorship_tag": "ABX9TyP66phxJ7tQUp5tE6JdDyCm",
      "include_colab_link": true
    },
    "kernelspec": {
      "name": "python3",
      "display_name": "Python 3"
    },
    "language_info": {
      "name": "python"
    },
    "accelerator": "GPU"
  },
  "cells": [
    {
      "cell_type": "markdown",
      "metadata": {
        "id": "view-in-github",
        "colab_type": "text"
      },
      "source": [
        "<a href=\"https://colab.research.google.com/github/yubin8773/2021-deep-learning/blob/main/keras_3_6_210723.ipynb\" target=\"_parent\"><img src=\"https://colab.research.google.com/assets/colab-badge.svg\" alt=\"Open In Colab\"/></a>"
      ]
    },
    {
      "cell_type": "markdown",
      "metadata": {
        "id": "nt-w05H9xZWu"
      },
      "source": [
        "**회귀(regression) 문제**\n",
        "\n",
        "개별적인 레이블 대신 연속적인 값을 예측\n",
        "\n",
        "ex) 기상 데이터가 주어졌을 때 내일 기온을 예측하거나, 소프트웨어 명세가 주어졌을 때 소프트웨어 프로젝트가 완료될 시간을 예측"
      ]
    },
    {
      "cell_type": "code",
      "metadata": {
        "id": "0bxQ6fVdxtKU"
      },
      "source": [
        "# 보스턴 주택 데이터셋 로드\n",
        "from keras.datasets import boston_housing\n",
        "import keras\n",
        "(train_data, train_targets), (test_data, test_targets) = boston_housing.load_data()"
      ],
      "execution_count": 7,
      "outputs": []
    },
    {
      "cell_type": "code",
      "metadata": {
        "colab": {
          "base_uri": "https://localhost:8080/"
        },
        "id": "44YyKhW2x_S9",
        "outputId": "a310a8fd-fa67-4bfd-937a-1ec9f26c791b"
      },
      "source": [
        "train_data.shape"
      ],
      "execution_count": 2,
      "outputs": [
        {
          "output_type": "execute_result",
          "data": {
            "text/plain": [
              "(404, 13)"
            ]
          },
          "metadata": {
            "tags": []
          },
          "execution_count": 2
        }
      ]
    },
    {
      "cell_type": "code",
      "metadata": {
        "colab": {
          "base_uri": "https://localhost:8080/"
        },
        "id": "m2M6dbaTyD8M",
        "outputId": "77f31fef-5eaf-4445-a513-d6d4871fb9b5"
      },
      "source": [
        "test_data.shape"
      ],
      "execution_count": 3,
      "outputs": [
        {
          "output_type": "execute_result",
          "data": {
            "text/plain": [
              "(102, 13)"
            ]
          },
          "metadata": {
            "tags": []
          },
          "execution_count": 3
        }
      ]
    },
    {
      "cell_type": "code",
      "metadata": {
        "colab": {
          "base_uri": "https://localhost:8080/"
        },
        "id": "2EoyTK1DyFdW",
        "outputId": "9b93ee86-a961-4b68-b4e7-d8f505ab58d6"
      },
      "source": [
        "# 주택의 중간 가격. 천 달러 단위\n",
        "train_targets"
      ],
      "execution_count": 4,
      "outputs": [
        {
          "output_type": "execute_result",
          "data": {
            "text/plain": [
              "array([15.2, 42.3, 50. , 21.1, 17.7, 18.5, 11.3, 15.6, 15.6, 14.4, 12.1,\n",
              "       17.9, 23.1, 19.9, 15.7,  8.8, 50. , 22.5, 24.1, 27.5, 10.9, 30.8,\n",
              "       32.9, 24. , 18.5, 13.3, 22.9, 34.7, 16.6, 17.5, 22.3, 16.1, 14.9,\n",
              "       23.1, 34.9, 25. , 13.9, 13.1, 20.4, 20. , 15.2, 24.7, 22.2, 16.7,\n",
              "       12.7, 15.6, 18.4, 21. , 30.1, 15.1, 18.7,  9.6, 31.5, 24.8, 19.1,\n",
              "       22. , 14.5, 11. , 32. , 29.4, 20.3, 24.4, 14.6, 19.5, 14.1, 14.3,\n",
              "       15.6, 10.5,  6.3, 19.3, 19.3, 13.4, 36.4, 17.8, 13.5, 16.5,  8.3,\n",
              "       14.3, 16. , 13.4, 28.6, 43.5, 20.2, 22. , 23. , 20.7, 12.5, 48.5,\n",
              "       14.6, 13.4, 23.7, 50. , 21.7, 39.8, 38.7, 22.2, 34.9, 22.5, 31.1,\n",
              "       28.7, 46. , 41.7, 21. , 26.6, 15. , 24.4, 13.3, 21.2, 11.7, 21.7,\n",
              "       19.4, 50. , 22.8, 19.7, 24.7, 36.2, 14.2, 18.9, 18.3, 20.6, 24.6,\n",
              "       18.2,  8.7, 44. , 10.4, 13.2, 21.2, 37. , 30.7, 22.9, 20. , 19.3,\n",
              "       31.7, 32. , 23.1, 18.8, 10.9, 50. , 19.6,  5. , 14.4, 19.8, 13.8,\n",
              "       19.6, 23.9, 24.5, 25. , 19.9, 17.2, 24.6, 13.5, 26.6, 21.4, 11.9,\n",
              "       22.6, 19.6,  8.5, 23.7, 23.1, 22.4, 20.5, 23.6, 18.4, 35.2, 23.1,\n",
              "       27.9, 20.6, 23.7, 28. , 13.6, 27.1, 23.6, 20.6, 18.2, 21.7, 17.1,\n",
              "        8.4, 25.3, 13.8, 22.2, 18.4, 20.7, 31.6, 30.5, 20.3,  8.8, 19.2,\n",
              "       19.4, 23.1, 23. , 14.8, 48.8, 22.6, 33.4, 21.1, 13.6, 32.2, 13.1,\n",
              "       23.4, 18.9, 23.9, 11.8, 23.3, 22.8, 19.6, 16.7, 13.4, 22.2, 20.4,\n",
              "       21.8, 26.4, 14.9, 24.1, 23.8, 12.3, 29.1, 21. , 19.5, 23.3, 23.8,\n",
              "       17.8, 11.5, 21.7, 19.9, 25. , 33.4, 28.5, 21.4, 24.3, 27.5, 33.1,\n",
              "       16.2, 23.3, 48.3, 22.9, 22.8, 13.1, 12.7, 22.6, 15. , 15.3, 10.5,\n",
              "       24. , 18.5, 21.7, 19.5, 33.2, 23.2,  5. , 19.1, 12.7, 22.3, 10.2,\n",
              "       13.9, 16.3, 17. , 20.1, 29.9, 17.2, 37.3, 45.4, 17.8, 23.2, 29. ,\n",
              "       22. , 18. , 17.4, 34.6, 20.1, 25. , 15.6, 24.8, 28.2, 21.2, 21.4,\n",
              "       23.8, 31. , 26.2, 17.4, 37.9, 17.5, 20. ,  8.3, 23.9,  8.4, 13.8,\n",
              "        7.2, 11.7, 17.1, 21.6, 50. , 16.1, 20.4, 20.6, 21.4, 20.6, 36.5,\n",
              "        8.5, 24.8, 10.8, 21.9, 17.3, 18.9, 36.2, 14.9, 18.2, 33.3, 21.8,\n",
              "       19.7, 31.6, 24.8, 19.4, 22.8,  7.5, 44.8, 16.8, 18.7, 50. , 50. ,\n",
              "       19.5, 20.1, 50. , 17.2, 20.8, 19.3, 41.3, 20.4, 20.5, 13.8, 16.5,\n",
              "       23.9, 20.6, 31.5, 23.3, 16.8, 14. , 33.8, 36.1, 12.8, 18.3, 18.7,\n",
              "       19.1, 29. , 30.1, 50. , 50. , 22. , 11.9, 37.6, 50. , 22.7, 20.8,\n",
              "       23.5, 27.9, 50. , 19.3, 23.9, 22.6, 15.2, 21.7, 19.2, 43.8, 20.3,\n",
              "       33.2, 19.9, 22.5, 32.7, 22. , 17.1, 19. , 15. , 16.1, 25.1, 23.7,\n",
              "       28.7, 37.2, 22.6, 16.4, 25. , 29.8, 22.1, 17.4, 18.1, 30.3, 17.5,\n",
              "       24.7, 12.6, 26.5, 28.7, 13.3, 10.4, 24.4, 23. , 20. , 17.8,  7. ,\n",
              "       11.8, 24.4, 13.8, 19.4, 25.2, 19.4, 19.4, 29.1])"
            ]
          },
          "metadata": {
            "tags": []
          },
          "execution_count": 4
        }
      ]
    },
    {
      "cell_type": "code",
      "metadata": {
        "id": "WM1hIR3Q0ijy"
      },
      "source": [
        "# 데이터 정규화\n",
        "mean = train_data.mean(axis=0)\n",
        "train_data -= mean\n",
        "std = train_data.std(axis=0)\n",
        "train_data /= std\n",
        "\n",
        "test_data -= mean\n",
        "test_data /= std\n",
        "\n",
        "# 테스트 데이터를 정규화할 때 사용한 값이 훈련 데이터에서 계산한 값임을 주의\n",
        "# 절대로 테스트 데이터에서 계산한 어떤 값도 사용해서는 안됨"
      ],
      "execution_count": 3,
      "outputs": []
    },
    {
      "cell_type": "code",
      "metadata": {
        "id": "I2m2uMhd1P76"
      },
      "source": [
        "# 모델 정의\n",
        "from keras import models\n",
        "from keras import layers\n",
        "\n",
        "def build_model():\n",
        "  model = models.Sequential()\n",
        "  model.add(layers.Dense(64, activation='relu',\n",
        "                         input_shape=(train_data.shape[1],)))\n",
        "  model.add(layers.Dense(64, activation='relu'))\n",
        "  model.add(layers.Dense(1))\n",
        "  model.compile(optimizer='rmsprop', loss = 'mse', metrics =[keras.metrics.MAE])\n",
        "  return model\n",
        "\n",
        "# 마지막 층은 하나의 유닛을 가지고 있고 활성화 함수가 없음 = 선형층이라고 부름\n",
        "# 전형적인 스칼라 회귀(하나의 연속적인 값을 예측하는 회귀)를 위한 구성\n",
        "# 활성화 함수가 없어서 출력 값의 범위를 제한하지 않기 때문에 어떤 범위의 값이라도 예측하도록 자유롭게 학습됨\n",
        "# mse 손실 함수 = 평균 제곱 오차의 약어. 예측과 타깃 사이 거리의 제곱. 회귀 문제에서 널리 사용됨"
      ],
      "execution_count": 8,
      "outputs": []
    },
    {
      "cell_type": "code",
      "metadata": {
        "id": "nEB-TZLd2TG4"
      },
      "source": [
        "# 데이터 포인트가 많지 않기 때문에 검증 세트도 매우 작아짐(약 100개) -> 검증 세트와 훈련 세트로 어떤 데이터 포인트가 선택되었는지에 따라 검증 점수가 크게 달라짐.\n",
        "# 검증 세트의 분할에 대한 검증 점수의 분산이 높음 -> 신뢰있는 모델 평가를 할 수 없음 => K-겹 교차 검증이 가장 좋은 방법\n",
        "# 데이터를 K개의 분할(폴드 fold)로 나누고 K개의 모델을 각각 만들어 k-1개의 분할에서 훈련하고 나머지 분할에서 평가하는 방법. 모델의 검증 점수는 k개의 검증 점수 평균임."
      ],
      "execution_count": 7,
      "outputs": []
    },
    {
      "cell_type": "code",
      "metadata": {
        "colab": {
          "base_uri": "https://localhost:8080/"
        },
        "id": "ZMptwkty3qFn",
        "outputId": "f8bc99f2-ac54-418b-c660-e3e4e6eada69"
      },
      "source": [
        "# K-겹 검증하기\n",
        "import numpy as np\n",
        "\n",
        "k=4 # 일반적으로 4 또는 5\n",
        "num_val_samples = len(train_data) // k\n",
        "num_epochs = 100\n",
        "all_scores = []\n",
        "for i in range(k):\n",
        "  print('처리중인 폴드 #', i)\n",
        "  val_data = train_data[i*num_val_samples: (i+1)*num_val_samples]\n",
        "  val_targets = train_targets[i*num_val_samples: (i+1)*num_val_samples]\n",
        "\n",
        "  partial_train_data = np.concatenate( # 다른 분할 전체\n",
        "      [train_data[:i*num_val_samples],\n",
        "       train_data[(i+1)*num_val_samples:]],\n",
        "       axis = 0\n",
        "  ) \n",
        "  partial_train_targets = np.concatenate(\n",
        "      [train_targets[:i*num_val_samples],\n",
        "       train_targets[(i+1)*num_val_samples:]],\n",
        "       axis = 0\n",
        "  ) \n",
        "\n",
        "  model = build_model() # 케라스 모델 구성\n",
        "  history = model.fit(partial_train_data, partial_train_targets,\n",
        "            epochs=num_epochs, batch_size = 1, verbose=0)\n",
        "  val_mse, val_mae = model.evaluate(val_data, val_targets, verbose=0)\n",
        "  all_scores.append(val_mae)"
      ],
      "execution_count": 14,
      "outputs": [
        {
          "output_type": "stream",
          "text": [
            "처리중인 폴드 # 0\n",
            "처리중인 폴드 # 1\n",
            "처리중인 폴드 # 2\n",
            "처리중인 폴드 # 3\n"
          ],
          "name": "stdout"
        }
      ]
    },
    {
      "cell_type": "code",
      "metadata": {
        "colab": {
          "base_uri": "https://localhost:8080/"
        },
        "id": "ciybd9ew_h-y",
        "outputId": "46574818-1c7f-46fa-d1bf-aa62692db84e"
      },
      "source": [
        "history.history"
      ],
      "execution_count": 15,
      "outputs": [
        {
          "output_type": "execute_result",
          "data": {
            "text/plain": [
              "{'loss': [149.85765075683594,\n",
              "  117.02383422851562,\n",
              "  98.28941345214844,\n",
              "  91.44205474853516,\n",
              "  79.91923522949219,\n",
              "  68.23530578613281,\n",
              "  63.83069610595703,\n",
              "  59.357582092285156,\n",
              "  56.611942291259766,\n",
              "  51.868106842041016,\n",
              "  47.627071380615234,\n",
              "  46.322998046875,\n",
              "  45.320709228515625,\n",
              "  38.2877197265625,\n",
              "  40.78493118286133,\n",
              "  37.73298263549805,\n",
              "  35.19384002685547,\n",
              "  33.607723236083984,\n",
              "  30.971715927124023,\n",
              "  32.47943878173828,\n",
              "  29.317279815673828,\n",
              "  29.50950050354004,\n",
              "  29.196147918701172,\n",
              "  27.803281784057617,\n",
              "  28.410409927368164,\n",
              "  26.858837127685547,\n",
              "  25.846176147460938,\n",
              "  23.020099639892578,\n",
              "  24.043258666992188,\n",
              "  24.042402267456055,\n",
              "  24.780439376831055,\n",
              "  22.296005249023438,\n",
              "  24.674591064453125,\n",
              "  23.575366973876953,\n",
              "  22.653369903564453,\n",
              "  22.298702239990234,\n",
              "  21.088186264038086,\n",
              "  21.377382278442383,\n",
              "  21.16936492919922,\n",
              "  22.634803771972656,\n",
              "  19.805126190185547,\n",
              "  19.26504898071289,\n",
              "  19.75824546813965,\n",
              "  17.62645149230957,\n",
              "  19.275800704956055,\n",
              "  18.99015998840332,\n",
              "  20.460397720336914,\n",
              "  20.75163459777832,\n",
              "  19.797773361206055,\n",
              "  19.635208129882812,\n",
              "  19.459957122802734,\n",
              "  17.59170150756836,\n",
              "  19.417978286743164,\n",
              "  20.049421310424805,\n",
              "  17.34325408935547,\n",
              "  17.885360717773438,\n",
              "  18.75283432006836,\n",
              "  18.819082260131836,\n",
              "  18.544490814208984,\n",
              "  18.104528427124023,\n",
              "  18.381389617919922,\n",
              "  15.463171005249023,\n",
              "  17.038755416870117,\n",
              "  17.095035552978516,\n",
              "  18.16419219970703,\n",
              "  16.033824920654297,\n",
              "  16.871379852294922,\n",
              "  17.781335830688477,\n",
              "  15.343925476074219,\n",
              "  17.634334564208984,\n",
              "  17.38157081604004,\n",
              "  15.990056991577148,\n",
              "  17.465856552124023,\n",
              "  17.142627716064453,\n",
              "  18.43510627746582,\n",
              "  17.267148971557617,\n",
              "  16.124711990356445,\n",
              "  16.927600860595703,\n",
              "  15.421749114990234,\n",
              "  15.573657989501953,\n",
              "  16.28775405883789,\n",
              "  16.548463821411133,\n",
              "  15.83004093170166,\n",
              "  17.9238224029541,\n",
              "  15.68701457977295,\n",
              "  16.363262176513672,\n",
              "  17.527877807617188,\n",
              "  15.110031127929688,\n",
              "  18.22588348388672,\n",
              "  16.66934585571289,\n",
              "  16.760107040405273,\n",
              "  16.65815544128418,\n",
              "  15.2151517868042,\n",
              "  16.847434997558594,\n",
              "  16.114826202392578,\n",
              "  16.952392578125,\n",
              "  15.416275024414062,\n",
              "  16.04389762878418,\n",
              "  15.389337539672852,\n",
              "  15.603398323059082],\n",
              " 'mean_absolute_error': [8.697267532348633,\n",
              "  7.946452617645264,\n",
              "  7.475176811218262,\n",
              "  7.0146636962890625,\n",
              "  6.582305431365967,\n",
              "  5.894939422607422,\n",
              "  5.938930034637451,\n",
              "  5.58030366897583,\n",
              "  5.3033976554870605,\n",
              "  5.200382232666016,\n",
              "  5.083956241607666,\n",
              "  4.811665058135986,\n",
              "  4.7743024826049805,\n",
              "  4.441293239593506,\n",
              "  4.6124701499938965,\n",
              "  4.387635231018066,\n",
              "  4.049464702606201,\n",
              "  4.148911952972412,\n",
              "  3.9319894313812256,\n",
              "  4.0912861824035645,\n",
              "  3.8321855068206787,\n",
              "  4.018542766571045,\n",
              "  3.7787981033325195,\n",
              "  3.792492151260376,\n",
              "  3.8261947631835938,\n",
              "  3.7543811798095703,\n",
              "  3.5302391052246094,\n",
              "  3.5110878944396973,\n",
              "  3.5010414123535156,\n",
              "  3.5850729942321777,\n",
              "  3.4461331367492676,\n",
              "  3.4396042823791504,\n",
              "  3.6518735885620117,\n",
              "  3.424360752105713,\n",
              "  3.3219544887542725,\n",
              "  3.41412615776062,\n",
              "  3.309199571609497,\n",
              "  3.3624489307403564,\n",
              "  3.3029122352600098,\n",
              "  3.3755297660827637,\n",
              "  3.208667516708374,\n",
              "  3.1156067848205566,\n",
              "  3.1618168354034424,\n",
              "  2.997997999191284,\n",
              "  3.056300640106201,\n",
              "  3.1731081008911133,\n",
              "  3.2613446712493896,\n",
              "  3.1810293197631836,\n",
              "  3.1314704418182373,\n",
              "  3.1019668579101562,\n",
              "  2.955061912536621,\n",
              "  3.0255541801452637,\n",
              "  3.081519603729248,\n",
              "  3.121908664703369,\n",
              "  2.953394651412964,\n",
              "  3.0600078105926514,\n",
              "  2.9637203216552734,\n",
              "  3.115588426589966,\n",
              "  3.0505053997039795,\n",
              "  3.016385793685913,\n",
              "  3.062201738357544,\n",
              "  2.8833138942718506,\n",
              "  2.981658935546875,\n",
              "  2.9051289558410645,\n",
              "  2.9388461112976074,\n",
              "  2.887716293334961,\n",
              "  2.9452767372131348,\n",
              "  3.0085909366607666,\n",
              "  2.786616563796997,\n",
              "  2.8957278728485107,\n",
              "  2.9043784141540527,\n",
              "  2.8606412410736084,\n",
              "  2.9066402912139893,\n",
              "  2.9834892749786377,\n",
              "  2.8931641578674316,\n",
              "  2.950315475463867,\n",
              "  2.837425947189331,\n",
              "  3.026489734649658,\n",
              "  2.861255407333374,\n",
              "  2.870737314224243,\n",
              "  2.7455928325653076,\n",
              "  2.934039354324341,\n",
              "  2.8953559398651123,\n",
              "  2.846175193786621,\n",
              "  2.886838912963867,\n",
              "  2.7700612545013428,\n",
              "  2.832071542739868,\n",
              "  2.7919857501983643,\n",
              "  2.9248106479644775,\n",
              "  2.9051740169525146,\n",
              "  2.822786331176758,\n",
              "  2.8498218059539795,\n",
              "  2.8851728439331055,\n",
              "  2.8566393852233887,\n",
              "  2.8040857315063477,\n",
              "  2.8102073669433594,\n",
              "  2.721221685409546,\n",
              "  2.8349180221557617,\n",
              "  2.7934224605560303,\n",
              "  2.748663902282715]}"
            ]
          },
          "metadata": {
            "tags": []
          },
          "execution_count": 15
        }
      ]
    },
    {
      "cell_type": "code",
      "metadata": {
        "colab": {
          "base_uri": "https://localhost:8080/"
        },
        "id": "hVIr4vVy5rll",
        "outputId": "00df56ba-8e07-41e8-d1e8-3cade4d23215"
      },
      "source": [
        "all_scores"
      ],
      "execution_count": 9,
      "outputs": [
        {
          "output_type": "execute_result",
          "data": {
            "text/plain": [
              "[2.0616257190704346, 2.5026261806488037, 2.474949359893799, 2.685807228088379]"
            ]
          },
          "metadata": {
            "tags": []
          },
          "execution_count": 9
        }
      ]
    },
    {
      "cell_type": "code",
      "metadata": {
        "colab": {
          "base_uri": "https://localhost:8080/"
        },
        "id": "jA6yeiFQBkdn",
        "outputId": "a4f8d5e1-f929-44c3-ef71-2630df0292eb"
      },
      "source": [
        "np.mean(all_scores)"
      ],
      "execution_count": 10,
      "outputs": [
        {
          "output_type": "execute_result",
          "data": {
            "text/plain": [
              "2.431252121925354"
            ]
          },
          "metadata": {
            "tags": []
          },
          "execution_count": 10
        }
      ]
    },
    {
      "cell_type": "code",
      "metadata": {
        "colab": {
          "base_uri": "https://localhost:8080/"
        },
        "id": "IBLjk7NsBnKR",
        "outputId": "0cb23e41-4285-443c-f39d-510dce910af4"
      },
      "source": [
        "# 각 폴드에서 검증 점수를 로그에 저장\n",
        "num_epochs = 500\n",
        "all_mae_histories = []\n",
        "for i in range(k):\n",
        "  print('처리중인 폴드 #', i)\n",
        "  val_data = train_data[i*num_val_samples: (i+1)*num_val_samples]\n",
        "  val_targets = train_targets[i*num_val_samples: (i+1)*num_val_samples]\n",
        "\n",
        "  partial_train_data = np.concatenate( # 다른 분할 전체\n",
        "      [train_data[:i*num_val_samples],\n",
        "       train_data[(i+1)*num_val_samples:]],\n",
        "       axis = 0\n",
        "  ) \n",
        "  partial_train_targets = np.concatenate(\n",
        "      [train_targets[:i*num_val_samples],\n",
        "       train_targets[(i+1)*num_val_samples:]],\n",
        "       axis = 0) \n",
        "\n",
        "  model = build_model() # 케라스 모델 구성\n",
        "  history = model.fit(partial_train_data, partial_train_targets,\n",
        "                      validation_data = (val_data, val_targets),\n",
        "                      epochs=num_epochs, batch_size=1, verbose=0)\n",
        "  mae_history = history.history['val_mean_absolute_error']\n",
        "  all_mae_histories.append(mae_history)"
      ],
      "execution_count": 17,
      "outputs": [
        {
          "output_type": "stream",
          "text": [
            "처리중인 폴드 # 0\n",
            "처리중인 폴드 # 1\n",
            "처리중인 폴드 # 2\n",
            "처리중인 폴드 # 3\n"
          ],
          "name": "stdout"
        }
      ]
    },
    {
      "cell_type": "code",
      "metadata": {
        "id": "KL63KW-tULAV"
      },
      "source": [
        "history.history"
      ],
      "execution_count": null,
      "outputs": []
    },
    {
      "cell_type": "code",
      "metadata": {
        "id": "G80WJY6-B-Pl"
      },
      "source": [
        "# k-겹 검증 점수 평균 기록\n",
        "average_mae_history = [np.mean([x[i] for x in all_mae_histories]) for i in range(num_epochs)]"
      ],
      "execution_count": 18,
      "outputs": []
    },
    {
      "cell_type": "code",
      "metadata": {
        "id": "lMSapAudCP8w",
        "colab": {
          "base_uri": "https://localhost:8080/",
          "height": 279
        },
        "outputId": "19657374-2df7-4fbe-d0a9-304b2033e226"
      },
      "source": [
        "# 검증 점수 그래프\n",
        "import matplotlib.pyplot as plt\n",
        "\n",
        "plt.plot(range(1, len(average_mae_history) + 1), average_mae_history)\n",
        "plt.xlabel('Epochs')\n",
        "plt.ylabel('Validation MAE')\n",
        "plt.show()"
      ],
      "execution_count": 20,
      "outputs": [
        {
          "output_type": "display_data",
          "data": {
            "image/png": "[encoded data removed]",
            "text/plain": [
              "<Figure size 432x288 with 1 Axes>"
            ]
          },
          "metadata": {
            "tags": [],
            "needs_background": "light"
          }
        }
      ]
    },
    {
      "cell_type": "code",
      "metadata": {
        "id": "l-MRTR1RCmfK",
        "colab": {
          "base_uri": "https://localhost:8080/",
          "height": 279
        },
        "outputId": "074fd8ed-030b-4a3b-e091-27b3be52c624"
      },
      "source": [
        "# 처음 10개의 데이터 포인트를 제외한 검증 점수 그리기\n",
        "def smooth_curve(points, factor=0.9):\n",
        "  smoothed_points = []\n",
        "  for point in points:\n",
        "    if smoothed_points:\n",
        "      previous = smoothed_points[-1]\n",
        "      smoothed_points.append(previous * factor + point * (1-factor))\n",
        "    else:\n",
        "      smoothed_points.append(point)\n",
        "  return smoothed_points\n",
        "\n",
        "smooth_mae_history = smooth_curve(average_mae_history[10:])\n",
        "\n",
        "plt.plot(range(1, len(smooth_mae_history) + 1), smooth_mae_history)\n",
        "plt.xlabel('Epochs')\n",
        "plt.ylabel('Validation MAE')\n",
        "plt.show()"
      ],
      "execution_count": 21,
      "outputs": [
        {
          "output_type": "display_data",
          "data": {
            "image/png": "[encoded data removed]",
            "text/plain": [
              "<Figure size 432x288 with 1 Axes>"
            ]
          },
          "metadata": {
            "tags": [],
            "needs_background": "light"
          }
        }
      ]
    },
    {
      "cell_type": "code",
      "metadata": {
        "id": "NOl4dR7yMKRe"
      },
      "source": [
        ""
      ],
      "execution_count": null,
      "outputs": []
    }
  ]
}