{
 "cells": [
  {
   "cell_type": "code",
   "execution_count": 17,
   "id": "0f42d707-a4b8-489e-ab88-9209c14a0b26",
   "metadata": {},
   "outputs": [],
   "source": [
    "#mnist\n",
    "from keras.datasets import mnist\n",
    "(train_images, train_labels), (test_images, test_labels)=mnist.load_data()"
   ]
  },
  {
   "cell_type": "code",
   "execution_count": 18,
   "id": "51f3670a-6951-4539-92d7-1ac5344e1ece",
   "metadata": {},
   "outputs": [
    {
     "data": {
      "text/plain": [
       "(60000, 28, 28)"
      ]
     },
     "execution_count": 18,
     "metadata": {},
     "output_type": "execute_result"
    }
   ],
   "source": [
    "train_images.shape"
   ]
  },
  {
   "cell_type": "code",
   "execution_count": 19,
   "id": "3f3009f4-1c65-49bd-94e4-145d75ab47c3",
   "metadata": {},
   "outputs": [
    {
     "name": "stdout",
     "output_type": "stream",
     "text": [
      "uint8\n"
     ]
    }
   ],
   "source": [
    "print(train_images.dtype)"
   ]
  },
  {
   "cell_type": "code",
   "execution_count": 20,
   "id": "0c273a87-be94-4968-b107-792a062e73db",
   "metadata": {},
   "outputs": [
    {
     "data": {
      "text/plain": [
       "array([7, 2, 1, ..., 4, 5, 6], dtype=uint8)"
      ]
     },
     "execution_count": 20,
     "metadata": {},
     "output_type": "execute_result"
    }
   ],
   "source": [
    "test_labels"
   ]
  },
  {
   "cell_type": "code",
   "execution_count": 7,
   "id": "d51b0226-e4ab-4b2c-8bcd-bb4b570ff726",
   "metadata": {},
   "outputs": [
    {
     "data": {
      "image/png": "[encoded data removed]",
      "text/plain": [
       "<Figure size 432x288 with 1 Axes>"
      ]
     },
     "metadata": {
      "needs_background": "light"
     },
     "output_type": "display_data"
    }
   ],
   "source": [
    "digit=train_images[4]\n",
    "import matplotlib.pyplot as plt\n",
    "plt.imshow(digit, cmap=plt.cm.binary)\n",
    "plt.show()"
   ]
  },
  {
   "cell_type": "code",
   "execution_count": 4,
   "id": "ff501dd8-14c8-4c23-b3c2-6692755f817f",
   "metadata": {},
   "outputs": [],
   "source": [
    "# 신경망 구조\n",
    "from keras import models\n",
    "from keras import layers\n",
    "\n",
    "network = models.Sequential()\n",
    "network.add(layers.Dense(512, activation='relu', input_shape=(28*28,)))\n",
    "network.add(layers.Dense(10, activation='softmax')) #10개의 확률점수가 들어있는 배열, 2번째 Dense"
   ]
  },
  {
   "cell_type": "code",
   "execution_count": 5,
   "id": "40ce76e6-e74e-41da-88ff-663bed038867",
   "metadata": {},
   "outputs": [],
   "source": [
    "#컴파일\n",
    "network.compile(optimizer='rmsprop',\n",
    "               loss='categorical_crossentropy',\n",
    "               metrics=['accuracy'])"
   ]
  },
  {
   "cell_type": "code",
   "execution_count": 6,
   "id": "f4396ce9-f11a-4882-a114-af2b0e4eb18b",
   "metadata": {},
   "outputs": [],
   "source": [
    "#이미지 데이터 준비\n",
    "train_images = train_images.reshape((60000, 28*28))\n",
    "train_images = train_images.astype('float32')/255\n",
    "\n",
    "test_images = test_images.reshape((10000,28*28))\n",
    "test_images = test_images.astype('float32')/255"
   ]
  },
  {
   "cell_type": "code",
   "execution_count": 7,
   "id": "b5fa851d-a91e-4b34-9bda-e35f88930329",
   "metadata": {},
   "outputs": [],
   "source": [
    "#레이블 준비\n",
    "from keras.utils import to_categorical\n",
    "\n",
    "train_labels = to_categorical(train_labels)\n",
    "test_labels = to_categorical(test_labels)"
   ]
  },
  {
   "cell_type": "code",
   "execution_count": 8,
   "id": "8b0f250c-ccbb-4ef4-9b68-556e54da8778",
   "metadata": {},
   "outputs": [
    {
     "name": "stdout",
     "output_type": "stream",
     "text": [
      "Epoch 1/5\n",
      "60000/60000 [==============================] - 5s 91us/step - loss: 0.2538 - accuracy: 0.9265\n",
      "Epoch 2/5\n",
      "60000/60000 [==============================] - 6s 108us/step - loss: 0.1039 - accuracy: 0.9691\n",
      "Epoch 3/5\n",
      "60000/60000 [==============================] - 7s 112us/step - loss: 0.0685 - accuracy: 0.9796\n",
      "Epoch 4/5\n",
      "60000/60000 [==============================] - ETA: 0s - loss: 0.0493 - accuracy: 0.9856 ETA: 1s - loss: 0.0484 - ac - 8s 131us/step - loss: 0.0494 - accuracy: 0.9856\n",
      "Epoch 5/5\n",
      "60000/60000 [==============================] - 7s 116us/step - loss: 0.0369 - accuracy: 0.9889\n"
     ]
    },
    {
     "data": {
      "text/plain": [
       "<keras.callbacks.callbacks.History at 0x14d3a1317f0>"
      ]
     },
     "execution_count": 8,
     "metadata": {},
     "output_type": "execute_result"
    }
   ],
   "source": [
    "network.fit(train_images, train_labels, epochs=5, batch_size=128)"
   ]
  },
  {
   "cell_type": "code",
   "execution_count": 9,
   "id": "8f4bc039-adaf-42a8-825a-3f99fa5d8be2",
   "metadata": {},
   "outputs": [
    {
     "name": "stdout",
     "output_type": "stream",
     "text": [
      "10000/10000 [==============================] - 0s 47us/step\n"
     ]
    }
   ],
   "source": [
    "test_loss, test_acc = network.evaluate(test_images, test_labels)"
   ]
  },
  {
   "cell_type": "code",
   "execution_count": 10,
   "id": "3eb154f9-9163-4a4f-9a8b-4863a9552abc",
   "metadata": {},
   "outputs": [
    {
     "name": "stdout",
     "output_type": "stream",
     "text": [
      "test_acc: 0.9811000227928162\n"
     ]
    }
   ],
   "source": [
    "print('test_acc:',test_acc)"
   ]
  },
  {
   "cell_type": "code",
   "execution_count": 1,
   "id": "cfb12353-c0fa-4641-ab5a-6aca12835946",
   "metadata": {},
   "outputs": [
    {
     "name": "stderr",
     "output_type": "stream",
     "text": [
      "Using TensorFlow backend.\n",
      "C:\\Users\\User\\anaconda3\\envs\\ai\\lib\\site-packages\\keras\\datasets\\imdb.py:101: VisibleDeprecationWarning: Creating an ndarray from ragged nested sequences (which is a list-or-tuple of lists-or-tuples-or ndarrays with different lengths or shapes) is deprecated. If you meant to do this, you must specify 'dtype=object' when creating the ndarray\n",
      "  x_train, y_train = np.array(xs[:idx]), np.array(labels[:idx])\n",
      "C:\\Users\\User\\anaconda3\\envs\\ai\\lib\\site-packages\\keras\\datasets\\imdb.py:102: VisibleDeprecationWarning: Creating an ndarray from ragged nested sequences (which is a list-or-tuple of lists-or-tuples-or ndarrays with different lengths or shapes) is deprecated. If you meant to do this, you must specify 'dtype=object' when creating the ndarray\n",
      "  x_test, y_test = np.array(xs[idx:]), np.array(labels[idx:])\n"
     ]
    }
   ],
   "source": [
    "#영화\n",
    "from keras.datasets import imdb\n",
    "\n",
    "(train_data, train_labels), (test_data, test_labels)=imdb.load_data(num_words=10000)"
   ]
  },
  {
   "cell_type": "markdown",
   "id": "2e56f785-a384-42a6-b960-69768b65f956",
   "metadata": {},
   "source": [
    "train_labels와 test_labels는 부정을 나타내는 0과 긍정을 나타내는 1의 리스트이다"
   ]
  },
  {
   "cell_type": "code",
   "execution_count": 2,
   "id": "09072e83-7bab-489d-b6c7-64860cfd974b",
   "metadata": {},
   "outputs": [
    {
     "data": {
      "text/plain": [
       "array([1, 0, 0, ..., 0, 1, 0], dtype=int64)"
      ]
     },
     "execution_count": 2,
     "metadata": {},
     "output_type": "execute_result"
    }
   ],
   "source": [
    "train_labels[0:]"
   ]
  },
  {
   "cell_type": "code",
   "execution_count": 3,
   "id": "ad6b9064-76e8-4d6b-9b41-2977b4f8feef",
   "metadata": {},
   "outputs": [
    {
     "data": {
      "text/plain": [
       "9999"
      ]
     },
     "execution_count": 3,
     "metadata": {},
     "output_type": "execute_result"
    }
   ],
   "source": [
    "max([max(sequence) for sequence in train_data])"
   ]
  },
  {
   "cell_type": "code",
   "execution_count": 4,
   "id": "a9687f4f-3e8e-4979-bcd7-3d3a81a2ddf0",
   "metadata": {},
   "outputs": [],
   "source": [
    "word_index = imdb.get_word_index()\n",
    "reverse_word_index = dict([(value, key) for (key, value) in word_index.items()])\n",
    "decoded_review = ' '.join([reverse_word_index.get(i - 3, '?') for i in train_data[0]])"
   ]
  },
  {
   "cell_type": "markdown",
   "id": "6828c3fc-bc66-4af4-9eea-6d0d1a02034b",
   "metadata": {},
   "source": [
    "리스트를 텐서로 바꾸는 방법\n",
    "* 같은 길이가 되도록 리스트에 패딩(padding)을 추가하고 (samples, sequence_length)크기의 정수텐서로 변환한다. 그 다음 이 정수텐서를 다룰 수 있는 층을 신경망의 첫 번째 층으로 사용한다\n",
    "\n",
    "* 리스트를 원 핫 인코딩(one-hot encoding)해서 0과 1의 벡터로 변환한다. 예를 들어 시퀀스[3, 5]를 인덱스 3과 5의 위치는 1이고 그 외는 모두 0인 10000차원의 벡터로 각각 변환한 후 부동소수 벡터데이터를 다룰 수 있는 Dense층을 신경망의 첫 번째 층으로 사용한다"
   ]
  },
  {
   "cell_type": "code",
   "execution_count": 5,
   "id": "1ffb40c6-8d90-4ffc-bfa5-65817fbafc36",
   "metadata": {},
   "outputs": [],
   "source": [
    "#데이터 원 핫 벡터로 만들기(두번째 방식)\n",
    "import numpy as np\n",
    "\n",
    "def vectorize_sequences(sequences, dimension=10000):\n",
    "    \n",
    "    results = np.zeros((len(sequences), dimension))\n",
    "    for i, sequence in enumerate(sequences):\n",
    "\n",
    "        results[i, sequence] = 1.\n",
    "    return results\n",
    "\n",
    "x_train = vectorize_sequences(train_data)\n",
    "x_test = vectorize_sequences(test_data)"
   ]
  },
  {
   "cell_type": "code",
   "execution_count": 6,
   "id": "771937dc-514c-4b26-92ee-59aff8200f55",
   "metadata": {},
   "outputs": [],
   "source": [
    "y_train = np.asarray(train_labels).astype('float32')\n",
    "y_test = np.asarray(test_labels).astype('float32')"
   ]
  },
  {
   "cell_type": "code",
   "execution_count": 7,
   "id": "00c7b3cc-0e23-45f0-ac24-5172772f13ac",
   "metadata": {},
   "outputs": [],
   "source": [
    "from keras import models\n",
    "from keras import layers\n",
    "\n",
    "model = models.Sequential()\n",
    "model.add(layers.Dense(16, activation = 'relu', input_shape=(10000,)))\n",
    "model.add(layers.Dense(16, activation = 'relu'))\n",
    "model.add(layers.Dense(1, activation = 'sigmoid'))"
   ]
  },
  {
   "cell_type": "code",
   "execution_count": 8,
   "id": "20c4f9e8-e0d9-44d5-8f49-5db7abd208f4",
   "metadata": {},
   "outputs": [],
   "source": [
    "model.compile(optimizer='rmsprop',\n",
    "              loss='binary_crossentropy',\n",
    "              metrics=['accuracy'])"
   ]
  },
  {
   "cell_type": "code",
   "execution_count": 9,
   "id": "1609187c-cb37-4536-b361-98a9a82d8caa",
   "metadata": {},
   "outputs": [],
   "source": [
    "#옵티마이저 설정\n",
    "from keras import optimizers\n",
    "model.compile(optimizer=optimizers.RMSprop(learning_rate=0.001),\n",
    "              loss='binary_crossentropy',\n",
    "              metrics=['accuracy'])"
   ]
  },
  {
   "cell_type": "markdown",
   "id": "7db54b32-99ac-48a5-bf86-a51f848703d1",
   "metadata": {},
   "source": [
    "* 손실함수: 훈련데이터에서 신경망의 성능을 측정하는 방식으로 네트워크가 옳은 방향으로 학습될 수 있도록 도와줌\n",
    "* 옵티마이저: 입력된 데이터와 손실함수를 기반으로 네트워크를 업데이트하는 메커니즘"
   ]
  },
  {
   "cell_type": "code",
   "execution_count": 10,
   "id": "8b6e8394-779e-4288-af24-5d005c3880bd",
   "metadata": {},
   "outputs": [],
   "source": [
    "#손실과 측정을 함수 객체로 지정\n",
    "from keras import losses\n",
    "from keras import metrics\n",
    "model.compile(optimizer=optimizers.RMSprop(learning_rate=0.001),\n",
    "              loss=losses.binary_crossentropy,\n",
    "              metrics=[metrics.binary_accuracy])"
   ]
  },
  {
   "cell_type": "code",
   "execution_count": 11,
   "id": "220b01ba-b5f8-4e54-8242-8a2b153c25ea",
   "metadata": {},
   "outputs": [],
   "source": [
    "#훈련 검증-검증 세트준비\n",
    "x_val = x_train[:10000]\n",
    "partial_x_train = x_train[10000:]\n",
    "y_val = y_train[:10000]\n",
    "partial_y_train = y_train[10000:]"
   ]
  },
  {
   "cell_type": "markdown",
   "id": "60b1ebb3-7def-4746-a89c-88735a6df932",
   "metadata": {},
   "source": [
    "전체 훈련 데이터에 수행되는 각 반복을 에포크(epoch)라고 한다"
   ]
  },
  {
   "cell_type": "code",
   "execution_count": 12,
   "id": "d2381735-2577-4a3f-8004-6a17a6a728d1",
   "metadata": {},
   "outputs": [
    {
     "name": "stdout",
     "output_type": "stream",
     "text": [
      "Train on 15000 samples, validate on 10000 samples\n",
      "Epoch 1/20\n",
      "15000/15000 [==============================] - 5s 338us/step - loss: 0.5160 - acc: 0.7847 - val_loss: 0.3876 - val_acc: 0.8727\n",
      "Epoch 2/20\n",
      "15000/15000 [==============================] - 2s 136us/step - loss: 0.3061 - acc: 0.9019 - val_loss: 0.3101 - val_acc: 0.8818\n",
      "Epoch 3/20\n",
      "15000/15000 [==============================] - 2s 131us/step - loss: 0.2210 - acc: 0.9289 - val_loss: 0.2905 - val_acc: 0.8839\n",
      "Epoch 4/20\n",
      "15000/15000 [==============================] - 2s 135us/step - loss: 0.1763 - acc: 0.9399 - val_loss: 0.2948 - val_acc: 0.8801\n",
      "Epoch 5/20\n",
      "15000/15000 [==============================] - 2s 118us/step - loss: 0.1436 - acc: 0.9541 - val_loss: 0.2950 - val_acc: 0.8835\n",
      "Epoch 6/20\n",
      "15000/15000 [==============================] - 2s 116us/step - loss: 0.1160 - acc: 0.9661 - val_loss: 0.3543 - val_acc: 0.8642\n",
      "Epoch 7/20\n",
      "15000/15000 [==============================] - 2s 118us/step - loss: 0.0961 - acc: 0.9712 - val_loss: 0.3118 - val_acc: 0.8841\n",
      "Epoch 8/20\n",
      "15000/15000 [==============================] - 2s 117us/step - loss: 0.0787 - acc: 0.9781 - val_loss: 0.3295 - val_acc: 0.8802\n",
      "Epoch 9/20\n",
      "15000/15000 [==============================] - 2s 120us/step - loss: 0.0622 - acc: 0.9838 - val_loss: 0.3673 - val_acc: 0.8772\n",
      "Epoch 10/20\n",
      "15000/15000 [==============================] - 2s 122us/step - loss: 0.0530 - acc: 0.9875 - val_loss: 0.3985 - val_acc: 0.8753\n",
      "Epoch 11/20\n",
      "15000/15000 [==============================] - 2s 121us/step - loss: 0.0413 - acc: 0.9912 - val_loss: 0.4100 - val_acc: 0.8760\n",
      "Epoch 12/20\n",
      "15000/15000 [==============================] - 2s 117us/step - loss: 0.0323 - acc: 0.9942 - val_loss: 0.4466 - val_acc: 0.8735\n",
      "Epoch 13/20\n",
      "15000/15000 [==============================] - 2s 118us/step - loss: 0.0263 - acc: 0.9956 - val_loss: 0.4833 - val_acc: 0.8674\n",
      "Epoch 14/20\n",
      "15000/15000 [==============================] - 2s 129us/step - loss: 0.0204 - acc: 0.9965 - val_loss: 0.5048 - val_acc: 0.8694\n",
      "Epoch 15/20\n",
      "15000/15000 [==============================] - 2s 124us/step - loss: 0.0173 - acc: 0.9967 - val_loss: 0.5404 - val_acc: 0.8712\n",
      "Epoch 16/20\n",
      "15000/15000 [==============================] - 2s 120us/step - loss: 0.0122 - acc: 0.9985 - val_loss: 0.5662 - val_acc: 0.8693\n",
      "Epoch 17/20\n",
      "15000/15000 [==============================] - 2s 120us/step - loss: 0.0082 - acc: 0.9993 - val_loss: 0.6047 - val_acc: 0.8673\n",
      "Epoch 18/20\n",
      "15000/15000 [==============================] - 2s 117us/step - loss: 0.0078 - acc: 0.9989 - val_loss: 0.6413 - val_acc: 0.8679\n",
      "Epoch 19/20\n",
      "15000/15000 [==============================] - 2s 117us/step - loss: 0.0040 - acc: 0.9999 - val_loss: 0.7139 - val_acc: 0.8590\n",
      "Epoch 20/20\n",
      "15000/15000 [==============================] - 2s 133us/step - loss: 0.0062 - acc: 0.9990 - val_loss: 0.7239 - val_acc: 0.8663\n"
     ]
    }
   ],
   "source": [
    "# 모델 훈련\n",
    "model.compile(optimizer='rmsprop',\n",
    "              loss='binary_crossentropy',\n",
    "              metrics=['acc'])\n",
    "\n",
    "history = model.fit(partial_x_train,\n",
    "                    partial_y_train,\n",
    "                    epochs = 20,\n",
    "                    batch_size = 512,\n",
    "                    validation_data = (x_val, y_val))"
   ]
  },
  {
   "cell_type": "code",
   "execution_count": 13,
   "id": "e6471b82-e6a6-4e9f-b419-2da639291338",
   "metadata": {},
   "outputs": [
    {
     "data": {
      "text/plain": [
       "dict_keys(['val_loss', 'val_acc', 'loss', 'acc'])"
      ]
     },
     "execution_count": 13,
     "metadata": {},
     "output_type": "execute_result"
    }
   ],
   "source": [
    "history_dict = history.history\n",
    "history_dict.keys()"
   ]
  },
  {
   "cell_type": "code",
   "execution_count": 14,
   "id": "5ef23edd-8f16-49af-b41a-9359d42089a9",
   "metadata": {},
   "outputs": [
    {
     "data": {
      "text/plain": [
       "<function matplotlib.pyplot.show(close=None, block=None)>"
      ]
     },
     "execution_count": 14,
     "metadata": {},
     "output_type": "execute_result"
    },
    {
     "data": {
      "image/png": "[encoded data removed]",
      "text/plain": [
       "<Figure size 432x288 with 1 Axes>"
      ]
     },
     "metadata": {
      "needs_background": "light"
     },
     "output_type": "display_data"
    }
   ],
   "source": [
    "#훈련과 검증손실 그리기\n",
    "import matplotlib.pyplot as plt\n",
    "\n",
    "history_dict = history.history\n",
    "loss = history_dict['loss']\n",
    "val_loss = history_dict['val_loss']\n",
    "\n",
    "epochs = range(1, len(loss) + 1)\n",
    "\n",
    "plt.plot(epochs, loss, 'bo', label='Training looss')\n",
    "plt.plot(epochs, val_loss, 'b', label='Validation loss')\n",
    "plt.title('Training and validation loss')\n",
    "plt.xlabel('Epochs')\n",
    "plt.ylabel('Loss')\n",
    "plt.legend()\n",
    "\n",
    "plt.show"
   ]
  },
  {
   "cell_type": "code",
   "execution_count": 15,
   "id": "efd96e3a-c513-467a-8ab9-a429c2bdacae",
   "metadata": {},
   "outputs": [
    {
     "data": {
      "text/plain": [
       "<function matplotlib.pyplot.show(close=None, block=None)>"
      ]
     },
     "execution_count": 15,
     "metadata": {},
     "output_type": "execute_result"
    },
    {
     "data": {
      "image/png": "[encoded data removed]",
      "text/plain": [
       "<Figure size 432x288 with 1 Axes>"
      ]
     },
     "metadata": {
      "needs_background": "light"
     },
     "output_type": "display_data"
    }
   ],
   "source": [
    "#훈련과 검증 정확도 그리기\n",
    "plt.clf() # 그래프 초기화하기\n",
    "acc = history_dict['acc']\n",
    "val_acc = history_dict['val_acc']\n",
    "\n",
    "plt.plot(epochs, acc, 'bo', label='Training acc')\n",
    "plt.plot(epochs, val_acc, 'b', label='Validation acc')\n",
    "plt.title('Training and validation accuracy')\n",
    "plt.xlabel('Epochs')\n",
    "plt.ylabel('Accuracy')\n",
    "plt.legend()\n",
    "\n",
    "plt.show"
   ]
  },
  {
   "cell_type": "markdown",
   "id": "9dfa66dc-20aa-458b-9a27-baee937c1de3",
   "metadata": {},
   "source": [
    "훈련 손실은 에포크마다 감소, 훈련 정확도는 에포크마다 증가, 4번째 에포크에서 그래프 역전=>과대적합(훈련 세트 이외의 데이터에는 부적합)"
   ]
  },
  {
   "cell_type": "code",
   "execution_count": 16,
   "id": "42466a06-ff3e-45ea-9c93-3e133bbbe5b7",
   "metadata": {},
   "outputs": [
    {
     "name": "stdout",
     "output_type": "stream",
     "text": [
      "Epoch 1/4\n",
      "25000/25000 [==============================] - 2s 81us/step - loss: 0.4860 - accuracy: 0.8187\n",
      "Epoch 2/4\n",
      "25000/25000 [==============================] - 2s 78us/step - loss: 0.2817 - accuracy: 0.9051\n",
      "Epoch 3/4\n",
      "25000/25000 [==============================] - 2s 79us/step - loss: 0.2129 - accuracy: 0.9248\n",
      "Epoch 4/4\n",
      "25000/25000 [==============================] - 2s 86us/step - loss: 0.1753 - accuracy: 0.9393\n",
      "25000/25000 [==============================] - 7s 263us/step\n"
     ]
    }
   ],
   "source": [
    "# 모델 처음부터 다시 훈련하기(4번의 에포크 동안)\n",
    "model = models.Sequential()\n",
    "model.add(layers.Dense(16, activation='relu', input_shape=(10000,)))\n",
    "model.add(layers.Dense(16, activation='relu'))\n",
    "model.add(layers.Dense(1, activation='sigmoid'))\n",
    "\n",
    "model.compile(optimizer='rmsprop',\n",
    "              loss='binary_crossentropy',\n",
    "              metrics=['accuracy'])\n",
    "\n",
    "model.fit(x_train, y_train, epochs=4, batch_size=512)\n",
    "results = model.evaluate(x_test, y_test)"
   ]
  },
  {
   "cell_type": "code",
   "execution_count": 32,
   "id": "d66e618f-27cb-4573-900d-d7dd72773a67",
   "metadata": {},
   "outputs": [
    {
     "data": {
      "text/plain": [
       "[0.30811139752388, 0.878600001335144]"
      ]
     },
     "execution_count": 32,
     "metadata": {},
     "output_type": "execute_result"
    }
   ],
   "source": [
    "results"
   ]
  },
  {
   "cell_type": "code",
   "execution_count": 17,
   "id": "f03d8061-a77d-49fe-bd6c-c948cd63875b",
   "metadata": {},
   "outputs": [
    {
     "data": {
      "text/plain": [
       "array([[0.132142  ],\n",
       "       [0.9999827 ],\n",
       "       [0.9103702 ],\n",
       "       ...,\n",
       "       [0.12876593],\n",
       "       [0.07367615],\n",
       "       [0.47078443]], dtype=float32)"
      ]
     },
     "execution_count": 17,
     "metadata": {},
     "output_type": "execute_result"
    }
   ],
   "source": [
    "model.predict(x_test)"
   ]
  },
  {
   "cell_type": "markdown",
   "id": "0b926cf0-49af-4f45-ac29-7e50badf2ab0",
   "metadata": {},
   "source": [
    "3.4.6 추가실험"
   ]
  },
  {
   "cell_type": "code",
   "execution_count": 17,
   "id": "6243925c-fca7-4550-b7ed-28d2ffccf2b6",
   "metadata": {},
   "outputs": [
    {
     "name": "stdout",
     "output_type": "stream",
     "text": [
      "ERROR! Session/line number was not unique in database. History logging moved to new session 403\n",
      "Train on 25000 samples, validate on 10000 samples\n",
      "Epoch 1/4\n",
      "25000/25000 [==============================] - 3s 110us/step - loss: 0.4371 - acc: 0.8340 - val_loss: 0.2938 - val_acc: 0.9112\n",
      "Epoch 2/4\n",
      "25000/25000 [==============================] - 3s 137us/step - loss: 0.2714 - acc: 0.9071 - val_loss: 0.2188 - val_acc: 0.9319\n",
      "Epoch 3/4\n",
      "25000/25000 [==============================] - 3s 102us/step - loss: 0.2160 - acc: 0.9256 - val_loss: 0.1834 - val_acc: 0.9421\n",
      "Epoch 4/4\n",
      "25000/25000 [==============================] - 3s 102us/step - loss: 0.1836 - acc: 0.9367 - val_loss: 0.1580 - val_acc: 0.9504\n",
      "25000/25000 [==============================] - 2s 86us/step\n"
     ]
    }
   ],
   "source": [
    "#은닉층 한개 사용\n",
    "model = models.Sequential()\n",
    "model.add(layers.Dense(16, activation='relu', input_shape=(10000,)))\n",
    "model.add(layers.Dense(1, activation='sigmoid'))\n",
    "\n",
    "model.compile(optimizer='rmsprop',\n",
    "              loss='binary_crossentropy',\n",
    "              metrics=['acc'])\n",
    "\n",
    "history=model.fit(x_train, y_train, epochs=4, batch_size=512, validation_data = (x_val, y_val))\n",
    "results = model.evaluate(x_test, y_test)"
   ]
  },
  {
   "cell_type": "code",
   "execution_count": 18,
   "id": "4d5ec1e0-72a9-46b6-af41-29c0958fa6a5",
   "metadata": {},
   "outputs": [
    {
     "data": {
      "text/plain": [
       "dict_keys(['val_loss', 'val_acc', 'loss', 'acc'])"
      ]
     },
     "execution_count": 18,
     "metadata": {},
     "output_type": "execute_result"
    }
   ],
   "source": [
    "history_dict = history.history\n",
    "history_dict.keys()"
   ]
  },
  {
   "cell_type": "code",
   "execution_count": 19,
   "id": "a569b4c7-8ca3-4d62-a94f-2427516d313a",
   "metadata": {},
   "outputs": [
    {
     "data": {
      "text/plain": [
       "<function matplotlib.pyplot.show(close=None, block=None)>"
      ]
     },
     "execution_count": 19,
     "metadata": {},
     "output_type": "execute_result"
    },
    {
     "data": {
      "image/png": "[encoded data removed]",
      "text/plain": [
       "<Figure size 432x288 with 1 Axes>"
      ]
     },
     "metadata": {
      "needs_background": "light"
     },
     "output_type": "display_data"
    }
   ],
   "source": [
    "#훈련과 검증손실 그리기\n",
    "import matplotlib.pyplot as plt\n",
    "\n",
    "history_dict = history.history\n",
    "loss = history_dict['loss']\n",
    "val_loss = history_dict['val_loss']\n",
    "\n",
    "epochs = range(1, len(loss) + 1)\n",
    "\n",
    "plt.plot(epochs, loss, 'bo', label='Training looss')\n",
    "plt.plot(epochs, val_loss, 'b', label='Validation loss')\n",
    "plt.title('Training and validation loss')\n",
    "plt.xlabel('Epochs')\n",
    "plt.ylabel('Loss')\n",
    "plt.legend()\n",
    "\n",
    "plt.show"
   ]
  },
  {
   "cell_type": "code",
   "execution_count": 20,
   "id": "02225738-b625-4606-ad8f-4d4eeb38a4e9",
   "metadata": {},
   "outputs": [
    {
     "data": {
      "text/plain": [
       "<function matplotlib.pyplot.show(close=None, block=None)>"
      ]
     },
     "execution_count": 20,
     "metadata": {},
     "output_type": "execute_result"
    },
    {
     "data": {
      "image/png": "[encoded data removed]",
      "text/plain": [
       "<Figure size 432x288 with 1 Axes>"
      ]
     },
     "metadata": {
      "needs_background": "light"
     },
     "output_type": "display_data"
    }
   ],
   "source": [
    "#훈련과 검증 정확도 그리기\n",
    "plt.clf() # 그래프 초기화하기\n",
    "acc = history_dict['acc']\n",
    "val_acc = history_dict['val_acc']\n",
    "\n",
    "plt.plot(epochs, acc, 'bo', label='Training acc')\n",
    "plt.plot(epochs, val_acc, 'b', label='Validation acc')\n",
    "plt.title('Training and validation accuracy')\n",
    "plt.xlabel('Epochs')\n",
    "plt.ylabel('Accuracy')\n",
    "plt.legend()\n",
    "\n",
    "plt.show"
   ]
  },
  {
   "cell_type": "code",
   "execution_count": 19,
   "id": "ef27ce91-51d3-45af-8283-49bcde345e79",
   "metadata": {},
   "outputs": [
    {
     "name": "stdout",
     "output_type": "stream",
     "text": [
      "Train on 25000 samples, validate on 10000 samples\n",
      "Epoch 1/4\n",
      "25000/25000 [==============================] - 4s 140us/step - loss: 0.4187 - accuracy: 0.8178 - val_loss: 0.2288 - val_accuracy: 0.9244\n",
      "Epoch 2/4\n",
      "25000/25000 [==============================] - 3s 137us/step - loss: 0.2366 - accuracy: 0.9097 - val_loss: 0.1588 - val_accuracy: 0.9474\n",
      "Epoch 3/4\n",
      "25000/25000 [==============================] - 3s 135us/step - loss: 0.1836 - accuracy: 0.9312 - val_loss: 0.1157 - val_accuracy: 0.9655\n",
      "Epoch 4/4\n",
      "25000/25000 [==============================] - 3s 136us/step - loss: 0.1410 - accuracy: 0.9478 - val_loss: 0.0829 - val_accuracy: 0.9770\n",
      "25000/25000 [==============================] - 3s 105us/step\n"
     ]
    }
   ],
   "source": [
    "#유닛 64개\n",
    "model = models.Sequential()\n",
    "model.add(layers.Dense(64, activation='relu', input_shape=(10000,)))\n",
    "model.add(layers.Dense(64, activation='relu'))\n",
    "model.add(layers.Dense(1, activation='sigmoid'))\n",
    "\n",
    "model.compile(optimizer='rmsprop',\n",
    "              loss='binary_crossentropy',\n",
    "              metrics=['accuracy'])\n",
    "\n",
    "history=model.fit(x_train, y_train, epochs=4, batch_size=512, validation_data = (x_val, y_val))\n",
    "results = model.evaluate(x_test, y_test)"
   ]
  },
  {
   "cell_type": "code",
   "execution_count": 20,
   "id": "e65ac32b-b49d-4743-bb46-8416ad1754b7",
   "metadata": {},
   "outputs": [
    {
     "data": {
      "text/plain": [
       "dict_keys(['val_loss', 'val_accuracy', 'loss', 'accuracy'])"
      ]
     },
     "execution_count": 20,
     "metadata": {},
     "output_type": "execute_result"
    }
   ],
   "source": [
    "history_dict = history.history\n",
    "history_dict.keys()"
   ]
  },
  {
   "cell_type": "code",
   "execution_count": 21,
   "id": "12690b97-10e6-46fb-9d14-4546219a55bd",
   "metadata": {},
   "outputs": [
    {
     "data": {
      "text/plain": [
       "<function matplotlib.pyplot.show(close=None, block=None)>"
      ]
     },
     "execution_count": 21,
     "metadata": {},
     "output_type": "execute_result"
    },
    {
     "data": {
      "image/png": "[encoded data removed]",
      "text/plain": [
       "<Figure size 432x288 with 1 Axes>"
      ]
     },
     "metadata": {
      "needs_background": "light"
     },
     "output_type": "display_data"
    }
   ],
   "source": [
    "#훈련과 검증손실 그리기\n",
    "import matplotlib.pyplot as plt\n",
    "\n",
    "history_dict = history.history\n",
    "loss = history_dict['loss']\n",
    "val_loss = history_dict['val_loss']\n",
    "\n",
    "epochs = range(1, len(loss) + 1)\n",
    "\n",
    "plt.plot(epochs, loss, 'bo', label='Training looss')\n",
    "plt.plot(epochs, val_loss, 'b', label='Validation loss')\n",
    "plt.title('Training and validation loss')\n",
    "plt.xlabel('Epochs')\n",
    "plt.ylabel('Loss')\n",
    "plt.legend()\n",
    "\n",
    "plt.show"
   ]
  },
  {
   "cell_type": "code",
   "execution_count": 23,
   "id": "3368c7c1-6282-4471-9ab7-eb3510862432",
   "metadata": {},
   "outputs": [
    {
     "data": {
      "text/plain": [
       "<function matplotlib.pyplot.show(close=None, block=None)>"
      ]
     },
     "execution_count": 23,
     "metadata": {},
     "output_type": "execute_result"
    },
    {
     "data": {
      "image/png": "[encoded data removed]",
      "text/plain": [
       "<Figure size 432x288 with 1 Axes>"
      ]
     },
     "metadata": {
      "needs_background": "light"
     },
     "output_type": "display_data"
    }
   ],
   "source": [
    "#훈련과 검증 정확도 그리기\n",
    "plt.clf() # 그래프 초기화하기\n",
    "acc = history_dict['accuracy']\n",
    "val_acc = history_dict['val_accuracy']\n",
    "\n",
    "plt.plot(epochs, acc, 'bo', label='Training accuracy')\n",
    "plt.plot(epochs, val_acc, 'b', label='Validation accuracy')\n",
    "plt.title('Training and validation accuracy')\n",
    "plt.xlabel('Epochs')\n",
    "plt.ylabel('Accuracy')\n",
    "plt.legend()\n",
    "\n",
    "plt.show"
   ]
  },
  {
   "cell_type": "code",
   "execution_count": 10,
   "id": "94fc62de-3fb0-4399-81b7-2ea58df69cb7",
   "metadata": {},
   "outputs": [
    {
     "name": "stdout",
     "output_type": "stream",
     "text": [
      "Train on 25000 samples, validate on 10000 samples\n",
      "Epoch 1/4\n",
      "25000/25000 [==============================] - 3s 112us/step - loss: 0.1476 - accuracy: 0.8258 - val_loss: 0.0843 - val_accuracy: 0.9153\n",
      "Epoch 2/4\n",
      "25000/25000 [==============================] - 3s 102us/step - loss: 0.0780 - accuracy: 0.9108 - val_loss: 0.0571 - val_accuracy: 0.9392\n",
      "Epoch 3/4\n",
      "25000/25000 [==============================] - 3s 104us/step - loss: 0.0590 - accuracy: 0.9308 - val_loss: 0.0424 - val_accuracy: 0.9554\n",
      "Epoch 4/4\n",
      "25000/25000 [==============================] - 3s 105us/step - loss: 0.0475 - accuracy: 0.9452 - val_loss: 0.0444 - val_accuracy: 0.9479\n",
      "25000/25000 [==============================] - 3s 102us/step\n"
     ]
    }
   ],
   "source": [
    "# binary_crossentrophy 대신 mse사용\n",
    "model = models.Sequential()\n",
    "model.add(layers.Dense(16, activation='relu', input_shape=(10000,)))\n",
    "model.add(layers.Dense(16, activation='relu'))\n",
    "model.add(layers.Dense(1, activation='sigmoid'))\n",
    "\n",
    "model.compile(optimizer='rmsprop',\n",
    "              loss='mse',\n",
    "              metrics=['accuracy'])\n",
    "\n",
    "history=model.fit(x_train, y_train, epochs=4, batch_size=512, validation_data=(x_val, y_val))\n",
    "results = model.evaluate(x_test, y_test)"
   ]
  },
  {
   "cell_type": "code",
   "execution_count": 11,
   "id": "99b7cfa2-5118-4efb-804d-ae5087449709",
   "metadata": {},
   "outputs": [
    {
     "data": {
      "text/plain": [
       "dict_keys(['val_loss', 'val_accuracy', 'loss', 'accuracy'])"
      ]
     },
     "execution_count": 11,
     "metadata": {},
     "output_type": "execute_result"
    }
   ],
   "source": [
    "history_dict = history.history\n",
    "history_dict.keys()"
   ]
  },
  {
   "cell_type": "code",
   "execution_count": 12,
   "id": "8b139564-f708-4f38-ae33-8ee146d88596",
   "metadata": {},
   "outputs": [
    {
     "data": {
      "text/plain": [
       "<function matplotlib.pyplot.show(close=None, block=None)>"
      ]
     },
     "execution_count": 12,
     "metadata": {},
     "output_type": "execute_result"
    },
    {
     "data": {
      "image/png": "[encoded data removed]",
      "text/plain": [
       "<Figure size 432x288 with 1 Axes>"
      ]
     },
     "metadata": {
      "needs_background": "light"
     },
     "output_type": "display_data"
    }
   ],
   "source": [
    "import matplotlib.pyplot as plt\n",
    "\n",
    "history_dict = history.history\n",
    "loss = history_dict['loss']\n",
    "val_loss = history_dict['val_loss']\n",
    "\n",
    "epochs = range(1, len(loss) + 1)\n",
    "\n",
    "plt.plot(epochs, loss, 'bo', label='Training looss')\n",
    "plt.plot(epochs, val_loss, 'b', label='Validation loss')\n",
    "plt.title('Training and validation loss')\n",
    "plt.xlabel('Epochs')\n",
    "plt.ylabel('Loss')\n",
    "plt.legend()\n",
    "\n",
    "plt.show"
   ]
  },
  {
   "cell_type": "code",
   "execution_count": 13,
   "id": "da701f8e-966f-4164-b440-7aba9085a127",
   "metadata": {},
   "outputs": [
    {
     "data": {
      "text/plain": [
       "<function matplotlib.pyplot.show(close=None, block=None)>"
      ]
     },
     "execution_count": 13,
     "metadata": {},
     "output_type": "execute_result"
    },
    {
     "data": {
      "image/png": "[encoded data removed]",
      "text/plain": [
       "<Figure size 432x288 with 1 Axes>"
      ]
     },
     "metadata": {
      "needs_background": "light"
     },
     "output_type": "display_data"
    }
   ],
   "source": [
    "plt.clf() # 그래프 초기화하기\n",
    "acc = history_dict['accuracy']\n",
    "val_acc = history_dict['val_accuracy']\n",
    "\n",
    "plt.plot(epochs, acc, 'bo', label='Training accuracy')\n",
    "plt.plot(epochs, val_acc, 'b', label='Validation accuracy')\n",
    "plt.title('Training and validation accuracy')\n",
    "plt.xlabel('Epochs')\n",
    "plt.ylabel('Accuracy')\n",
    "plt.legend()\n",
    "\n",
    "plt.show"
   ]
  },
  {
   "cell_type": "code",
   "execution_count": 17,
   "id": "dd658f3a-7b4f-439b-9c54-bca9378194b5",
   "metadata": {},
   "outputs": [
    {
     "name": "stdout",
     "output_type": "stream",
     "text": [
      "Train on 25000 samples, validate on 10000 samples\n",
      "Epoch 1/4\n",
      "25000/25000 [==============================] - 8s 304us/step - loss: 0.4285 - accuracy: 0.8320 - val_loss: 0.2634 - val_accuracy: 0.9128\n",
      "Epoch 2/4\n",
      "25000/25000 [==============================] - 4s 144us/step - loss: 0.2379 - accuracy: 0.9116 - val_loss: 0.1699 - val_accuracy: 0.9443\n",
      "Epoch 3/4\n",
      "25000/25000 [==============================] - 3s 109us/step - loss: 0.1792 - accuracy: 0.9332 - val_loss: 0.1345 - val_accuracy: 0.9556\n",
      "Epoch 4/4\n",
      "25000/25000 [==============================] - 3s 106us/step - loss: 0.1478 - accuracy: 0.9472 - val_loss: 0.1070 - val_accuracy: 0.9684\n",
      "25000/25000 [==============================] - 3s 115us/step\n"
     ]
    }
   ],
   "source": [
    "#relu 대신 tanh활성화 함수 써보기\n",
    "model = models.Sequential()\n",
    "model.add(layers.Dense(16, activation='tanh', input_shape=(10000,)))\n",
    "model.add(layers.Dense(16, activation='tanh'))\n",
    "model.add(layers.Dense(1, activation='sigmoid'))\n",
    "\n",
    "model.compile(optimizer='rmsprop',\n",
    "              loss='binary_crossentropy',\n",
    "              metrics=['accuracy'])\n",
    "\n",
    "history=model.fit(x_train, y_train, epochs=4, batch_size=512, validation_data=(x_val, y_val))\n",
    "results = model.evaluate(x_test, y_test)"
   ]
  },
  {
   "cell_type": "markdown",
   "id": "8932b9e5-617f-46ed-bf3c-3add8b409f0e",
   "metadata": {},
   "source": [
    "relu와 같은 활성화 함수(혹은 비선형성이라고도 부름)가 없다면 Dense층은 선형적 연산인 점곱 혹은 덧셈 두개로 구성됨. 그러므로 이 층은 입력에 대한 선형 변환만을 학습할 수 있고 선형 층을 깊게 쌓아도 여전히 하나의 선형 연산이기에 여러 층을 구성하는 장점이 없음(가설공간 확장 없음). 그러므로 가설공간을 풍부히 만들어 층을 깊게 만드는 장점을 살리기 위해 활성화 함수를 추가함. 대표적으로 가장 많이 쓰는 relu가 있고 prelu, elu등도 있음"
   ]
  },
  {
   "cell_type": "code",
   "execution_count": 13,
   "id": "c8ddcf89-62ca-4189-a873-7dd929a91ffb",
   "metadata": {},
   "outputs": [
    {
     "data": {
      "text/plain": [
       "<function matplotlib.pyplot.show(close=None, block=None)>"
      ]
     },
     "execution_count": 13,
     "metadata": {},
     "output_type": "execute_result"
    },
    {
     "data": {
      "image/png": "[encoded data removed]",
      "text/plain": [
       "<Figure size 432x288 with 1 Axes>"
      ]
     },
     "metadata": {
      "needs_background": "light"
     },
     "output_type": "display_data"
    }
   ],
   "source": [
    "import matplotlib.pyplot as plt\n",
    "\n",
    "history_dict = history.history\n",
    "loss = history_dict['loss']\n",
    "val_loss = history_dict['val_loss']\n",
    "\n",
    "epochs = range(1, len(loss) + 1)\n",
    "\n",
    "plt.plot(epochs, loss, 'bo', label='Training looss')\n",
    "plt.plot(epochs, val_loss, 'b', label='Validation loss')\n",
    "plt.title('Training and validation loss')\n",
    "plt.xlabel('Epochs')\n",
    "plt.ylabel('Loss')\n",
    "plt.legend()\n",
    "\n",
    "plt.show"
   ]
  },
  {
   "cell_type": "code",
   "execution_count": 14,
   "id": "9c929263-9370-485d-ae32-b0ad46a91d23",
   "metadata": {},
   "outputs": [
    {
     "data": {
      "text/plain": [
       "<function matplotlib.pyplot.show(close=None, block=None)>"
      ]
     },
     "execution_count": 14,
     "metadata": {},
     "output_type": "execute_result"
    },
    {
     "data": {
      "image/png": "[encoded data removed]",
      "text/plain": [
       "<Figure size 432x288 with 1 Axes>"
      ]
     },
     "metadata": {
      "needs_background": "light"
     },
     "output_type": "display_data"
    }
   ],
   "source": [
    "plt.clf() # 그래프 초기화하기\n",
    "acc = history_dict['accuracy']\n",
    "val_acc = history_dict['val_accuracy']\n",
    "\n",
    "plt.plot(epochs, acc, 'bo', label='Training accuracy')\n",
    "plt.plot(epochs, val_acc, 'b', label='Validation accuracy')\n",
    "plt.title('Training and validation accuracy')\n",
    "plt.xlabel('Epochs')\n",
    "plt.ylabel('Accuracy')\n",
    "plt.legend()\n",
    "\n",
    "plt.show"
   ]
  },
  {
   "cell_type": "markdown",
   "id": "b2743b66-f45d-42f0-a9ae-3bb222437aaf",
   "metadata": {},
   "source": [
    "# 뉴스 기사 분류: 다중분류"
   ]
  },
  {
   "cell_type": "code",
   "execution_count": 24,
   "id": "f6d9a9ad-8b5a-4a77-8186-8510e71dd741",
   "metadata": {},
   "outputs": [
    {
     "name": "stderr",
     "output_type": "stream",
     "text": [
      "Using TensorFlow backend.\n",
      "C:\\Users\\User\\anaconda3\\envs\\ai\\lib\\site-packages\\keras\\datasets\\reuters.py:85: VisibleDeprecationWarning: Creating an ndarray from ragged nested sequences (which is a list-or-tuple of lists-or-tuples-or ndarrays with different lengths or shapes) is deprecated. If you meant to do this, you must specify 'dtype=object' when creating the ndarray\n",
      "  x_train, y_train = np.array(xs[:idx]), np.array(labels[:idx])\n",
      "C:\\Users\\User\\anaconda3\\envs\\ai\\lib\\site-packages\\keras\\datasets\\reuters.py:86: VisibleDeprecationWarning: Creating an ndarray from ragged nested sequences (which is a list-or-tuple of lists-or-tuples-or ndarrays with different lengths or shapes) is deprecated. If you meant to do this, you must specify 'dtype=object' when creating the ndarray\n",
      "  x_test, y_test = np.array(xs[idx:]), np.array(labels[idx:])\n"
     ]
    }
   ],
   "source": [
    "from keras.datasets import reuters\n",
    "(train_data, train_labels), (test_data, test_labels)=reuters.load_data(num_words=10000)"
   ]
  },
  {
   "cell_type": "code",
   "execution_count": 25,
   "id": "61b71928-b90a-49d1-a44c-e7657c54c9ef",
   "metadata": {},
   "outputs": [],
   "source": [
    "#로이터 데이터셋 턱스트로 디코딩하기(imdb와 유사)\n",
    "word_index = reuters.get_word_index()\n",
    "reverse_word_index=dict([(value, key) for (key,value) in word_index.items()])\n",
    "decoded_newswire=' '.join([reverse_word_index.get(i - 3,'?')for i in train_data[0]])"
   ]
  },
  {
   "cell_type": "code",
   "execution_count": 26,
   "id": "c04df592-632c-4427-93f3-2c0d0cb84e7b",
   "metadata": {},
   "outputs": [],
   "source": [
    "#데이터 인코딩하기(데이터를 벡터로 변환)(데이터 원 핫 인코딩으로 만들기)\n",
    "import numpy as np\n",
    "\n",
    "def vectorize_sequences(sequences, dimension=10000):\n",
    "    results=np.zeros((len(sequences), dimension))\n",
    "    for i, sequence in enumerate(sequences):\n",
    "        results[i,sequence]=1.\n",
    "    return results\n",
    "x_train = vectorize_sequences(train_data)\n",
    "x_test = vectorize_sequences(test_data)"
   ]
  },
  {
   "cell_type": "code",
   "execution_count": 27,
   "id": "8bcb9014-cea7-491e-9abb-d2bc05bb3725",
   "metadata": {},
   "outputs": [],
   "source": [
    "def to_one_hot(labels, dimension=46):\n",
    "    results = np.zeros((len(labels), dimension))\n",
    "    for i, label in enumerate(labels):\n",
    "        results[i, label]=1.\n",
    "    return results\n",
    "one_hot_train_labels = to_one_hot(train_labels)\n",
    "one_hot_test_labels = to_one_hot(test_labels)"
   ]
  },
  {
   "cell_type": "code",
   "execution_count": 28,
   "id": "f43f8a40-b7c5-49c4-92f8-9042f5b576b7",
   "metadata": {},
   "outputs": [],
   "source": [
    "#모델 정의하기\n",
    "from keras import models\n",
    "from keras import layers\n",
    "\n",
    "model = models.Sequential()\n",
    "model.add(layers.Dense(64, activation='relu', input_shape=(10000,)))\n",
    "model.add(layers.Dense(64, activation='relu'))\n",
    "model.add(layers.Dense(46, activation='softmax')) # Dense 층 크기 46, 각 입력 샘플에 대해 46차원의 벡터 출력, softmax: mnist에서 본 것과 같이 46개 출력 클래스에 대한 확률 분포를 출력"
   ]
  },
  {
   "cell_type": "markdown",
   "id": "871583c6-7b44-424e-9a0a-35a7c35cc144",
   "metadata": {},
   "source": [
    "* categorical_crossentrophy: 손실함수로 이 함수는 두 확률 분포 사이의 거리를 측정한다. 여기에서는 네트워크가 출력한 확률 분포와 진짜 레이블의 분포 사이의 거리이다. 두 분포 사이의 거리를 최소화할 시 진짜 레이블에 가능한 가까운 출력을 내도록 모델을 훈련하게 됨"
   ]
  },
  {
   "cell_type": "code",
   "execution_count": 29,
   "id": "222f5cc5-fbe5-4a55-8fdb-24cecfd887ea",
   "metadata": {},
   "outputs": [],
   "source": [
    "#모델 컴파일\n",
    "model.compile(optimizer='rmsprop', #옵티마이저\n",
    "              loss='categorical_crossentropy', #손실함수\n",
    "              metrics=['accuracy'])"
   ]
  },
  {
   "cell_type": "code",
   "execution_count": 30,
   "id": "293ebe6f-367a-40b5-a04f-4a7fc6fb4aa2",
   "metadata": {},
   "outputs": [],
   "source": [
    "#훈련 검증-검증 세트 준비하기\n",
    "x_val=x_train[:1000]\n",
    "partial_x_train=x_train[1000:]\n",
    "\n",
    "y_val = one_hot_train_labels[:1000]\n",
    "partial_y_train = one_hot_train_labels[1000:]"
   ]
  },
  {
   "cell_type": "code",
   "execution_count": 31,
   "id": "e41c9c1f-3b4e-4896-9ad8-47ad8db465e2",
   "metadata": {},
   "outputs": [
    {
     "name": "stdout",
     "output_type": "stream",
     "text": [
      "Train on 7982 samples, validate on 1000 samples\n",
      "Epoch 1/20\n",
      "7982/7982 [==============================] - 1s 170us/step - loss: 2.7394 - accuracy: 0.5168 - val_loss: 1.7888 - val_accuracy: 0.6390\n",
      "Epoch 2/20\n",
      "7982/7982 [==============================] - 1s 137us/step - loss: 1.4220 - accuracy: 0.7174 - val_loss: 1.3145 - val_accuracy: 0.7220\n",
      "Epoch 3/20\n",
      "7982/7982 [==============================] - 1s 170us/step - loss: 1.0405 - accuracy: 0.7858 - val_loss: 1.1425 - val_accuracy: 0.7530\n",
      "Epoch 4/20\n",
      "7982/7982 [==============================] - 1s 167us/step - loss: 0.8166 - accuracy: 0.8257 - val_loss: 1.0387 - val_accuracy: 0.7810\n",
      "Epoch 5/20\n",
      "7982/7982 [==============================] - 1s 169us/step - loss: 0.6517 - accuracy: 0.8621 - val_loss: 0.9772 - val_accuracy: 0.7920\n",
      "Epoch 6/20\n",
      "7982/7982 [==============================] - 1s 148us/step - loss: 0.5171 - accuracy: 0.8899 - val_loss: 0.9310 - val_accuracy: 0.8070\n",
      "Epoch 7/20\n",
      "7982/7982 [==============================] - 1s 171us/step - loss: 0.4149 - accuracy: 0.9139 - val_loss: 0.9091 - val_accuracy: 0.8110\n",
      "Epoch 8/20\n",
      "7982/7982 [==============================] - 1s 171us/step - loss: 0.3348 - accuracy: 0.9302 - val_loss: 0.8969 - val_accuracy: 0.8140\n",
      "Epoch 9/20\n",
      "7982/7982 [==============================] - 1s 168us/step - loss: 0.2767 - accuracy: 0.9382 - val_loss: 0.8893 - val_accuracy: 0.8200\n",
      "Epoch 10/20\n",
      "7982/7982 [==============================] - 1s 131us/step - loss: 0.2389 - accuracy: 0.9454 - val_loss: 0.9079 - val_accuracy: 0.8200\n",
      "Epoch 11/20\n",
      "7982/7982 [==============================] - 1s 174us/step - loss: 0.2032 - accuracy: 0.9491 - val_loss: 0.9230 - val_accuracy: 0.8130\n",
      "Epoch 12/20\n",
      "7982/7982 [==============================] - 1s 180us/step - loss: 0.1785 - accuracy: 0.9526 - val_loss: 0.9696 - val_accuracy: 0.8060\n",
      "Epoch 13/20\n",
      "7982/7982 [==============================] - 2s 190us/step - loss: 0.1644 - accuracy: 0.9524 - val_loss: 0.9211 - val_accuracy: 0.8130\n",
      "Epoch 14/20\n",
      "7982/7982 [==============================] - 2s 192us/step - loss: 0.1513 - accuracy: 0.9538 - val_loss: 0.9480 - val_accuracy: 0.8180\n",
      "Epoch 15/20\n",
      "7982/7982 [==============================] - 1s 152us/step - loss: 0.1351 - accuracy: 0.9567 - val_loss: 0.9864 - val_accuracy: 0.8090\n",
      "Epoch 16/20\n",
      "7982/7982 [==============================] - 1s 149us/step - loss: 0.1295 - accuracy: 0.9569 - val_loss: 1.0102 - val_accuracy: 0.8090\n",
      "Epoch 17/20\n",
      "7982/7982 [==============================] - 1s 168us/step - loss: 0.1258 - accuracy: 0.9560 - val_loss: 1.0510 - val_accuracy: 0.8070\n",
      "Epoch 18/20\n",
      "7982/7982 [==============================] - 1s 136us/step - loss: 0.1201 - accuracy: 0.9575 - val_loss: 1.0504 - val_accuracy: 0.8030\n",
      "Epoch 19/20\n",
      "7982/7982 [==============================] - 1s 185us/step - loss: 0.1107 - accuracy: 0.9572 - val_loss: 1.0632 - val_accuracy: 0.8050\n",
      "Epoch 20/20\n",
      "7982/7982 [==============================] - 2s 192us/step - loss: 0.1116 - accuracy: 0.9599 - val_loss: 1.1085 - val_accuracy: 0.8040\n"
     ]
    }
   ],
   "source": [
    "#모델 훈련하기\n",
    "history=model.fit(partial_x_train, \n",
    "                  partial_y_train, \n",
    "                  epochs=20,\n",
    "                  batch_size=512,\n",
    "                  validation_data=(x_val, y_val))"
   ]
  },
  {
   "cell_type": "code",
   "execution_count": 9,
   "id": "3597f7cd-cc99-4ba0-a278-e417241b9719",
   "metadata": {},
   "outputs": [
    {
     "data": {
      "image/png": "[encoded data removed]",
      "text/plain": [
       "<Figure size 432x288 with 1 Axes>"
      ]
     },
     "metadata": {
      "needs_background": "light"
     },
     "output_type": "display_data"
    }
   ],
   "source": [
    "#훈련 검증과 손실 그리기\n",
    "import matplotlib.pyplot as plt\n",
    "\n",
    "loss = history.history['loss']\n",
    "val_loss = history.history['val_loss']\n",
    "\n",
    "epochs = range(1, len(loss)+1)\n",
    "\n",
    "plt.plot(epochs, loss, 'bo', label='Training loss')\n",
    "plt.plot(epochs, val_loss, 'b', label='Validation loss')\n",
    "plt.title('Training and validation loss')\n",
    "plt.xlabel('Epochs')\n",
    "plt.ylabel('Loss')\n",
    "plt.legend()\n",
    "plt.show()"
   ]
  },
  {
   "cell_type": "code",
   "execution_count": 10,
   "id": "99131f64-a47e-40c8-9106-2f1f336a120f",
   "metadata": {},
   "outputs": [
    {
     "data": {
      "image/png": "[encoded data removed]",
      "text/plain": [
       "<Figure size 432x288 with 1 Axes>"
      ]
     },
     "metadata": {
      "needs_background": "light"
     },
     "output_type": "display_data"
    }
   ],
   "source": [
    "plt.clf()\n",
    "\n",
    "acc = history.history['accuracy']\n",
    "val_acc = history.history['val_accuracy']\n",
    "\n",
    "plt.plot(epochs, acc, 'bo', label='Training accuracy')\n",
    "plt.plot(epochs, val_acc, 'b', label='Validation accuracy')\n",
    "plt.title('Training and validation accuracy')\n",
    "plt.xlabel('Epochs')\n",
    "plt.ylabel('Accuracy')\n",
    "plt.legend()\n",
    "plt.show()"
   ]
  },
  {
   "cell_type": "markdown",
   "id": "81ddb0ae-e292-4b3b-b2f0-4f0046248f39",
   "metadata": {},
   "source": [
    "9번째 이후로 과대적합이 시작됨"
   ]
  },
  {
   "cell_type": "code",
   "execution_count": 11,
   "id": "50dc1b3e-d175-41d0-a7d9-9b425c0588dc",
   "metadata": {},
   "outputs": [
    {
     "name": "stdout",
     "output_type": "stream",
     "text": [
      "Train on 7982 samples, validate on 1000 samples\n",
      "Epoch 1/9\n",
      "7982/7982 [==============================] - 1s 165us/step - loss: 2.7433 - accuracy: 0.5390 - val_loss: 1.8183 - val_accuracy: 0.6230\n",
      "Epoch 2/9\n",
      "7982/7982 [==============================] - 1s 169us/step - loss: 1.4614 - accuracy: 0.7030 - val_loss: 1.3460 - val_accuracy: 0.6860\n",
      "Epoch 3/9\n",
      "7982/7982 [==============================] - 1s 174us/step - loss: 1.0626 - accuracy: 0.7715 - val_loss: 1.1487 - val_accuracy: 0.7560\n",
      "Epoch 4/9\n",
      "7982/7982 [==============================] - 1s 182us/step - loss: 0.8379 - accuracy: 0.8188 - val_loss: 1.0559 - val_accuracy: 0.7700\n",
      "Epoch 5/9\n",
      "7982/7982 [==============================] - 2s 200us/step - loss: 0.6772 - accuracy: 0.8539 - val_loss: 1.0024 - val_accuracy: 0.7870\n",
      "Epoch 6/9\n",
      "7982/7982 [==============================] - 2s 211us/step - loss: 0.5457 - accuracy: 0.8851 - val_loss: 0.9627 - val_accuracy: 0.7960\n",
      "Epoch 7/9\n",
      "7982/7982 [==============================] - 2s 190us/step - loss: 0.4462 - accuracy: 0.9075 - val_loss: 0.9411 - val_accuracy: 0.8040\n",
      "Epoch 8/9\n",
      "7982/7982 [==============================] - 1s 184us/step - loss: 0.3623 - accuracy: 0.9267 - val_loss: 0.9696 - val_accuracy: 0.7990\n",
      "Epoch 9/9\n",
      "7982/7982 [==============================] - 2s 193us/step - loss: 0.3032 - accuracy: 0.9370 - val_loss: 0.9196 - val_accuracy: 0.8120\n",
      "2246/2246 [==============================] - 0s 162us/step\n"
     ]
    }
   ],
   "source": [
    "#모델 처음부터 다시 훈련하기\n",
    "model = models.Sequential()\n",
    "model.add(layers.Dense(64, activation='relu', input_shape=(10000,)))\n",
    "model.add(layers.Dense(64, activation='relu'))\n",
    "model.add(layers.Dense(46, activation='softmax'))\n",
    "\n",
    "model.compile(optimizer='rmsprop', \n",
    "              loss = 'categorical_crossentropy', \n",
    "              metrics=['accuracy'])\n",
    "history=model.fit(partial_x_train, \n",
    "          partial_y_train, \n",
    "          epochs=9, \n",
    "          batch_size=512, \n",
    "          validation_data=(x_val, y_val))\n",
    "results = model.evaluate(x_test, one_hot_test_labels)"
   ]
  },
  {
   "cell_type": "code",
   "execution_count": 12,
   "id": "c4ea0c62-cf96-4f18-bc1e-cb598df6dff1",
   "metadata": {},
   "outputs": [
    {
     "data": {
      "image/png": "[encoded data removed]",
      "text/plain": [
       "<Figure size 432x288 with 1 Axes>"
      ]
     },
     "metadata": {
      "needs_background": "light"
     },
     "output_type": "display_data"
    }
   ],
   "source": [
    "import matplotlib.pyplot as plt\n",
    "\n",
    "loss = history.history['loss']\n",
    "val_loss = history.history['val_loss']\n",
    "\n",
    "epochs = range(1, len(loss)+1)\n",
    "\n",
    "plt.plot(epochs, loss, 'bo', label='Training loss')\n",
    "plt.plot(epochs, val_loss, 'b', label='Validation loss')\n",
    "plt.title('Training and validation loss')\n",
    "plt.xlabel('Epochs')\n",
    "plt.ylabel('Loss')\n",
    "plt.legend()\n",
    "plt.show()"
   ]
  },
  {
   "cell_type": "code",
   "execution_count": 13,
   "id": "f1f20fce-2bb5-4cbe-b531-dc0d8b8ee22e",
   "metadata": {},
   "outputs": [
    {
     "data": {
      "image/png": "[encoded data removed]",
      "text/plain": [
       "<Figure size 432x288 with 1 Axes>"
      ]
     },
     "metadata": {
      "needs_background": "light"
     },
     "output_type": "display_data"
    }
   ],
   "source": [
    "plt.clf()\n",
    "\n",
    "acc = history.history['accuracy']\n",
    "val_acc = history.history['val_accuracy']\n",
    "\n",
    "plt.plot(epochs, acc, 'bo', label='Training accuracy')\n",
    "plt.plot(epochs, val_acc, 'b', label='Validation accuracy')\n",
    "plt.title('Training and validation accuracy')\n",
    "plt.xlabel('Epochs')\n",
    "plt.ylabel('Accuracy')\n",
    "plt.legend()\n",
    "plt.show()"
   ]
  },
  {
   "cell_type": "code",
   "execution_count": 26,
   "id": "305894a3-bdac-434f-96ef-9ee4680470b7",
   "metadata": {},
   "outputs": [
    {
     "data": {
      "text/plain": [
       "[0.9942178910901689, 0.7898486256599426]"
      ]
     },
     "execution_count": 26,
     "metadata": {},
     "output_type": "execute_result"
    }
   ],
   "source": [
    "results"
   ]
  },
  {
   "cell_type": "markdown",
   "id": "cd208529-d874-4db6-a894-5a3a91015e92",
   "metadata": {},
   "source": [
    "대략 79%정도의 정확도, 균형잡힌 이전문제에서 완전 무작위로 분류시 50%, 불균형한 데이터셋에서 무작위로 분류시 18%정도의 정확도를 가짐=> 위 예제는 불균형 데이터셋에서의 무작위 분류"
   ]
  },
  {
   "cell_type": "code",
   "execution_count": 27,
   "id": "ee89434d-751a-4085-83c5-1e414c3e1aeb",
   "metadata": {},
   "outputs": [
    {
     "data": {
      "text/plain": [
       "0.19056099732858414"
      ]
     },
     "execution_count": 27,
     "metadata": {},
     "output_type": "execute_result"
    }
   ],
   "source": [
    "import copy\n",
    "test_labels_copy = copy.copy(test_labels)\n",
    "np.random.shuffle(test_labels_copy)\n",
    "hits_array = np.array(test_labels) == np.array(test_labels_copy)\n",
    "float(np.sum(hits_array))/len(test_labels)"
   ]
  },
  {
   "cell_type": "code",
   "execution_count": 28,
   "id": "babdce0f-56b0-401c-ade8-8bcfc20ea056",
   "metadata": {},
   "outputs": [],
   "source": [
    "#새로운 데이터에 대해 예측하기\n",
    "predictions = model.predict(x_test) "
   ]
  },
  {
   "cell_type": "markdown",
   "id": "64d77524-cbb7-4baf-83e5-07d51a770010",
   "metadata": {},
   "source": [
    "모델 인스턴스의 predict 메서드는 46개의 토픽에 대한 확률분포를 반환함"
   ]
  },
  {
   "cell_type": "code",
   "execution_count": 29,
   "id": "27199861-c815-4d65-9fec-1d0478814a19",
   "metadata": {},
   "outputs": [
    {
     "data": {
      "text/plain": [
       "(46,)"
      ]
     },
     "execution_count": 29,
     "metadata": {},
     "output_type": "execute_result"
    }
   ],
   "source": [
    "predictions[0].shape"
   ]
  },
  {
   "cell_type": "code",
   "execution_count": 30,
   "id": "14804b9f-c26a-4b38-abaa-c2d6571e08cc",
   "metadata": {},
   "outputs": [
    {
     "data": {
      "text/plain": [
       "1.0000001"
      ]
     },
     "execution_count": 30,
     "metadata": {},
     "output_type": "execute_result"
    }
   ],
   "source": [
    "np.sum(predictions[0])"
   ]
  },
  {
   "cell_type": "code",
   "execution_count": 31,
   "id": "c5af39b8-abf4-4f1a-b841-ca851814136c",
   "metadata": {},
   "outputs": [
    {
     "data": {
      "text/plain": [
       "3"
      ]
     },
     "execution_count": 31,
     "metadata": {},
     "output_type": "execute_result"
    }
   ],
   "source": [
    "np.argmax(predictions[0])"
   ]
  },
  {
   "cell_type": "markdown",
   "id": "4eb4c9a3-dce1-4154-8e59-ca66cd9b321f",
   "metadata": {},
   "source": [
    "앞서 말했듯 레이블 인코딩 하는 법은 1. 원 핫 인코딩, 2. 정수 텐서로 변환"
   ]
  },
  {
   "cell_type": "markdown",
   "id": "df69f4cd-e7b6-4217-aa75-a345c16045e7",
   "metadata": {},
   "source": [
    "* 이 방식에서는 손실함수 하나만 바꾸면 된다=> sparse_categorical_crossentropy(categorical_crossentropy는 레이블이 범주형 인코딩되있을것이라고 가정하고 사용된다. 그러므로, 정수 레이블을 사용할 때에는 sparse_categorical_crossentropy를 이용)"
   ]
  },
  {
   "cell_type": "code",
   "execution_count": 32,
   "id": "4f53726e-bbb4-4705-b903-cb1613121121",
   "metadata": {},
   "outputs": [],
   "source": [
    "#정수 텐서로 변환해서 인코딩하기\n",
    "y_train = np.array(train_labels)\n",
    "y_test = np.array(test_labels)\n",
    "\n",
    "model.compile(optimizer = 'rmsprop',\n",
    "              loss = 'sparse_categorical_crossentropy',\n",
    "              metrics = ['acc'])"
   ]
  },
  {
   "cell_type": "markdown",
   "id": "f343301a-b62c-4b07-bdfc-9b0e197e656c",
   "metadata": {},
   "source": [
    "마지막 출력이 46차원이기에 중간층의 히든 유닛이 46개 보다 많이 적어서는 않됨"
   ]
  },
  {
   "cell_type": "code",
   "execution_count": 33,
   "id": "894c87c3-4843-4269-9331-5f9764450e50",
   "metadata": {},
   "outputs": [
    {
     "name": "stdout",
     "output_type": "stream",
     "text": [
      "Train on 7982 samples, validate on 1000 samples\n",
      "Epoch 1/9\n",
      "7982/7982 [==============================] - 2s 212us/step - loss: 3.5262 - accuracy: 0.3271 - val_loss: 3.2261 - val_accuracy: 0.3800\n",
      "Epoch 2/9\n",
      "7982/7982 [==============================] - 2s 239us/step - loss: 2.9521 - accuracy: 0.3936 - val_loss: 2.7647 - val_accuracy: 0.4150\n",
      "Epoch 3/9\n",
      "7982/7982 [==============================] - 2s 259us/step - loss: 2.5224 - accuracy: 0.4322 - val_loss: 2.4545 - val_accuracy: 0.4390\n",
      "Epoch 4/9\n",
      "7982/7982 [==============================] - 2s 224us/step - loss: 2.2366 - accuracy: 0.4562 - val_loss: 2.2625 - val_accuracy: 0.4390\n",
      "Epoch 5/9\n",
      "7982/7982 [==============================] - 2s 215us/step - loss: 2.0321 - accuracy: 0.4683 - val_loss: 2.1076 - val_accuracy: 0.4550\n",
      "Epoch 6/9\n",
      "7982/7982 [==============================] - 2s 199us/step - loss: 1.8555 - accuracy: 0.4805 - val_loss: 1.9632 - val_accuracy: 0.4670\n",
      "Epoch 7/9\n",
      "7982/7982 [==============================] - 2s 210us/step - loss: 1.6704 - accuracy: 0.4900 - val_loss: 1.7952 - val_accuracy: 0.4770\n",
      "Epoch 8/9\n",
      "7982/7982 [==============================] - 2s 196us/step - loss: 1.4662 - accuracy: 0.5838 - val_loss: 1.6078 - val_accuracy: 0.6480\n",
      "Epoch 9/9\n",
      "7982/7982 [==============================] - 2s 216us/step - loss: 1.2737 - accuracy: 0.7105 - val_loss: 1.4844 - val_accuracy: 0.6680\n",
      "2246/2246 [==============================] - 0s 181us/step\n"
     ]
    }
   ],
   "source": [
    "# 46차원보다 훨씬 작은 중간층(4차원)을 둘 때 정보의 병목(시스템 성능이나 용량 제한)이 나타나는 방식\n",
    "model = models.Sequential()\n",
    "model.add(layers.Dense(64, activation = 'relu', input_shape=(10000,)))\n",
    "model.add(layers.Dense(4, activation = 'relu'))\n",
    "model.add(layers.Dense(46, activation = 'softmax'))\n",
    "\n",
    "model.compile(optimizer='rmsprop', \n",
    "              loss = 'categorical_crossentropy', \n",
    "              metrics=['accuracy'])\n",
    "model.fit(partial_x_train, \n",
    "          partial_y_train, \n",
    "          epochs=9, \n",
    "          batch_size=512, \n",
    "          validation_data=(x_val, y_val))\n",
    "results = model.evaluate(x_test, one_hot_test_labels)"
   ]
  },
  {
   "cell_type": "code",
   "execution_count": 34,
   "id": "532b7334-908b-4169-99cb-7c13b0035347",
   "metadata": {},
   "outputs": [
    {
     "data": {
      "text/plain": [
       "[1.5325334040267278, 0.6616206765174866]"
      ]
     },
     "execution_count": 34,
     "metadata": {},
     "output_type": "execute_result"
    }
   ],
   "source": [
    "results"
   ]
  },
  {
   "cell_type": "markdown",
   "id": "138dd0d1-a1db-47df-9a03-217b63bb052f",
   "metadata": {},
   "source": [
    "정확도가 12%정도 확연히 감소함. 손실의 원인은 주로 정보를 중간층의 저차원표현으로 압축하려 했기 때문에 일어난 현상. 필요한 정보 대부분을 4차원 표현 안에 구겨넣으려 했으나 전부 넣지는 못함"
   ]
  },
  {
   "cell_type": "markdown",
   "id": "91af00ae-47cc-496f-8686-bc4e6e766dbc",
   "metadata": {},
   "source": [
    "# 추가실험"
   ]
  },
  {
   "cell_type": "code",
   "execution_count": 14,
   "id": "87f4da0e-b0dd-46a2-b859-3b38113e5e3d",
   "metadata": {},
   "outputs": [
    {
     "name": "stdout",
     "output_type": "stream",
     "text": [
      "Train on 7982 samples, validate on 1000 samples\n",
      "Epoch 1/9\n",
      "7982/7982 [==============================] - 1s 166us/step - loss: 3.0647 - accuracy: 0.4833 - val_loss: 2.3208 - val_accuracy: 0.5700\n",
      "Epoch 2/9\n",
      "7982/7982 [==============================] - 1s 174us/step - loss: 1.9343 - accuracy: 0.6304 - val_loss: 1.6940 - val_accuracy: 0.6410\n",
      "Epoch 3/9\n",
      "7982/7982 [==============================] - 2s 222us/step - loss: 1.4317 - accuracy: 0.6922 - val_loss: 1.4120 - val_accuracy: 0.6860\n",
      "Epoch 4/9\n",
      "7982/7982 [==============================] - 3s 432us/step - loss: 1.1626 - accuracy: 0.7410 - val_loss: 1.2587 - val_accuracy: 0.7200\n",
      "Epoch 5/9\n",
      "7982/7982 [==============================] - 3s 424us/step - loss: 0.9793 - accuracy: 0.7828 - val_loss: 1.1925 - val_accuracy: 0.7430\n",
      "Epoch 6/9\n",
      "7982/7982 [==============================] - 2s 312us/step - loss: 0.8409 - accuracy: 0.8161 - val_loss: 1.1093 - val_accuracy: 0.7610\n",
      "Epoch 7/9\n",
      "7982/7982 [==============================] - 2s 294us/step - loss: 0.7268 - accuracy: 0.8460 - val_loss: 1.0506 - val_accuracy: 0.7730\n",
      "Epoch 8/9\n",
      "7982/7982 [==============================] - 3s 422us/step - loss: 0.6262 - accuracy: 0.8703 - val_loss: 1.0138 - val_accuracy: 0.7800\n",
      "Epoch 9/9\n",
      "7982/7982 [==============================] - 2s 220us/step - loss: 0.5440 - accuracy: 0.8877 - val_loss: 0.9872 - val_accuracy: 0.7880\n",
      "2246/2246 [==============================] - 1s 237us/step\n"
     ]
    }
   ],
   "source": [
    "# 32개의 유닛\n",
    "model = models.Sequential()\n",
    "model.add(layers.Dense(32, activation = 'relu', input_shape=(10000,)))\n",
    "model.add(layers.Dense(32, activation = 'relu'))\n",
    "model.add(layers.Dense(46, activation = 'softmax'))\n",
    "\n",
    "model.compile(optimizer='rmsprop', \n",
    "              loss = 'categorical_crossentropy', \n",
    "              metrics=['accuracy'])\n",
    "history = model.fit(partial_x_train, \n",
    "          partial_y_train, \n",
    "          epochs=9, \n",
    "          batch_size=512, \n",
    "          validation_data=(x_val, y_val))\n",
    "results = model.evaluate(x_test, one_hot_test_labels)"
   ]
  },
  {
   "cell_type": "code",
   "execution_count": 15,
   "id": "86d3b42e-efd3-46d6-82e4-6f838a7978e3",
   "metadata": {},
   "outputs": [
    {
     "data": {
      "image/png": "[encoded data removed]",
      "text/plain": [
       "<Figure size 432x288 with 1 Axes>"
      ]
     },
     "metadata": {
      "needs_background": "light"
     },
     "output_type": "display_data"
    }
   ],
   "source": [
    "import matplotlib.pyplot as plt\n",
    "\n",
    "loss = history.history['loss']\n",
    "val_loss = history.history['val_loss']\n",
    "\n",
    "epochs = range(1, len(loss)+1)\n",
    "\n",
    "plt.plot(epochs, loss, 'bo', label='Training loss')\n",
    "plt.plot(epochs, val_loss, 'b', label='Validation loss')\n",
    "plt.title('Training and validation loss')\n",
    "plt.xlabel('Epochs')\n",
    "plt.ylabel('Loss')\n",
    "plt.legend()\n",
    "plt.show()"
   ]
  },
  {
   "cell_type": "code",
   "execution_count": 16,
   "id": "24d97456-e9ff-4f8e-a74e-a581c665a380",
   "metadata": {},
   "outputs": [
    {
     "data": {
      "image/png": "[encoded data removed]",
      "text/plain": [
       "<Figure size 432x288 with 1 Axes>"
      ]
     },
     "metadata": {
      "needs_background": "light"
     },
     "output_type": "display_data"
    }
   ],
   "source": [
    "plt.clf()\n",
    "\n",
    "acc = history.history['accuracy']\n",
    "val_acc = history.history['val_accuracy']\n",
    "\n",
    "plt.plot(epochs, acc, 'bo', label='Training accuracy')\n",
    "plt.plot(epochs, val_acc, 'b', label='Validation accuracy')\n",
    "plt.title('Training and validation accuracy')\n",
    "plt.xlabel('Epochs')\n",
    "plt.ylabel('Accuracy')\n",
    "plt.legend()\n",
    "plt.show()"
   ]
  },
  {
   "cell_type": "code",
   "execution_count": 32,
   "id": "b2ddefca-a444-4077-8e71-7bb30d10306d",
   "metadata": {},
   "outputs": [
    {
     "name": "stdout",
     "output_type": "stream",
     "text": [
      "Train on 7982 samples, validate on 1000 samples\n",
      "Epoch 1/9\n",
      "7982/7982 [==============================] - 1s 107us/step - loss: 2.9276 - accuracy: 0.5291 - val_loss: 2.2887 - val_accuracy: 0.6100\n",
      "Epoch 2/9\n",
      "7982/7982 [==============================] - 1s 103us/step - loss: 1.9134 - accuracy: 0.6734 - val_loss: 1.7214 - val_accuracy: 0.6640\n",
      "Epoch 3/9\n",
      "7982/7982 [==============================] - 1s 112us/step - loss: 1.4458 - accuracy: 0.7241 - val_loss: 1.4186 - val_accuracy: 0.7080\n",
      "Epoch 4/9\n",
      "7982/7982 [==============================] - 1s 112us/step - loss: 1.1653 - accuracy: 0.7663 - val_loss: 1.2419 - val_accuracy: 0.7390\n",
      "Epoch 5/9\n",
      "7982/7982 [==============================] - 1s 111us/step - loss: 0.9736 - accuracy: 0.8021 - val_loss: 1.1260 - val_accuracy: 0.7690\n",
      "Epoch 6/9\n",
      "7982/7982 [==============================] - 1s 110us/step - loss: 0.8307 - accuracy: 0.8326 - val_loss: 1.0499 - val_accuracy: 0.7920\n",
      "Epoch 7/9\n",
      "7982/7982 [==============================] - 1s 109us/step - loss: 0.7177 - accuracy: 0.8591 - val_loss: 0.9970 - val_accuracy: 0.8010\n",
      "Epoch 8/9\n",
      "7982/7982 [==============================] - 1s 110us/step - loss: 0.6252 - accuracy: 0.8772 - val_loss: 0.9579 - val_accuracy: 0.8080\n",
      "Epoch 9/9\n",
      "7982/7982 [==============================] - 1s 113us/step - loss: 0.5486 - accuracy: 0.8925 - val_loss: 0.9220 - val_accuracy: 0.8150\n",
      "2246/2246 [==============================] - 0s 118us/step\n"
     ]
    }
   ],
   "source": [
    "#1개의 은닉층 사용\n",
    "model = models.Sequential()\n",
    "model.add(layers.Dense(32, activation = 'relu', input_shape=(10000,)))\n",
    "model.add(layers.Dense(46, activation = 'softmax'))\n",
    "\n",
    "model.compile(optimizer='rmsprop', \n",
    "              loss = 'categorical_crossentropy', \n",
    "              metrics=['accuracy'])\n",
    "history = model.fit(partial_x_train, \n",
    "          partial_y_train, \n",
    "          epochs=9, \n",
    "          batch_size=512, \n",
    "          validation_data=(x_val, y_val))\n",
    "results = model.evaluate(x_test, one_hot_test_labels)"
   ]
  },
  {
   "cell_type": "code",
   "execution_count": null,
   "id": "c9042d17-74f8-4db1-857a-7a8624dd5646",
   "metadata": {},
   "outputs": [],
   "source": []
  }
 ],
 "metadata": {
  "kernelspec": {
   "display_name": "Python 3",
   "language": "python",
   "name": "python3"
  },
  "language_info": {
   "codemirror_mode": {
    "name": "ipython",
    "version": 3
   },
   "file_extension": ".py",
   "mimetype": "text/x-python",
   "name": "python",
   "nbconvert_exporter": "python",
   "pygments_lexer": "ipython3",
   "version": "3.6.13"
  }
 },
 "nbformat": 4,
 "nbformat_minor": 5
}
