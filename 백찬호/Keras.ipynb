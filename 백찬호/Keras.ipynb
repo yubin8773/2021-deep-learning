{
 "cells": [
  {
   "cell_type": "code",
   "execution_count": 1,
   "id": "0f42d707-a4b8-489e-ab88-9209c14a0b26",
   "metadata": {},
   "outputs": [
    {
     "name": "stderr",
     "output_type": "stream",
     "text": [
      "Using TensorFlow backend.\n"
     ]
    }
   ],
   "source": [
    "#mnist\n",
    "from keras.datasets import mnist\n",
    "(train_images, train_labels), (test_images, test_labels)=mnist.load_data()"
   ]
  },
  {
   "cell_type": "code",
   "execution_count": 2,
   "id": "51f3670a-6951-4539-92d7-1ac5344e1ece",
   "metadata": {},
   "outputs": [
    {
     "data": {
      "text/plain": [
       "(60000, 28, 28)"
      ]
     },
     "execution_count": 2,
     "metadata": {},
     "output_type": "execute_result"
    }
   ],
   "source": [
    "train_images.shape"
   ]
  },
  {
   "cell_type": "code",
   "execution_count": 3,
   "id": "3f3009f4-1c65-49bd-94e4-145d75ab47c3",
   "metadata": {},
   "outputs": [
    {
     "data": {
      "text/plain": [
       "60000"
      ]
     },
     "execution_count": 3,
     "metadata": {},
     "output_type": "execute_result"
    }
   ],
   "source": [
    "len(train_labels)"
   ]
  },
  {
   "cell_type": "code",
   "execution_count": 4,
   "id": "ff501dd8-14c8-4c23-b3c2-6692755f817f",
   "metadata": {},
   "outputs": [],
   "source": [
    "# 신경망 구조\n",
    "from keras import models\n",
    "from keras import layers\n",
    "\n",
    "network = models.Sequential()\n",
    "network.add(layers.Dense(512, activation='relu', input_shape=(28*28,)))\n",
    "network.add(layers.Dense(10, activation='softmax')) #10개의 확률점수가 들어있는 배열, 2번째 Dense"
   ]
  },
  {
   "cell_type": "code",
   "execution_count": 5,
   "id": "40ce76e6-e74e-41da-88ff-663bed038867",
   "metadata": {},
   "outputs": [],
   "source": [
    "#컴파일\n",
    "network.compile(optimizer='rmsprop',\n",
    "               loss='categorical_crossentropy',\n",
    "               metrics=['accuracy'])"
   ]
  },
  {
   "cell_type": "code",
   "execution_count": 6,
   "id": "f4396ce9-f11a-4882-a114-af2b0e4eb18b",
   "metadata": {},
   "outputs": [],
   "source": [
    "#이미지 데이터 준비\n",
    "train_images = train_images.reshape((60000, 28*28))\n",
    "train_images = train_images.astype('float32')/255\n",
    "\n",
    "test_images = test_images.reshape((10000,28*28))\n",
    "test_images = test_images.astype('float32')/255"
   ]
  },
  {
   "cell_type": "code",
   "execution_count": 7,
   "id": "b5fa851d-a91e-4b34-9bda-e35f88930329",
   "metadata": {},
   "outputs": [],
   "source": [
    "#레이블 준비\n",
    "from keras.utils import to_categorical\n",
    "\n",
    "train_labels = to_categorical(train_labels)\n",
    "test_labels = to_categorical(test_labels)"
   ]
  },
  {
   "cell_type": "code",
   "execution_count": 8,
   "id": "8b0f250c-ccbb-4ef4-9b68-556e54da8778",
   "metadata": {},
   "outputs": [
    {
     "name": "stdout",
     "output_type": "stream",
     "text": [
      "Epoch 1/5\n",
      "60000/60000 [==============================] - 5s 91us/step - loss: 0.2538 - accuracy: 0.9265\n",
      "Epoch 2/5\n",
      "60000/60000 [==============================] - 6s 108us/step - loss: 0.1039 - accuracy: 0.9691\n",
      "Epoch 3/5\n",
      "60000/60000 [==============================] - 7s 112us/step - loss: 0.0685 - accuracy: 0.9796\n",
      "Epoch 4/5\n",
      "60000/60000 [==============================] - ETA: 0s - loss: 0.0493 - accuracy: 0.9856 ETA: 1s - loss: 0.0484 - ac - 8s 131us/step - loss: 0.0494 - accuracy: 0.9856\n",
      "Epoch 5/5\n",
      "60000/60000 [==============================] - 7s 116us/step - loss: 0.0369 - accuracy: 0.9889\n"
     ]
    },
    {
     "data": {
      "text/plain": [
       "<keras.callbacks.callbacks.History at 0x14d3a1317f0>"
      ]
     },
     "execution_count": 8,
     "metadata": {},
     "output_type": "execute_result"
    }
   ],
   "source": [
    "network.fit(train_images, train_labels, epochs=5, batch_size=128)"
   ]
  },
  {
   "cell_type": "code",
   "execution_count": 9,
   "id": "8f4bc039-adaf-42a8-825a-3f99fa5d8be2",
   "metadata": {},
   "outputs": [
    {
     "name": "stdout",
     "output_type": "stream",
     "text": [
      "10000/10000 [==============================] - 0s 47us/step\n"
     ]
    }
   ],
   "source": [
    "test_loss, test_acc = network.evaluate(test_images, test_labels)"
   ]
  },
  {
   "cell_type": "code",
   "execution_count": 10,
   "id": "3eb154f9-9163-4a4f-9a8b-4863a9552abc",
   "metadata": {},
   "outputs": [
    {
     "name": "stdout",
     "output_type": "stream",
     "text": [
      "test_acc: 0.9811000227928162\n"
     ]
    }
   ],
   "source": [
    "print('test_acc:',test_acc)"
   ]
  },
  {
   "cell_type": "code",
   "execution_count": 1,
   "id": "cfb12353-c0fa-4641-ab5a-6aca12835946",
   "metadata": {},
   "outputs": [
    {
     "name": "stderr",
     "output_type": "stream",
     "text": [
      "Using TensorFlow backend.\n",
      "C:\\Users\\User\\anaconda3\\envs\\ai\\lib\\site-packages\\keras\\datasets\\imdb.py:101: VisibleDeprecationWarning: Creating an ndarray from ragged nested sequences (which is a list-or-tuple of lists-or-tuples-or ndarrays with different lengths or shapes) is deprecated. If you meant to do this, you must specify 'dtype=object' when creating the ndarray\n",
      "  x_train, y_train = np.array(xs[:idx]), np.array(labels[:idx])\n",
      "C:\\Users\\User\\anaconda3\\envs\\ai\\lib\\site-packages\\keras\\datasets\\imdb.py:102: VisibleDeprecationWarning: Creating an ndarray from ragged nested sequences (which is a list-or-tuple of lists-or-tuples-or ndarrays with different lengths or shapes) is deprecated. If you meant to do this, you must specify 'dtype=object' when creating the ndarray\n",
      "  x_test, y_test = np.array(xs[idx:]), np.array(labels[idx:])\n"
     ]
    }
   ],
   "source": [
    "#영화\n",
    "from keras.datasets import imdb\n",
    "\n",
    "(train_data, train_labels), (test_data, test_labels)=imdb.load_data(num_words=10000)"
   ]
  },
  {
   "cell_type": "markdown",
   "id": "2e56f785-a384-42a6-b960-69768b65f956",
   "metadata": {},
   "source": [
    "train_labels와 test_labels는 부정을 나타내는 0과 긍정을 나타내는 1의 리스트이다"
   ]
  },
  {
   "cell_type": "code",
   "execution_count": 2,
   "id": "09072e83-7bab-489d-b6c7-64860cfd974b",
   "metadata": {},
   "outputs": [
    {
     "data": {
      "text/plain": [
       "array([1, 0, 0, ..., 0, 1, 0], dtype=int64)"
      ]
     },
     "execution_count": 2,
     "metadata": {},
     "output_type": "execute_result"
    }
   ],
   "source": [
    "train_labels[0:]"
   ]
  },
  {
   "cell_type": "code",
   "execution_count": 3,
   "id": "ad6b9064-76e8-4d6b-9b41-2977b4f8feef",
   "metadata": {},
   "outputs": [
    {
     "data": {
      "text/plain": [
       "9999"
      ]
     },
     "execution_count": 3,
     "metadata": {},
     "output_type": "execute_result"
    }
   ],
   "source": [
    "max([max(sequence) for sequence in train_data])"
   ]
  },
  {
   "cell_type": "code",
   "execution_count": 2,
   "id": "a9687f4f-3e8e-4979-bcd7-3d3a81a2ddf0",
   "metadata": {},
   "outputs": [],
   "source": [
    "word_index = imdb.get_word_index()\n",
    "reverse_word_index = dict([(value, key) for (key, value) in word_index.items()])\n",
    "decoded_review = ' '.join([reverse_word_index.get(i - 3, '?') for i in train_data[0]])"
   ]
  },
  {
   "cell_type": "markdown",
   "id": "6828c3fc-bc66-4af4-9eea-6d0d1a02034b",
   "metadata": {},
   "source": [
    "리스트를 텐서로 바꾸는 방법\n",
    "* 같은 길이가 되도록 리스트에 패딩(padding)을 추가하고 (samples, sequence_length)크기의 정수텐서로 변환한다. 그 다음 이 정수텐서를 다룰 수 있는 층을 신경망의 첫 번째 층으로 사용한다\n",
    "\n",
    "* 리스트를 원 핫 인코딩(one-hot encoding)해서 0과 1의 벡터로 변환한다. 예를 들어 시퀀스[3, 5]를 인덱스 3과 5의 위치는 1이고 그 외는 모두 0인 10000차원의 벡터로 각각 변환한 후 부동소수 벡터데이터를 다룰 수 있는 Dense층을 신경망의 첫 번째 층으로 사용한다"
   ]
  },
  {
   "cell_type": "code",
   "execution_count": 3,
   "id": "1ffb40c6-8d90-4ffc-bfa5-65817fbafc36",
   "metadata": {},
   "outputs": [],
   "source": [
    "#데이터 원 핫 벡터로 만들기(두번째 방식)\n",
    "import numpy as np\n",
    "\n",
    "def vectorize_sequences(sequences, dimension=10000):\n",
    "  results = np.zeros((len(sequences), dimension))\n",
    "  for i, sequence in enumerate(sequences):\n",
    "    results[i, sequence] = 1.\n",
    "  return results\n",
    "\n",
    "x_train = vectorize_sequences(train_data)\n",
    "x_test = vectorize_sequences(test_data)"
   ]
  },
  {
   "cell_type": "code",
   "execution_count": 4,
   "id": "771937dc-514c-4b26-92ee-59aff8200f55",
   "metadata": {},
   "outputs": [],
   "source": [
    "y_train = np.asarray(train_labels).astype('float32')\n",
    "y_test = np.asarray(test_labels).astype('float32')"
   ]
  },
  {
   "cell_type": "code",
   "execution_count": 5,
   "id": "00c7b3cc-0e23-45f0-ac24-5172772f13ac",
   "metadata": {},
   "outputs": [],
   "source": [
    "from keras import models\n",
    "from keras import layers\n",
    "\n",
    "model = models.Sequential()\n",
    "model.add(layers.Dense(16, activation = 'relu', input_shape=(10000,)))\n",
    "model.add(layers.Dense(16, activation = 'relu'))\n",
    "model.add(layers.Dense(1, activation = 'sigmoid'))"
   ]
  },
  {
   "cell_type": "code",
   "execution_count": 6,
   "id": "20c4f9e8-e0d9-44d5-8f49-5db7abd208f4",
   "metadata": {},
   "outputs": [],
   "source": [
    "model.compile(optimizer='rmsprop',\n",
    "              loss='binary_crossentropy',\n",
    "              metrics=['accuracy'])"
   ]
  },
  {
   "cell_type": "code",
   "execution_count": 7,
   "id": "1609187c-cb37-4536-b361-98a9a82d8caa",
   "metadata": {},
   "outputs": [],
   "source": [
    "#옵티마이저 설정\n",
    "from keras import optimizers\n",
    "model.compile(optimizer=optimizers.RMSprop(learning_rate=0.001),\n",
    "              loss='binary_crossentropy',\n",
    "              metrics=['accuracy'])"
   ]
  },
  {
   "cell_type": "markdown",
   "id": "7db54b32-99ac-48a5-bf86-a51f848703d1",
   "metadata": {},
   "source": [
    "* 손실함수: 훈련데이터에서 신경망의 성능을 측정하는 방식으로 네트워크가 옳은 방향으로 학습될 수 있도록 도와줌\n",
    "* 옵티마이저: 입력된 데이터와 손실함수를 기반으로 네트워크를 업데이트하는 메커니즘"
   ]
  },
  {
   "cell_type": "code",
   "execution_count": 8,
   "id": "8b6e8394-779e-4288-af24-5d005c3880bd",
   "metadata": {},
   "outputs": [],
   "source": [
    "#손실과 측정을 함수 객체로 지정\n",
    "from keras import losses\n",
    "from keras import metrics\n",
    "model.compile(optimizer=optimizers.RMSprop(learning_rate=0.001),\n",
    "              loss=losses.binary_crossentropy,\n",
    "              metrics=[metrics.binary_accuracy])"
   ]
  },
  {
   "cell_type": "code",
   "execution_count": 9,
   "id": "220b01ba-b5f8-4e54-8242-8a2b153c25ea",
   "metadata": {},
   "outputs": [],
   "source": [
    "#훈련 검증-검증 세트준비\n",
    "x_val = x_train[:10000]\n",
    "partial_x_train = x_train[10000:]\n",
    "y_val = y_train[:10000]\n",
    "partial_y_train = y_train[10000:]"
   ]
  },
  {
   "cell_type": "markdown",
   "id": "60b1ebb3-7def-4746-a89c-88735a6df932",
   "metadata": {},
   "source": [
    "전체 훈련 데이터에 수행되는 각 반복을 에포크(epoch)라고 한다"
   ]
  },
  {
   "cell_type": "code",
   "execution_count": 10,
   "id": "d2381735-2577-4a3f-8004-6a17a6a728d1",
   "metadata": {},
   "outputs": [
    {
     "name": "stdout",
     "output_type": "stream",
     "text": [
      "Train on 15000 samples, validate on 10000 samples\n",
      "Epoch 1/20\n",
      "15000/15000 [==============================] - 2s 141us/step - loss: 0.5462 - acc: 0.7914 - val_loss: 0.4404 - val_acc: 0.8423\n",
      "Epoch 2/20\n",
      "15000/15000 [==============================] - 2s 117us/step - loss: 0.3391 - acc: 0.8943 - val_loss: 0.3372 - val_acc: 0.8707\n",
      "Epoch 3/20\n",
      "15000/15000 [==============================] - 2s 130us/step - loss: 0.2449 - acc: 0.9239 - val_loss: 0.2889 - val_acc: 0.8871\n",
      "Epoch 4/20\n",
      "15000/15000 [==============================] - 2s 123us/step - loss: 0.1917 - acc: 0.9387 - val_loss: 0.2725 - val_acc: 0.8920\n",
      "Epoch 5/20\n",
      "15000/15000 [==============================] - 2s 139us/step - loss: 0.1559 - acc: 0.9501 - val_loss: 0.2753 - val_acc: 0.8880\n",
      "Epoch 6/20\n",
      "15000/15000 [==============================] - 2s 112us/step - loss: 0.1281 - acc: 0.9592 - val_loss: 0.2852 - val_acc: 0.8864\n",
      "Epoch 7/20\n",
      "15000/15000 [==============================] - 2s 124us/step - loss: 0.1066 - acc: 0.9683 - val_loss: 0.3271 - val_acc: 0.8799\n",
      "Epoch 8/20\n",
      "15000/15000 [==============================] - 2s 131us/step - loss: 0.0905 - acc: 0.9741 - val_loss: 0.3211 - val_acc: 0.8801\n",
      "Epoch 9/20\n",
      "15000/15000 [==============================] - 2s 108us/step - loss: 0.0763 - acc: 0.9789 - val_loss: 0.3630 - val_acc: 0.8766\n",
      "Epoch 10/20\n",
      "15000/15000 [==============================] - 2s 130us/step - loss: 0.0622 - acc: 0.9847 - val_loss: 0.3651 - val_acc: 0.8819\n",
      "Epoch 11/20\n",
      "15000/15000 [==============================] - 2s 117us/step - loss: 0.0533 - acc: 0.9863 - val_loss: 0.3874 - val_acc: 0.8779\n",
      "Epoch 12/20\n",
      "15000/15000 [==============================] - 2s 119us/step - loss: 0.0430 - acc: 0.9895 - val_loss: 0.4396 - val_acc: 0.8683\n",
      "Epoch 13/20\n",
      "15000/15000 [==============================] - 3s 203us/step - loss: 0.0354 - acc: 0.9927 - val_loss: 0.4744 - val_acc: 0.8666\n",
      "Epoch 14/20\n",
      "15000/15000 [==============================] - 2s 158us/step - loss: 0.0297 - acc: 0.9934 - val_loss: 0.4941 - val_acc: 0.8674\n",
      "Epoch 15/20\n",
      "15000/15000 [==============================] - 2s 130us/step - loss: 0.0226 - acc: 0.9959 - val_loss: 0.5105 - val_acc: 0.8720\n",
      "Epoch 16/20\n",
      "15000/15000 [==============================] - 2s 124us/step - loss: 0.0194 - acc: 0.9973 - val_loss: 0.5484 - val_acc: 0.8671\n",
      "Epoch 17/20\n",
      "15000/15000 [==============================] - 2s 120us/step - loss: 0.0143 - acc: 0.9986 - val_loss: 0.5808 - val_acc: 0.8649\n",
      "Epoch 18/20\n",
      "15000/15000 [==============================] - 2s 123us/step - loss: 0.0121 - acc: 0.9987 - val_loss: 0.6403 - val_acc: 0.8606\n",
      "Epoch 19/20\n",
      "15000/15000 [==============================] - 2s 127us/step - loss: 0.0089 - acc: 0.9994 - val_loss: 0.6523 - val_acc: 0.8651\n",
      "Epoch 20/20\n",
      "15000/15000 [==============================] - 2s 121us/step - loss: 0.0072 - acc: 0.9995 - val_loss: 0.6886 - val_acc: 0.8634\n"
     ]
    }
   ],
   "source": [
    "# 모델 훈련\n",
    "model.compile(optimizer='rmsprop',\n",
    "              loss='binary_crossentropy',\n",
    "              metrics=['acc'])\n",
    "\n",
    "history = model.fit(partial_x_train,\n",
    "                    partial_y_train,\n",
    "                    epochs = 20,\n",
    "                    batch_size = 512,\n",
    "                    validation_data = (x_val, y_val))"
   ]
  },
  {
   "cell_type": "code",
   "execution_count": 13,
   "id": "e6471b82-e6a6-4e9f-b419-2da639291338",
   "metadata": {},
   "outputs": [
    {
     "data": {
      "text/plain": [
       "dict_keys(['val_loss', 'val_acc', 'loss', 'acc'])"
      ]
     },
     "execution_count": 13,
     "metadata": {},
     "output_type": "execute_result"
    }
   ],
   "source": [
    "history_dict = history.history\n",
    "history_dict.keys()"
   ]
  },
  {
   "cell_type": "code",
   "execution_count": 14,
   "id": "5ef23edd-8f16-49af-b41a-9359d42089a9",
   "metadata": {},
   "outputs": [
    {
     "data": {
      "text/plain": [
       "<function matplotlib.pyplot.show(close=None, block=None)>"
      ]
     },
     "execution_count": 14,
     "metadata": {},
     "output_type": "execute_result"
    },
    {
     "data": {
      "image/png": "[encoded data removed]",
      "text/plain": [
       "<Figure size 432x288 with 1 Axes>"
      ]
     },
     "metadata": {
      "needs_background": "light"
     },
     "output_type": "display_data"
    }
   ],
   "source": [
    "#훈련과 검증손실 그리기\n",
    "import matplotlib.pyplot as plt\n",
    "\n",
    "history_dict = history.history\n",
    "loss = history_dict['loss']\n",
    "val_loss = history_dict['val_loss']\n",
    "\n",
    "epochs = range(1, len(loss) + 1)\n",
    "\n",
    "plt.plot(epochs, loss, 'bo', label='Training looss')\n",
    "plt.plot(epochs, val_loss, 'b', label='Validation loss')\n",
    "plt.title('Training and validation loss')\n",
    "plt.xlabel('Epochs')\n",
    "plt.ylabel('Loss')\n",
    "plt.legend()\n",
    "\n",
    "plt.show"
   ]
  },
  {
   "cell_type": "code",
   "execution_count": 15,
   "id": "efd96e3a-c513-467a-8ab9-a429c2bdacae",
   "metadata": {},
   "outputs": [
    {
     "data": {
      "text/plain": [
       "<function matplotlib.pyplot.show(close=None, block=None)>"
      ]
     },
     "execution_count": 15,
     "metadata": {},
     "output_type": "execute_result"
    },
    {
     "data": {
      "image/png": "[encoded data removed]",
      "text/plain": [
       "<Figure size 432x288 with 1 Axes>"
      ]
     },
     "metadata": {
      "needs_background": "light"
     },
     "output_type": "display_data"
    }
   ],
   "source": [
    "#훈련과 검증 정확도 그리기\n",
    "plt.clf() # 그래프 초기화하기\n",
    "acc = history_dict['acc']\n",
    "val_acc = history_dict['val_acc']\n",
    "\n",
    "plt.plot(epochs, acc, 'bo', label='Training acc')\n",
    "plt.plot(epochs, val_acc, 'b', label='Validation acc')\n",
    "plt.title('Training and validation accuracy')\n",
    "plt.xlabel('Epochs')\n",
    "plt.ylabel('Accuracy')\n",
    "plt.legend()\n",
    "\n",
    "plt.show"
   ]
  },
  {
   "cell_type": "markdown",
   "id": "9dfa66dc-20aa-458b-9a27-baee937c1de3",
   "metadata": {},
   "source": [
    "훈련 손실은 에포크마다 감소, 훈련 정확도는 에포크마다 증가, 4번째 에포크에서 그래프 역전=>과대적합(훈련 세트 이외의 데이터에는 부적합)"
   ]
  },
  {
   "cell_type": "code",
   "execution_count": 16,
   "id": "42466a06-ff3e-45ea-9c93-3e133bbbe5b7",
   "metadata": {},
   "outputs": [
    {
     "name": "stdout",
     "output_type": "stream",
     "text": [
      "Epoch 1/4\n",
      "25000/25000 [==============================] - 2s 80us/step - loss: 0.4938 - accuracy: 0.8156\n",
      "Epoch 2/4\n",
      "25000/25000 [==============================] - 2s 77us/step - loss: 0.2804 - accuracy: 0.9062\n",
      "Epoch 3/4\n",
      "25000/25000 [==============================] - 2s 78us/step - loss: 0.2086 - accuracy: 0.9274\n",
      "Epoch 4/4\n",
      "25000/25000 [==============================] - 2s 84us/step - loss: 0.1736 - accuracy: 0.9399\n",
      "25000/25000 [==============================] - 3s 108us/step\n"
     ]
    }
   ],
   "source": [
    "# 모델 처음부터 다시 훈련하기(4번의 에포크 동안)\n",
    "model = models.Sequential()\n",
    "model.add(layers.Dense(16, activation='relu', input_shape=(10000,)))\n",
    "model.add(layers.Dense(16, activation='relu'))\n",
    "model.add(layers.Dense(1, activation='sigmoid'))\n",
    "\n",
    "model.compile(optimizer='rmsprop',\n",
    "              loss='binary_crossentropy',\n",
    "              metrics=['accuracy'])\n",
    "\n",
    "model.fit(x_train, y_train, epochs=4, batch_size=512)\n",
    "results = model.evaluate(x_test, y_test)"
   ]
  },
  {
   "cell_type": "code",
   "execution_count": 32,
   "id": "d66e618f-27cb-4573-900d-d7dd72773a67",
   "metadata": {},
   "outputs": [
    {
     "data": {
      "text/plain": [
       "[0.30811139752388, 0.878600001335144]"
      ]
     },
     "execution_count": 32,
     "metadata": {},
     "output_type": "execute_result"
    }
   ],
   "source": [
    "results"
   ]
  },
  {
   "cell_type": "code",
   "execution_count": 17,
   "id": "f03d8061-a77d-49fe-bd6c-c948cd63875b",
   "metadata": {},
   "outputs": [
    {
     "data": {
      "text/plain": [
       "array([[0.132142  ],\n",
       "       [0.9999827 ],\n",
       "       [0.9103702 ],\n",
       "       ...,\n",
       "       [0.12876593],\n",
       "       [0.07367615],\n",
       "       [0.47078443]], dtype=float32)"
      ]
     },
     "execution_count": 17,
     "metadata": {},
     "output_type": "execute_result"
    }
   ],
   "source": [
    "model.predict(x_test)"
   ]
  },
  {
   "cell_type": "markdown",
   "id": "0b926cf0-49af-4f45-ac29-7e50badf2ab0",
   "metadata": {},
   "source": [
    "3.4.6 추가실험"
   ]
  },
  {
   "cell_type": "code",
   "execution_count": 17,
   "id": "6243925c-fca7-4550-b7ed-28d2ffccf2b6",
   "metadata": {},
   "outputs": [
    {
     "name": "stdout",
     "output_type": "stream",
     "text": [
      "ERROR! Session/line number was not unique in database. History logging moved to new session 403\n",
      "Train on 25000 samples, validate on 10000 samples\n",
      "Epoch 1/4\n",
      "25000/25000 [==============================] - 3s 110us/step - loss: 0.4371 - acc: 0.8340 - val_loss: 0.2938 - val_acc: 0.9112\n",
      "Epoch 2/4\n",
      "25000/25000 [==============================] - 3s 137us/step - loss: 0.2714 - acc: 0.9071 - val_loss: 0.2188 - val_acc: 0.9319\n",
      "Epoch 3/4\n",
      "25000/25000 [==============================] - 3s 102us/step - loss: 0.2160 - acc: 0.9256 - val_loss: 0.1834 - val_acc: 0.9421\n",
      "Epoch 4/4\n",
      "25000/25000 [==============================] - 3s 102us/step - loss: 0.1836 - acc: 0.9367 - val_loss: 0.1580 - val_acc: 0.9504\n",
      "25000/25000 [==============================] - 2s 86us/step\n"
     ]
    }
   ],
   "source": [
    "#은닉층 한개 사용\n",
    "model = models.Sequential()\n",
    "model.add(layers.Dense(16, activation='relu', input_shape=(10000,)))\n",
    "model.add(layers.Dense(1, activation='sigmoid'))\n",
    "\n",
    "model.compile(optimizer='rmsprop',\n",
    "              loss='binary_crossentropy',\n",
    "              metrics=['acc'])\n",
    "\n",
    "history=model.fit(x_train, y_train, epochs=4, batch_size=512, validation_data = (x_val, y_val))\n",
    "results = model.evaluate(x_test, y_test)"
   ]
  },
  {
   "cell_type": "code",
   "execution_count": 18,
   "id": "4d5ec1e0-72a9-46b6-af41-29c0958fa6a5",
   "metadata": {},
   "outputs": [
    {
     "data": {
      "text/plain": [
       "dict_keys(['val_loss', 'val_acc', 'loss', 'acc'])"
      ]
     },
     "execution_count": 18,
     "metadata": {},
     "output_type": "execute_result"
    }
   ],
   "source": [
    "history_dict = history.history\n",
    "history_dict.keys()"
   ]
  },
  {
   "cell_type": "code",
   "execution_count": 19,
   "id": "a569b4c7-8ca3-4d62-a94f-2427516d313a",
   "metadata": {},
   "outputs": [
    {
     "data": {
      "text/plain": [
       "<function matplotlib.pyplot.show(close=None, block=None)>"
      ]
     },
     "execution_count": 19,
     "metadata": {},
     "output_type": "execute_result"
    },
    {
     "data": {
      "image/png": "[encoded data removed]",
      "text/plain": [
       "<Figure size 432x288 with 1 Axes>"
      ]
     },
     "metadata": {
      "needs_background": "light"
     },
     "output_type": "display_data"
    }
   ],
   "source": [
    "#훈련과 검증손실 그리기\n",
    "import matplotlib.pyplot as plt\n",
    "\n",
    "history_dict = history.history\n",
    "loss = history_dict['loss']\n",
    "val_loss = history_dict['val_loss']\n",
    "\n",
    "epochs = range(1, len(loss) + 1)\n",
    "\n",
    "plt.plot(epochs, loss, 'bo', label='Training looss')\n",
    "plt.plot(epochs, val_loss, 'b', label='Validation loss')\n",
    "plt.title('Training and validation loss')\n",
    "plt.xlabel('Epochs')\n",
    "plt.ylabel('Loss')\n",
    "plt.legend()\n",
    "\n",
    "plt.show"
   ]
  },
  {
   "cell_type": "code",
   "execution_count": 20,
   "id": "02225738-b625-4606-ad8f-4d4eeb38a4e9",
   "metadata": {},
   "outputs": [
    {
     "data": {
      "text/plain": [
       "<function matplotlib.pyplot.show(close=None, block=None)>"
      ]
     },
     "execution_count": 20,
     "metadata": {},
     "output_type": "execute_result"
    },
    {
     "data": {
      "image/png": "[encoded data removed]",
      "text/plain": [
       "<Figure size 432x288 with 1 Axes>"
      ]
     },
     "metadata": {
      "needs_background": "light"
     },
     "output_type": "display_data"
    }
   ],
   "source": [
    "#훈련과 검증 정확도 그리기\n",
    "plt.clf() # 그래프 초기화하기\n",
    "acc = history_dict['acc']\n",
    "val_acc = history_dict['val_acc']\n",
    "\n",
    "plt.plot(epochs, acc, 'bo', label='Training acc')\n",
    "plt.plot(epochs, val_acc, 'b', label='Validation acc')\n",
    "plt.title('Training and validation accuracy')\n",
    "plt.xlabel('Epochs')\n",
    "plt.ylabel('Accuracy')\n",
    "plt.legend()\n",
    "\n",
    "plt.show"
   ]
  },
  {
   "cell_type": "code",
   "execution_count": 19,
   "id": "ef27ce91-51d3-45af-8283-49bcde345e79",
   "metadata": {},
   "outputs": [
    {
     "name": "stdout",
     "output_type": "stream",
     "text": [
      "Train on 25000 samples, validate on 10000 samples\n",
      "Epoch 1/4\n",
      "25000/25000 [==============================] - 4s 140us/step - loss: 0.4187 - accuracy: 0.8178 - val_loss: 0.2288 - val_accuracy: 0.9244\n",
      "Epoch 2/4\n",
      "25000/25000 [==============================] - 3s 137us/step - loss: 0.2366 - accuracy: 0.9097 - val_loss: 0.1588 - val_accuracy: 0.9474\n",
      "Epoch 3/4\n",
      "25000/25000 [==============================] - 3s 135us/step - loss: 0.1836 - accuracy: 0.9312 - val_loss: 0.1157 - val_accuracy: 0.9655\n",
      "Epoch 4/4\n",
      "25000/25000 [==============================] - 3s 136us/step - loss: 0.1410 - accuracy: 0.9478 - val_loss: 0.0829 - val_accuracy: 0.9770\n",
      "25000/25000 [==============================] - 3s 105us/step\n"
     ]
    }
   ],
   "source": [
    "#유닛 64개\n",
    "model = models.Sequential()\n",
    "model.add(layers.Dense(64, activation='relu', input_shape=(10000,)))\n",
    "model.add(layers.Dense(64, activation='relu'))\n",
    "model.add(layers.Dense(1, activation='sigmoid'))\n",
    "\n",
    "model.compile(optimizer='rmsprop',\n",
    "              loss='binary_crossentropy',\n",
    "              metrics=['accuracy'])\n",
    "\n",
    "history=model.fit(x_train, y_train, epochs=4, batch_size=512, validation_data = (x_val, y_val))\n",
    "results = model.evaluate(x_test, y_test)"
   ]
  },
  {
   "cell_type": "code",
   "execution_count": 20,
   "id": "e65ac32b-b49d-4743-bb46-8416ad1754b7",
   "metadata": {},
   "outputs": [
    {
     "data": {
      "text/plain": [
       "dict_keys(['val_loss', 'val_accuracy', 'loss', 'accuracy'])"
      ]
     },
     "execution_count": 20,
     "metadata": {},
     "output_type": "execute_result"
    }
   ],
   "source": [
    "history_dict = history.history\n",
    "history_dict.keys()"
   ]
  },
  {
   "cell_type": "code",
   "execution_count": 21,
   "id": "12690b97-10e6-46fb-9d14-4546219a55bd",
   "metadata": {},
   "outputs": [
    {
     "data": {
      "text/plain": [
       "<function matplotlib.pyplot.show(close=None, block=None)>"
      ]
     },
     "execution_count": 21,
     "metadata": {},
     "output_type": "execute_result"
    },
    {
     "data": {
      "image/png": "[encoded data removed]",
      "text/plain": [
       "<Figure size 432x288 with 1 Axes>"
      ]
     },
     "metadata": {
      "needs_background": "light"
     },
     "output_type": "display_data"
    }
   ],
   "source": [
    "#훈련과 검증손실 그리기\n",
    "import matplotlib.pyplot as plt\n",
    "\n",
    "history_dict = history.history\n",
    "loss = history_dict['loss']\n",
    "val_loss = history_dict['val_loss']\n",
    "\n",
    "epochs = range(1, len(loss) + 1)\n",
    "\n",
    "plt.plot(epochs, loss, 'bo', label='Training looss')\n",
    "plt.plot(epochs, val_loss, 'b', label='Validation loss')\n",
    "plt.title('Training and validation loss')\n",
    "plt.xlabel('Epochs')\n",
    "plt.ylabel('Loss')\n",
    "plt.legend()\n",
    "\n",
    "plt.show"
   ]
  },
  {
   "cell_type": "code",
   "execution_count": 23,
   "id": "3368c7c1-6282-4471-9ab7-eb3510862432",
   "metadata": {},
   "outputs": [
    {
     "data": {
      "text/plain": [
       "<function matplotlib.pyplot.show(close=None, block=None)>"
      ]
     },
     "execution_count": 23,
     "metadata": {},
     "output_type": "execute_result"
    },
    {
     "data": {
      "image/png": "[encoded data removed]",
      "text/plain": [
       "<Figure size 432x288 with 1 Axes>"
      ]
     },
     "metadata": {
      "needs_background": "light"
     },
     "output_type": "display_data"
    }
   ],
   "source": [
    "#훈련과 검증 정확도 그리기\n",
    "plt.clf() # 그래프 초기화하기\n",
    "acc = history_dict['accuracy']\n",
    "val_acc = history_dict['val_accuracy']\n",
    "\n",
    "plt.plot(epochs, acc, 'bo', label='Training accuracy')\n",
    "plt.plot(epochs, val_acc, 'b', label='Validation accuracy')\n",
    "plt.title('Training and validation accuracy')\n",
    "plt.xlabel('Epochs')\n",
    "plt.ylabel('Accuracy')\n",
    "plt.legend()\n",
    "\n",
    "plt.show"
   ]
  },
  {
   "cell_type": "code",
   "execution_count": 10,
   "id": "94fc62de-3fb0-4399-81b7-2ea58df69cb7",
   "metadata": {},
   "outputs": [
    {
     "name": "stdout",
     "output_type": "stream",
     "text": [
      "Train on 25000 samples, validate on 10000 samples\n",
      "Epoch 1/4\n",
      "25000/25000 [==============================] - 3s 112us/step - loss: 0.1476 - accuracy: 0.8258 - val_loss: 0.0843 - val_accuracy: 0.9153\n",
      "Epoch 2/4\n",
      "25000/25000 [==============================] - 3s 102us/step - loss: 0.0780 - accuracy: 0.9108 - val_loss: 0.0571 - val_accuracy: 0.9392\n",
      "Epoch 3/4\n",
      "25000/25000 [==============================] - 3s 104us/step - loss: 0.0590 - accuracy: 0.9308 - val_loss: 0.0424 - val_accuracy: 0.9554\n",
      "Epoch 4/4\n",
      "25000/25000 [==============================] - 3s 105us/step - loss: 0.0475 - accuracy: 0.9452 - val_loss: 0.0444 - val_accuracy: 0.9479\n",
      "25000/25000 [==============================] - 3s 102us/step\n"
     ]
    }
   ],
   "source": [
    "# binary_crossentrophy 대신 mse사용\n",
    "model = models.Sequential()\n",
    "model.add(layers.Dense(16, activation='relu', input_shape=(10000,)))\n",
    "model.add(layers.Dense(16, activation='relu'))\n",
    "model.add(layers.Dense(1, activation='sigmoid'))\n",
    "\n",
    "model.compile(optimizer='rmsprop',\n",
    "              loss='mse',\n",
    "              metrics=['accuracy'])\n",
    "\n",
    "history=model.fit(x_train, y_train, epochs=4, batch_size=512, validation_data=(x_val, y_val))\n",
    "results = model.evaluate(x_test, y_test)"
   ]
  },
  {
   "cell_type": "code",
   "execution_count": 11,
   "id": "99b7cfa2-5118-4efb-804d-ae5087449709",
   "metadata": {},
   "outputs": [
    {
     "data": {
      "text/plain": [
       "dict_keys(['val_loss', 'val_accuracy', 'loss', 'accuracy'])"
      ]
     },
     "execution_count": 11,
     "metadata": {},
     "output_type": "execute_result"
    }
   ],
   "source": [
    "history_dict = history.history\n",
    "history_dict.keys()"
   ]
  },
  {
   "cell_type": "code",
   "execution_count": 12,
   "id": "8b139564-f708-4f38-ae33-8ee146d88596",
   "metadata": {},
   "outputs": [
    {
     "data": {
      "text/plain": [
       "<function matplotlib.pyplot.show(close=None, block=None)>"
      ]
     },
     "execution_count": 12,
     "metadata": {},
     "output_type": "execute_result"
    },
    {
     "data": {
      "image/png": "[encoded data removed]",
      "text/plain": [
       "<Figure size 432x288 with 1 Axes>"
      ]
     },
     "metadata": {
      "needs_background": "light"
     },
     "output_type": "display_data"
    }
   ],
   "source": [
    "import matplotlib.pyplot as plt\n",
    "\n",
    "history_dict = history.history\n",
    "loss = history_dict['loss']\n",
    "val_loss = history_dict['val_loss']\n",
    "\n",
    "epochs = range(1, len(loss) + 1)\n",
    "\n",
    "plt.plot(epochs, loss, 'bo', label='Training looss')\n",
    "plt.plot(epochs, val_loss, 'b', label='Validation loss')\n",
    "plt.title('Training and validation loss')\n",
    "plt.xlabel('Epochs')\n",
    "plt.ylabel('Loss')\n",
    "plt.legend()\n",
    "\n",
    "plt.show"
   ]
  },
  {
   "cell_type": "code",
   "execution_count": 13,
   "id": "da701f8e-966f-4164-b440-7aba9085a127",
   "metadata": {},
   "outputs": [
    {
     "data": {
      "text/plain": [
       "<function matplotlib.pyplot.show(close=None, block=None)>"
      ]
     },
     "execution_count": 13,
     "metadata": {},
     "output_type": "execute_result"
    },
    {
     "data": {
      "image/png": "[encoded data removed]",
      "text/plain": [
       "<Figure size 432x288 with 1 Axes>"
      ]
     },
     "metadata": {
      "needs_background": "light"
     },
     "output_type": "display_data"
    }
   ],
   "source": [
    "plt.clf() # 그래프 초기화하기\n",
    "acc = history_dict['accuracy']\n",
    "val_acc = history_dict['val_accuracy']\n",
    "\n",
    "plt.plot(epochs, acc, 'bo', label='Training accuracy')\n",
    "plt.plot(epochs, val_acc, 'b', label='Validation accuracy')\n",
    "plt.title('Training and validation accuracy')\n",
    "plt.xlabel('Epochs')\n",
    "plt.ylabel('Accuracy')\n",
    "plt.legend()\n",
    "\n",
    "plt.show"
   ]
  },
  {
   "cell_type": "code",
   "execution_count": 12,
   "id": "dd658f3a-7b4f-439b-9c54-bca9378194b5",
   "metadata": {},
   "outputs": [
    {
     "name": "stdout",
     "output_type": "stream",
     "text": [
      "Train on 25000 samples, validate on 10000 samples\n",
      "Epoch 1/4\n",
      "25000/25000 [==============================] - 3s 137us/step - loss: 0.4304 - accuracy: 0.8297 - val_loss: 0.2615 - val_accuracy: 0.9141\n",
      "Epoch 2/4\n",
      "25000/25000 [==============================] - 5s 188us/step - loss: 0.2346 - accuracy: 0.9140 - val_loss: 0.1657 - val_accuracy: 0.9469\n",
      "Epoch 3/4\n",
      "25000/25000 [==============================] - 6s 228us/step - loss: 0.1785 - accuracy: 0.9353 - val_loss: 0.1656 - val_accuracy: 0.9371\n",
      "Epoch 4/4\n",
      "25000/25000 [==============================] - 5s 189us/step - loss: 0.1463 - accuracy: 0.9472 - val_loss: 0.1082 - val_accuracy: 0.9674\n",
      "25000/25000 [==============================] - 5s 193us/step\n"
     ]
    }
   ],
   "source": [
    "#relu 대신 tanh활성화 함수 써보기\n",
    "model = models.Sequential()\n",
    "model.add(layers.Dense(16, activation='tanh', input_shape=(10000,)))\n",
    "model.add(layers.Dense(16, activation='tanh'))\n",
    "model.add(layers.Dense(1, activation='sigmoid'))\n",
    "\n",
    "model.compile(optimizer='rmsprop',\n",
    "              loss='binary_crossentropy',\n",
    "              metrics=['accuracy'])\n",
    "\n",
    "history=model.fit(x_train, y_train, epochs=4, batch_size=512, validation_data=(x_val, y_val))\n",
    "results = model.evaluate(x_test, y_test)"
   ]
  },
  {
   "cell_type": "code",
   "execution_count": 13,
   "id": "c8ddcf89-62ca-4189-a873-7dd929a91ffb",
   "metadata": {},
   "outputs": [
    {
     "data": {
      "text/plain": [
       "<function matplotlib.pyplot.show(close=None, block=None)>"
      ]
     },
     "execution_count": 13,
     "metadata": {},
     "output_type": "execute_result"
    },
    {
     "data": {
      "image/png": "[encoded data removed]",
      "text/plain": [
       "<Figure size 432x288 with 1 Axes>"
      ]
     },
     "metadata": {
      "needs_background": "light"
     },
     "output_type": "display_data"
    }
   ],
   "source": [
    "import matplotlib.pyplot as plt\n",
    "\n",
    "history_dict = history.history\n",
    "loss = history_dict['loss']\n",
    "val_loss = history_dict['val_loss']\n",
    "\n",
    "epochs = range(1, len(loss) + 1)\n",
    "\n",
    "plt.plot(epochs, loss, 'bo', label='Training looss')\n",
    "plt.plot(epochs, val_loss, 'b', label='Validation loss')\n",
    "plt.title('Training and validation loss')\n",
    "plt.xlabel('Epochs')\n",
    "plt.ylabel('Loss')\n",
    "plt.legend()\n",
    "\n",
    "plt.show"
   ]
  },
  {
   "cell_type": "code",
   "execution_count": 14,
   "id": "9c929263-9370-485d-ae32-b0ad46a91d23",
   "metadata": {},
   "outputs": [
    {
     "data": {
      "text/plain": [
       "<function matplotlib.pyplot.show(close=None, block=None)>"
      ]
     },
     "execution_count": 14,
     "metadata": {},
     "output_type": "execute_result"
    },
    {
     "data": {
      "image/png": "[encoded data removed]",
      "text/plain": [
       "<Figure size 432x288 with 1 Axes>"
      ]
     },
     "metadata": {
      "needs_background": "light"
     },
     "output_type": "display_data"
    }
   ],
   "source": [
    "plt.clf() # 그래프 초기화하기\n",
    "acc = history_dict['accuracy']\n",
    "val_acc = history_dict['val_accuracy']\n",
    "\n",
    "plt.plot(epochs, acc, 'bo', label='Training accuracy')\n",
    "plt.plot(epochs, val_acc, 'b', label='Validation accuracy')\n",
    "plt.title('Training and validation accuracy')\n",
    "plt.xlabel('Epochs')\n",
    "plt.ylabel('Accuracy')\n",
    "plt.legend()\n",
    "\n",
    "plt.show"
   ]
  },
  {
   "cell_type": "code",
   "execution_count": null,
   "id": "7131eac5-d674-4c3e-b209-7ffc0d9e600c",
   "metadata": {},
   "outputs": [],
   "source": []
  }
 ],
 "metadata": {
  "kernelspec": {
   "display_name": "Python 3",
   "language": "python",
   "name": "python3"
  },
  "language_info": {
   "codemirror_mode": {
    "name": "ipython",
    "version": 3
   },
   "file_extension": ".py",
   "mimetype": "text/x-python",
   "name": "python",
   "nbconvert_exporter": "python",
   "pygments_lexer": "ipython3",
   "version": "3.6.13"
  }
 },
 "nbformat": 4,
 "nbformat_minor": 5
}
