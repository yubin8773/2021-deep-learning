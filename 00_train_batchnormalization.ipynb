{
  "nbformat": 4,
  "nbformat_minor": 0,
  "metadata": {
    "language_info": {
      "codemirror_mode": {
        "name": "ipython",
        "version": 3
      },
      "file_extension": ".py",
      "mimetype": "text/x-python",
      "name": "python",
      "nbconvert_exporter": "python",
      "pygments_lexer": "ipython3",
      "version": "3.8.10"
    },
    "orig_nbformat": 4,
    "kernelspec": {
      "name": "python3",
      "display_name": "Python 3.8.10 64-bit ('tensor25': conda)"
    },
    "interpreter": {
      "hash": "9e149ba8c4c5ea18857919ddbadd3050e3e74d2ebf3e9aab941bca58425ee743"
    },
    "colab": {
      "name": "00_train_batchnormalization.ipynb",
      "provenance": [],
      "collapsed_sections": [],
      "include_colab_link": true
    },
    "accelerator": "GPU"
  },
  "cells": [
    {
      "cell_type": "markdown",
      "metadata": {
        "id": "view-in-github",
        "colab_type": "text"
      },
      "source": [
        "<a href=\"https://colab.research.google.com/github/yubin8773/2021-deep-learning/blob/main/00_train_batchnormalization.ipynb\" target=\"_parent\"><img src=\"https://colab.research.google.com/assets/colab-badge.svg\" alt=\"Open In Colab\"/></a>"
      ]
    },
    {
      "cell_type": "code",
      "metadata": {
        "colab": {
          "base_uri": "https://localhost:8080/"
        },
        "id": "BEZY89iWOL1W",
        "outputId": "d0906044-cd3e-4ea0-af92-aa8b9657102f"
      },
      "source": [
        "from google.colab import drive\n",
        "drive.mount('/content/drive')"
      ],
      "execution_count": null,
      "outputs": [
        {
          "name": "stdout",
          "output_type": "stream",
          "text": [
            "Go to this URL in a browser: https://accounts.google.com/o/oauth2/auth?client_id=947318989803-6bn6qk8qdgf4n4g3pfee6491hc0brc4i.apps.googleusercontent.com&redirect_uri=urn%3aietf%3awg%3aoauth%3a2.0%3aoob&scope=email%20https%3a%2f%2fwww.googleapis.com%2fauth%2fdocs.test%20https%3a%2f%2fwww.googleapis.com%2fauth%2fdrive%20https%3a%2f%2fwww.googleapis.com%2fauth%2fdrive.photos.readonly%20https%3a%2f%2fwww.googleapis.com%2fauth%2fpeopleapi.readonly%20https%3a%2f%2fwww.googleapis.com%2fauth%2fdrive.activity.readonly%20https%3a%2f%2fwww.googleapis.com%2fauth%2fexperimentsandconfigs%20https%3a%2f%2fwww.googleapis.com%2fauth%2fphotos.native&response_type=code\n",
            "\n",
            "Enter your authorization code:\n",
            "4/1AX4XfWiENDw8egRqMqsgQ1Cq3rKgHLHMILItWO3TtfOsBfPCCsVrln4WJAw\n"
          ]
        }
      ]
    },
    {
      "cell_type": "code",
      "metadata": {
        "id": "EQfHsgL_OHOp"
      },
      "source": [
        "import numpy as np\n",
        "import tensorflow as tf\n",
        "import cv2, os, glob, random\n",
        "import matplotlib.pyplot as plt\n",
        "\n",
        "import imgaug.augmenters as iaa\n",
        "import imgaug as ia\n",
        "\n",
        "from tensorflow.keras.layers import *\n",
        "from sklearn.model_selection import train_test_split\n",
        "from tensorflow.keras.callbacks import ModelCheckpoint"
      ],
      "execution_count": null,
      "outputs": []
    },
    {
      "cell_type": "markdown",
      "metadata": {
        "id": "Rpew60HKOHOr"
      },
      "source": [
        "## argument"
      ]
    },
    {
      "cell_type": "code",
      "metadata": {
        "id": "4nxGR_G8OHOs"
      },
      "source": [
        "physical_devices = tf.config.list_physical_devices('GPU')\n",
        "try:\n",
        "    tf.config.experimental.set_memory_growth(physical_devices[0], True)\n",
        "except:\n",
        "    pass\n",
        "\n",
        "ramdom_seed = 5198\n",
        "tf.random.set_seed(ramdom_seed)\n",
        "np.random.seed(ramdom_seed)\n",
        "random.seed(ramdom_seed)\n",
        "os.environ['PYTHONHASHSEED'] = str(ramdom_seed)\n",
        "init_k = tf.keras.initializers.he_normal(seed=ramdom_seed)\n"
      ],
      "execution_count": null,
      "outputs": []
    },
    {
      "cell_type": "markdown",
      "metadata": {
        "id": "L-fKjCaCOHOs"
      },
      "source": [
        "## data loader"
      ]
    },
    {
      "cell_type": "code",
      "metadata": {
        "id": "zfI5x-wgOHOs"
      },
      "source": [
        "raw_data = np.load('/content/drive/MyDrive/RF data/all_data_np_1005_no_z_1.npy')\n",
        "data_input = np.reshape(raw_data, (-1,16,150))\n",
        "data_label = np.load('/content/drive/MyDrive/RF data/posnum_np_1005_no_z_1.npy')"
      ],
      "execution_count": null,
      "outputs": []
    },
    {
      "cell_type": "code",
      "metadata": {
        "colab": {
          "base_uri": "https://localhost:8080/"
        },
        "id": "kGBDYZnQihFQ",
        "outputId": "e2f0d157-bc83-412f-8f2d-de54a7278fbc"
      },
      "source": [
        "data_input = np.reshape(raw_data, (-1, 16, 150))\n",
        "print(data_input.shape)"
      ],
      "execution_count": null,
      "outputs": [
        {
          "output_type": "stream",
          "name": "stdout",
          "text": [
            "(1089, 16, 150)\n"
          ]
        }
      ]
    },
    {
      "cell_type": "code",
      "metadata": {
        "id": "4LZjYplXOHOs",
        "colab": {
          "base_uri": "https://localhost:8080/"
        },
        "outputId": "3c21c5b7-aa63-4b3e-8c0c-9d7b4d001939"
      },
      "source": [
        "idx = list(np.arange(len(raw_data)))\n",
        "rand_idx = random.sample(idx, 200)\n",
        "complement = list(set(idx) - set(rand_idx))\n",
        "print(complement)"
      ],
      "execution_count": null,
      "outputs": [
        {
          "output_type": "stream",
          "name": "stdout",
          "text": [
            "[0, 2, 3, 4, 5, 6, 7, 8, 9, 10, 11, 12, 14, 15, 17, 19, 20, 21, 22, 23, 25, 26, 27, 28, 29, 30, 31, 32, 33, 34, 35, 36, 37, 38, 39, 40, 42, 44, 46, 47, 48, 49, 51, 52, 53, 54, 55, 56, 57, 61, 62, 63, 64, 65, 66, 67, 68, 69, 70, 72, 74, 75, 76, 77, 78, 79, 80, 81, 83, 84, 85, 86, 87, 88, 89, 90, 91, 94, 95, 97, 98, 99, 100, 101, 103, 105, 106, 107, 108, 109, 111, 112, 113, 114, 115, 117, 118, 120, 121, 122, 123, 124, 125, 126, 127, 128, 129, 130, 131, 133, 134, 135, 136, 137, 138, 140, 141, 142, 143, 144, 148, 149, 152, 153, 154, 155, 156, 157, 158, 160, 161, 162, 163, 164, 165, 166, 168, 170, 171, 172, 175, 177, 178, 179, 180, 181, 183, 184, 185, 186, 188, 189, 190, 192, 193, 194, 195, 196, 197, 198, 199, 202, 203, 204, 206, 207, 208, 209, 210, 211, 212, 213, 215, 217, 218, 221, 222, 223, 224, 225, 227, 228, 229, 230, 231, 232, 233, 234, 235, 236, 237, 239, 240, 242, 243, 244, 246, 247, 248, 249, 250, 251, 252, 253, 254, 255, 256, 257, 258, 259, 260, 261, 262, 263, 264, 265, 267, 268, 269, 270, 271, 272, 273, 274, 275, 276, 277, 278, 280, 281, 282, 283, 284, 285, 287, 288, 289, 290, 292, 293, 294, 295, 297, 298, 299, 300, 301, 303, 304, 305, 306, 307, 308, 309, 310, 311, 312, 313, 314, 315, 316, 317, 318, 320, 321, 322, 323, 324, 325, 326, 327, 329, 330, 331, 332, 333, 334, 335, 336, 337, 338, 339, 341, 342, 343, 344, 347, 348, 349, 351, 352, 354, 356, 357, 358, 359, 363, 364, 365, 366, 367, 368, 369, 370, 371, 374, 375, 376, 377, 378, 380, 381, 383, 384, 385, 386, 387, 390, 391, 392, 394, 396, 397, 398, 399, 401, 402, 403, 404, 405, 406, 407, 408, 409, 410, 411, 412, 413, 415, 416, 417, 419, 420, 422, 423, 424, 426, 428, 429, 430, 432, 435, 436, 437, 438, 439, 440, 441, 442, 443, 444, 445, 446, 447, 448, 449, 450, 451, 454, 455, 456, 458, 459, 460, 461, 462, 464, 467, 470, 471, 472, 473, 474, 475, 477, 478, 479, 481, 482, 483, 484, 485, 486, 487, 488, 489, 490, 491, 492, 494, 495, 496, 498, 500, 501, 502, 503, 504, 505, 507, 508, 509, 511, 514, 515, 517, 518, 520, 522, 523, 524, 525, 526, 527, 528, 530, 531, 532, 534, 536, 537, 538, 539, 540, 541, 542, 543, 544, 547, 548, 549, 550, 551, 552, 553, 554, 555, 556, 558, 559, 560, 562, 564, 566, 567, 568, 569, 570, 571, 572, 573, 574, 576, 577, 578, 579, 580, 582, 583, 585, 586, 587, 590, 591, 592, 593, 594, 595, 596, 597, 598, 599, 600, 601, 602, 603, 605, 606, 607, 608, 610, 611, 612, 613, 614, 615, 616, 618, 619, 620, 621, 622, 623, 624, 625, 626, 627, 628, 629, 630, 631, 632, 633, 635, 636, 637, 638, 639, 640, 641, 644, 645, 646, 647, 648, 649, 651, 654, 655, 656, 657, 658, 659, 661, 662, 663, 664, 665, 667, 668, 669, 671, 672, 673, 674, 675, 676, 677, 679, 681, 682, 683, 684, 685, 686, 687, 688, 689, 690, 691, 692, 693, 694, 695, 697, 698, 699, 700, 704, 705, 706, 708, 710, 712, 713, 714, 716, 717, 718, 719, 720, 722, 723, 724, 725, 726, 728, 729, 731, 732, 733, 734, 736, 739, 740, 741, 743, 744, 745, 746, 747, 749, 750, 751, 752, 753, 754, 755, 756, 757, 758, 760, 761, 762, 763, 764, 765, 766, 767, 768, 769, 770, 772, 773, 775, 776, 778, 779, 780, 781, 782, 783, 784, 785, 786, 787, 788, 789, 790, 792, 793, 794, 795, 797, 798, 799, 800, 801, 802, 803, 804, 805, 806, 807, 808, 810, 811, 812, 814, 815, 816, 817, 818, 820, 821, 822, 823, 824, 825, 826, 827, 828, 831, 832, 833, 834, 835, 836, 837, 838, 839, 840, 842, 843, 845, 846, 847, 849, 852, 855, 856, 857, 858, 859, 860, 861, 862, 863, 864, 865, 866, 868, 869, 870, 871, 872, 873, 874, 875, 876, 877, 879, 880, 881, 882, 883, 886, 888, 890, 891, 892, 893, 894, 895, 896, 898, 899, 900, 901, 902, 904, 906, 907, 908, 909, 910, 911, 912, 913, 914, 915, 916, 918, 919, 920, 921, 922, 923, 924, 925, 926, 927, 928, 929, 930, 932, 933, 935, 936, 938, 939, 942, 944, 945, 946, 947, 948, 949, 951, 952, 953, 954, 955, 956, 957, 958, 960, 961, 962, 963, 964, 965, 966, 968, 969, 970, 971, 972, 973, 974, 975, 977, 978, 980, 981, 982, 983, 984, 985, 986, 987, 988, 989, 990, 991, 992, 993, 994, 995, 996, 997, 998, 999, 1000, 1001, 1002, 1003, 1004, 1005, 1007, 1008, 1009, 1010, 1012, 1013, 1014, 1015, 1016, 1017, 1018, 1020, 1021, 1022, 1023, 1024, 1025, 1026, 1027, 1028, 1029, 1032, 1033, 1034, 1035, 1036, 1037, 1038, 1039, 1041, 1042, 1043, 1044, 1045, 1046, 1047, 1048, 1051, 1052, 1053, 1054, 1056, 1057, 1059, 1061, 1062, 1063, 1064, 1065, 1066, 1067, 1068, 1070, 1071, 1072, 1073, 1074, 1076, 1077, 1078, 1079, 1080, 1081, 1082, 1083, 1084, 1085, 1086, 1087, 1088]\n"
          ]
        }
      ]
    },
    {
      "cell_type": "code",
      "metadata": {
        "colab": {
          "base_uri": "https://localhost:8080/"
        },
        "id": "hbVgG4buIprD",
        "outputId": "b03614af-5a36-4357-cfb7-f0ecd6d4f476"
      },
      "source": [
        "len(idx)"
      ],
      "execution_count": null,
      "outputs": [
        {
          "output_type": "execute_result",
          "data": {
            "text/plain": [
              "1089"
            ]
          },
          "metadata": {},
          "execution_count": 8
        }
      ]
    },
    {
      "cell_type": "code",
      "metadata": {
        "id": "cCxUynULOHOt"
      },
      "source": [
        "X_train = data_input[complement]\n",
        "Y_train = data_label[complement]\n",
        "x_val = data_input[rand_idx]\n",
        "y_val = data_label[rand_idx]"
      ],
      "execution_count": null,
      "outputs": []
    },
    {
      "cell_type": "code",
      "metadata": {
        "id": "SfEY0sZ-OHOt"
      },
      "source": [
        "# def image_aug_batch(img):\n",
        "#     seq = iaa.Sequential([\n",
        "#     iaa.Multiply((0.9, 1.1)), \n",
        "#     iaa.Affine(\n",
        "#         translate_px={\"x\": 10, \"y\": 10},\n",
        "#         scale=(0.95, 1.05),\n",
        "#         rotate=(-180, 180)),\n",
        "#     iaa.Fliplr(0.5),\n",
        "#     iaa.Flipud(0.5)\n",
        "#     ])\n",
        "#     images_aug = seq(images = img.astype(np.float32)/255.)\n",
        "#     return images_aug"
      ],
      "execution_count": null,
      "outputs": []
    },
    {
      "cell_type": "code",
      "metadata": {
        "id": "oriIVRiYOHOt"
      },
      "source": [
        "def data_generator(train_imgs, train_labels, batch_size, aug = True):\n",
        "    idx = 0\n",
        "    idx_list = list(range(0,len(train_imgs)))\n",
        "    random.shuffle(idx_list)\n",
        "    while 1:\n",
        "        if idx > len(idx_list) - batch_size:\n",
        "            tmp_list = idx_list[idx:]\n",
        "            idx = 0\n",
        "        else:\n",
        "            tmp_list = idx_list[idx:idx + batch_size]\n",
        "            idx = idx + batch_size\n",
        "        batch_images = train_imgs[tmp_list]\n",
        "        batch_labels = train_labels[tmp_list]\n",
        "        \n",
        "        # if aug == True:\n",
        "        #     batch_images = image_aug_batch(batch_images)\n",
        "        #     batch_images = (batch_images * 255).astype(np.uint8)\n",
        "        #     batch_images = np.clip(batch_images, 0, 255)\n",
        "        batch_images = batch_images\n",
        "        yield batch_images, batch_labels"
      ],
      "execution_count": null,
      "outputs": []
    },
    {
      "cell_type": "code",
      "metadata": {
        "id": "GEP3nrDVOHOu"
      },
      "source": [
        "batch_size = 256\n",
        "train_gen = data_generator(X_train, Y_train, batch_size, aug = True)\n",
        "val_gen = data_generator(x_val, y_val, batch_size, aug = False)\n",
        "# test_gen = data_generator(X_test, y_test, batch_size, aug = False)"
      ],
      "execution_count": null,
      "outputs": []
    },
    {
      "cell_type": "markdown",
      "metadata": {
        "id": "8FyASh6DOHOu"
      },
      "source": [
        "## model"
      ]
    },
    {
      "cell_type": "markdown",
      "metadata": {
        "id": "ix3WZt7XOHOu"
      },
      "source": [
        ""
      ]
    },
    {
      "cell_type": "code",
      "metadata": {
        "id": "wn5LWn6QOHOu"
      },
      "source": [
        "from tensorflow.keras.layers import BatchNormalization\n",
        "\n",
        "input_shape = (16,150,1)\n",
        "input_ = Input(input_shape)\n",
        "x = Conv2D(32, (1,32), padding='valid', activation = 'relu')(input_)\n",
        "x = BatchNormalization()(x)\n",
        "x = MaxPool2D((1,3), strides = 1)(x)\n",
        "x = BatchNormalization()(x)\n",
        "x = Conv2D(64, (1,32), padding='valid', activation = 'relu')(x)\n",
        "x = BatchNormalization()(x)\n",
        "x = MaxPool2D((1,3), strides = 1)(x)\n",
        "x = BatchNormalization()(x)\n",
        "x = Conv2D(64, (1,32), padding='valid', activation = 'relu')(x)\n",
        "x = BatchNormalization()(x)\n",
        "x = MaxPool2D((1,3), strides = 1)(x)\n",
        "x = BatchNormalization()(x)\n",
        "x = Conv2D(64, (1,16), padding='valid', activation = 'relu')(x)\n",
        "x = BatchNormalization()(x)\n",
        "x = MaxPool2D((1,3), strides = 1)(x)\n",
        "x = BatchNormalization()(x)\n",
        "x = Conv2D(32, (1,16), padding='valid', activation = 'relu')(x)\n",
        "x = BatchNormalization()(x)\n",
        "x = MaxPool2D((1,3), strides = 1)(x)\n",
        "x = BatchNormalization()(x)\n",
        "x = Conv2D(32, (1,7), padding='valid', activation = 'relu')(x)\n",
        "x = BatchNormalization()(x)\n",
        "x = MaxPool2D((1,3), strides = 1)(x)\n",
        "x = BatchNormalization()(x)\n",
        "x = Conv2D(32, (1,5), padding='valid', activation = 'relu')(x)\n",
        "x = BatchNormalization()(x)\n",
        "x = MaxPool2D((1,3), strides = 1)(x)\n",
        "x = BatchNormalization()(x)\n",
        "x = Conv2D(1, (1,3), padding='valid', activation = 'relu')(x)\n",
        "\n",
        "x = Flatten()(x)\n",
        "x = Dense(256, activation = 'relu')(x)\n",
        "x = Dense(4)(x)\n",
        "x = tf.keras.layers.ReLU(max_value = 10)(x)\n",
        "\n",
        "model = tf.keras.models.Model(input_, x)\n"
      ],
      "execution_count": null,
      "outputs": []
    },
    {
      "cell_type": "code",
      "metadata": {
        "colab": {
          "base_uri": "https://localhost:8080/"
        },
        "id": "ympBZYK8OHOv",
        "outputId": "68394961-6028-402b-c69b-52f49a1180d2"
      },
      "source": [
        "model.summary()"
      ],
      "execution_count": null,
      "outputs": [
        {
          "output_type": "stream",
          "name": "stdout",
          "text": [
            "Model: \"model\"\n",
            "_________________________________________________________________\n",
            "Layer (type)                 Output Shape              Param #   \n",
            "=================================================================\n",
            "input_1 (InputLayer)         [(None, 16, 150, 1)]      0         \n",
            "_________________________________________________________________\n",
            "conv2d (Conv2D)              (None, 16, 119, 32)       1056      \n",
            "_________________________________________________________________\n",
            "batch_normalization (BatchNo (None, 16, 119, 32)       128       \n",
            "_________________________________________________________________\n",
            "max_pooling2d (MaxPooling2D) (None, 16, 117, 32)       0         \n",
            "_________________________________________________________________\n",
            "batch_normalization_1 (Batch (None, 16, 117, 32)       128       \n",
            "_________________________________________________________________\n",
            "conv2d_1 (Conv2D)            (None, 16, 86, 64)        65600     \n",
            "_________________________________________________________________\n",
            "batch_normalization_2 (Batch (None, 16, 86, 64)        256       \n",
            "_________________________________________________________________\n",
            "max_pooling2d_1 (MaxPooling2 (None, 16, 84, 64)        0         \n",
            "_________________________________________________________________\n",
            "batch_normalization_3 (Batch (None, 16, 84, 64)        256       \n",
            "_________________________________________________________________\n",
            "conv2d_2 (Conv2D)            (None, 16, 53, 64)        131136    \n",
            "_________________________________________________________________\n",
            "batch_normalization_4 (Batch (None, 16, 53, 64)        256       \n",
            "_________________________________________________________________\n",
            "max_pooling2d_2 (MaxPooling2 (None, 16, 51, 64)        0         \n",
            "_________________________________________________________________\n",
            "batch_normalization_5 (Batch (None, 16, 51, 64)        256       \n",
            "_________________________________________________________________\n",
            "conv2d_3 (Conv2D)            (None, 16, 36, 64)        65600     \n",
            "_________________________________________________________________\n",
            "batch_normalization_6 (Batch (None, 16, 36, 64)        256       \n",
            "_________________________________________________________________\n",
            "max_pooling2d_3 (MaxPooling2 (None, 16, 34, 64)        0         \n",
            "_________________________________________________________________\n",
            "batch_normalization_7 (Batch (None, 16, 34, 64)        256       \n",
            "_________________________________________________________________\n",
            "conv2d_4 (Conv2D)            (None, 16, 19, 32)        32800     \n",
            "_________________________________________________________________\n",
            "batch_normalization_8 (Batch (None, 16, 19, 32)        128       \n",
            "_________________________________________________________________\n",
            "max_pooling2d_4 (MaxPooling2 (None, 16, 17, 32)        0         \n",
            "_________________________________________________________________\n",
            "batch_normalization_9 (Batch (None, 16, 17, 32)        128       \n",
            "_________________________________________________________________\n",
            "conv2d_5 (Conv2D)            (None, 16, 11, 32)        7200      \n",
            "_________________________________________________________________\n",
            "batch_normalization_10 (Batc (None, 16, 11, 32)        128       \n",
            "_________________________________________________________________\n",
            "max_pooling2d_5 (MaxPooling2 (None, 16, 9, 32)         0         \n",
            "_________________________________________________________________\n",
            "batch_normalization_11 (Batc (None, 16, 9, 32)         128       \n",
            "_________________________________________________________________\n",
            "conv2d_6 (Conv2D)            (None, 16, 5, 32)         5152      \n",
            "_________________________________________________________________\n",
            "batch_normalization_12 (Batc (None, 16, 5, 32)         128       \n",
            "_________________________________________________________________\n",
            "max_pooling2d_6 (MaxPooling2 (None, 16, 3, 32)         0         \n",
            "_________________________________________________________________\n",
            "batch_normalization_13 (Batc (None, 16, 3, 32)         128       \n",
            "_________________________________________________________________\n",
            "conv2d_7 (Conv2D)            (None, 16, 1, 1)          97        \n",
            "_________________________________________________________________\n",
            "flatten (Flatten)            (None, 16)                0         \n",
            "_________________________________________________________________\n",
            "dense (Dense)                (None, 256)               4352      \n",
            "_________________________________________________________________\n",
            "dense_1 (Dense)              (None, 4)                 1028      \n",
            "_________________________________________________________________\n",
            "re_lu (ReLU)                 (None, 4)                 0         \n",
            "=================================================================\n",
            "Total params: 316,581\n",
            "Trainable params: 315,301\n",
            "Non-trainable params: 1,280\n",
            "_________________________________________________________________\n"
          ]
        }
      ]
    },
    {
      "cell_type": "code",
      "metadata": {
        "colab": {
          "base_uri": "https://localhost:8080/"
        },
        "id": "vofBk6dvOHOv",
        "outputId": "e540cc5e-d847-412b-cbfe-6693fc3d478b"
      },
      "source": [
        "model.compile(optimizer=tf.keras.optimizers.Adam(lr=0.0002),\n",
        "              loss=tf.keras.losses.MSE, metrics=['mae'])"
      ],
      "execution_count": null,
      "outputs": [
        {
          "output_type": "stream",
          "name": "stderr",
          "text": [
            "/usr/local/lib/python3.7/dist-packages/keras/optimizer_v2/optimizer_v2.py:356: UserWarning: The `lr` argument is deprecated, use `learning_rate` instead.\n",
            "  \"The `lr` argument is deprecated, use `learning_rate` instead.\")\n"
          ]
        }
      ]
    },
    {
      "cell_type": "markdown",
      "metadata": {
        "id": "XSr6qsIuOHOw"
      },
      "source": [
        "## save path"
      ]
    },
    {
      "cell_type": "code",
      "metadata": {
        "id": "9cPmSzDgOHOw"
      },
      "source": [
        "file_save_name = 'saved_model/00_test'\n",
        "\n",
        "try:\n",
        "    if not os.path.exists(file_save_name):\n",
        "        os.makedirs(file_save_name)\n",
        "except OSError:\n",
        "    print ('Error: Creating directory. ' +  file_save_name)"
      ],
      "execution_count": null,
      "outputs": []
    },
    {
      "cell_type": "code",
      "metadata": {
        "id": "4q2zNWigOHOw"
      },
      "source": [
        "filepath = f'{file_save_name}' + '/model-{epoch:04d}.h5'\n",
        "checkpoint = ModelCheckpoint(filepath, save_weights_only=True)"
      ],
      "execution_count": null,
      "outputs": []
    },
    {
      "cell_type": "markdown",
      "metadata": {
        "id": "u-CghSSjOHOw"
      },
      "source": [
        "## train"
      ]
    },
    {
      "cell_type": "code",
      "metadata": {
        "colab": {
          "base_uri": "https://localhost:8080/"
        },
        "id": "CmxLojTgOHOw",
        "outputId": "b42df26a-d0f9-487d-8dfd-a988d4ed9bc1"
      },
      "source": [
        "model_hist = model.fit_generator(train_gen, epochs = 100, steps_per_epoch = int(len(data_input)/batch_size)+1, callbacks = [checkpoint], validation_data=val_gen, validation_steps=5)"
      ],
      "execution_count": null,
      "outputs": [
        {
          "output_type": "stream",
          "name": "stderr",
          "text": [
            "/usr/local/lib/python3.7/dist-packages/keras/engine/training.py:1972: UserWarning: `Model.fit_generator` is deprecated and will be removed in a future version. Please use `Model.fit`, which supports generators.\n",
            "  warnings.warn('`Model.fit_generator` is deprecated and '\n"
          ]
        },
        {
          "output_type": "stream",
          "name": "stdout",
          "text": [
            "Epoch 1/100\n",
            "5/5 [==============================] - 43s 2s/step - loss: 20.2973 - mae: 3.1857 - val_loss: 21.1733 - val_mae: 3.3337\n",
            "Epoch 2/100\n",
            "5/5 [==============================] - 2s 461ms/step - loss: 18.3480 - mae: 2.9850 - val_loss: 21.1459 - val_mae: 3.3312\n",
            "Epoch 3/100\n",
            "5/5 [==============================] - 2s 468ms/step - loss: 16.5951 - mae: 2.7934 - val_loss: 21.1172 - val_mae: 3.3287\n",
            "Epoch 4/100\n",
            "5/5 [==============================] - 2s 461ms/step - loss: 15.4928 - mae: 2.6804 - val_loss: 21.0889 - val_mae: 3.3262\n",
            "Epoch 5/100\n",
            "5/5 [==============================] - 2s 464ms/step - loss: 14.3260 - mae: 2.5631 - val_loss: 21.0620 - val_mae: 3.3238\n",
            "Epoch 6/100\n",
            "5/5 [==============================] - 2s 467ms/step - loss: 13.4824 - mae: 2.4767 - val_loss: 21.0376 - val_mae: 3.3217\n",
            "Epoch 7/100\n",
            "5/5 [==============================] - 2s 464ms/step - loss: 12.9646 - mae: 2.4129 - val_loss: 21.0037 - val_mae: 3.3189\n",
            "Epoch 8/100\n",
            "5/5 [==============================] - 2s 462ms/step - loss: 12.6283 - mae: 2.3698 - val_loss: 20.4813 - val_mae: 3.2711\n",
            "Epoch 9/100\n",
            "5/5 [==============================] - 2s 466ms/step - loss: 12.2020 - mae: 2.3276 - val_loss: 19.8057 - val_mae: 3.2082\n",
            "Epoch 10/100\n",
            "5/5 [==============================] - 2s 465ms/step - loss: 11.7660 - mae: 2.2546 - val_loss: 18.3659 - val_mae: 3.0621\n",
            "Epoch 11/100\n",
            "5/5 [==============================] - 2s 460ms/step - loss: 11.4790 - mae: 2.1952 - val_loss: 18.9368 - val_mae: 3.1206\n",
            "Epoch 12/100\n",
            "5/5 [==============================] - 2s 460ms/step - loss: 11.1772 - mae: 2.1374 - val_loss: 19.0186 - val_mae: 3.1288\n",
            "Epoch 13/100\n",
            "5/5 [==============================] - 2s 464ms/step - loss: 10.5438 - mae: 2.0686 - val_loss: 18.4695 - val_mae: 3.0728\n",
            "Epoch 14/100\n",
            "5/5 [==============================] - 2s 463ms/step - loss: 9.3448 - mae: 1.9612 - val_loss: 15.1982 - val_mae: 2.7442\n",
            "Epoch 15/100\n",
            "5/5 [==============================] - 2s 459ms/step - loss: 7.6446 - mae: 1.7923 - val_loss: 12.5398 - val_mae: 2.4798\n",
            "Epoch 16/100\n",
            "5/5 [==============================] - 2s 462ms/step - loss: 6.1380 - mae: 1.6299 - val_loss: 12.0843 - val_mae: 2.4414\n",
            "Epoch 17/100\n",
            "5/5 [==============================] - 2s 462ms/step - loss: 4.9812 - mae: 1.4983 - val_loss: 11.7359 - val_mae: 2.4150\n",
            "Epoch 18/100\n",
            "5/5 [==============================] - 2s 459ms/step - loss: 4.2685 - mae: 1.3894 - val_loss: 10.9537 - val_mae: 2.3343\n",
            "Epoch 19/100\n",
            "5/5 [==============================] - 2s 462ms/step - loss: 3.8911 - mae: 1.3254 - val_loss: 9.1444 - val_mae: 2.1640\n",
            "Epoch 20/100\n",
            "5/5 [==============================] - 2s 459ms/step - loss: 3.5084 - mae: 1.2457 - val_loss: 9.4774 - val_mae: 2.1997\n",
            "Epoch 21/100\n",
            "5/5 [==============================] - 2s 459ms/step - loss: 3.3808 - mae: 1.2311 - val_loss: 9.7672 - val_mae: 2.2252\n",
            "Epoch 22/100\n",
            "5/5 [==============================] - 2s 465ms/step - loss: 3.3546 - mae: 1.2242 - val_loss: 8.8077 - val_mae: 2.1341\n",
            "Epoch 23/100\n",
            "5/5 [==============================] - 2s 463ms/step - loss: 3.1607 - mae: 1.1964 - val_loss: 8.0694 - val_mae: 2.0577\n",
            "Epoch 24/100\n",
            "5/5 [==============================] - 2s 465ms/step - loss: 2.6454 - mae: 1.0554 - val_loss: 8.5658 - val_mae: 2.1079\n",
            "Epoch 25/100\n",
            "5/5 [==============================] - 2s 460ms/step - loss: 2.4175 - mae: 1.0218 - val_loss: 8.3790 - val_mae: 2.0955\n",
            "Epoch 26/100\n",
            "5/5 [==============================] - 2s 458ms/step - loss: 2.2270 - mae: 0.9706 - val_loss: 7.8326 - val_mae: 2.0380\n",
            "Epoch 27/100\n",
            "5/5 [==============================] - 2s 462ms/step - loss: 1.9250 - mae: 0.9001 - val_loss: 8.3699 - val_mae: 2.0940\n",
            "Epoch 28/100\n",
            "5/5 [==============================] - 2s 456ms/step - loss: 1.6472 - mae: 0.8183 - val_loss: 7.5268 - val_mae: 2.0016\n",
            "Epoch 29/100\n",
            "5/5 [==============================] - 2s 457ms/step - loss: 1.5519 - mae: 0.7939 - val_loss: 7.3478 - val_mae: 1.9826\n",
            "Epoch 30/100\n",
            "5/5 [==============================] - 2s 465ms/step - loss: 1.4024 - mae: 0.7489 - val_loss: 7.4438 - val_mae: 1.9936\n",
            "Epoch 31/100\n",
            "5/5 [==============================] - 2s 460ms/step - loss: 1.3445 - mae: 0.7293 - val_loss: 7.2690 - val_mae: 1.9736\n",
            "Epoch 32/100\n",
            "5/5 [==============================] - 2s 460ms/step - loss: 1.1802 - mae: 0.6938 - val_loss: 8.0451 - val_mae: 2.0647\n",
            "Epoch 33/100\n",
            "5/5 [==============================] - 2s 460ms/step - loss: 1.0904 - mae: 0.6490 - val_loss: 7.8123 - val_mae: 2.0379\n",
            "Epoch 34/100\n",
            "5/5 [==============================] - 2s 459ms/step - loss: 0.9477 - mae: 0.6104 - val_loss: 7.6905 - val_mae: 2.0234\n",
            "Epoch 35/100\n",
            "5/5 [==============================] - 2s 466ms/step - loss: 0.8352 - mae: 0.5681 - val_loss: 7.7147 - val_mae: 2.0258\n",
            "Epoch 36/100\n",
            "5/5 [==============================] - 2s 462ms/step - loss: 0.7379 - mae: 0.5293 - val_loss: 8.0778 - val_mae: 2.0691\n",
            "Epoch 37/100\n",
            "5/5 [==============================] - 2s 461ms/step - loss: 0.7691 - mae: 0.5393 - val_loss: 7.9170 - val_mae: 2.0491\n",
            "Epoch 38/100\n",
            "5/5 [==============================] - 2s 463ms/step - loss: 0.6815 - mae: 0.5115 - val_loss: 7.5960 - val_mae: 2.0124\n",
            "Epoch 39/100\n",
            "5/5 [==============================] - 2s 464ms/step - loss: 0.6761 - mae: 0.5097 - val_loss: 7.3207 - val_mae: 1.9786\n",
            "Epoch 40/100\n",
            "5/5 [==============================] - 2s 460ms/step - loss: 0.6486 - mae: 0.4983 - val_loss: 7.0764 - val_mae: 1.9545\n",
            "Epoch 41/100\n",
            "5/5 [==============================] - 2s 461ms/step - loss: 0.7110 - mae: 0.5257 - val_loss: 7.2690 - val_mae: 1.9729\n",
            "Epoch 42/100\n",
            "5/5 [==============================] - 2s 462ms/step - loss: 0.6281 - mae: 0.4882 - val_loss: 7.4831 - val_mae: 1.9919\n",
            "Epoch 43/100\n",
            "5/5 [==============================] - 2s 463ms/step - loss: 0.5526 - mae: 0.4584 - val_loss: 7.6278 - val_mae: 2.0151\n",
            "Epoch 44/100\n",
            "5/5 [==============================] - 2s 457ms/step - loss: 0.4799 - mae: 0.4200 - val_loss: 8.9943 - val_mae: 2.1367\n",
            "Epoch 45/100\n",
            "5/5 [==============================] - 2s 464ms/step - loss: 0.4830 - mae: 0.4179 - val_loss: 8.3162 - val_mae: 2.0726\n",
            "Epoch 46/100\n",
            "5/5 [==============================] - 2s 457ms/step - loss: 0.3951 - mae: 0.3718 - val_loss: 8.7640 - val_mae: 2.1136\n",
            "Epoch 47/100\n",
            "5/5 [==============================] - 2s 457ms/step - loss: 0.3639 - mae: 0.3536 - val_loss: 9.4932 - val_mae: 2.1861\n",
            "Epoch 48/100\n",
            "5/5 [==============================] - 2s 461ms/step - loss: 0.3194 - mae: 0.3257 - val_loss: 9.2746 - val_mae: 2.1653\n",
            "Epoch 49/100\n",
            "5/5 [==============================] - 2s 457ms/step - loss: 0.3251 - mae: 0.3246 - val_loss: 9.3844 - val_mae: 2.1783\n",
            "Epoch 50/100\n",
            "5/5 [==============================] - 2s 460ms/step - loss: 0.2842 - mae: 0.3049 - val_loss: 9.5553 - val_mae: 2.1943\n",
            "Epoch 51/100\n",
            "5/5 [==============================] - 2s 462ms/step - loss: 0.2629 - mae: 0.2900 - val_loss: 9.0690 - val_mae: 2.1455\n",
            "Epoch 52/100\n",
            "5/5 [==============================] - 2s 455ms/step - loss: 0.2503 - mae: 0.2804 - val_loss: 8.6828 - val_mae: 2.1112\n",
            "Epoch 53/100\n",
            "5/5 [==============================] - 2s 467ms/step - loss: 0.2693 - mae: 0.2914 - val_loss: 8.6282 - val_mae: 2.1013\n",
            "Epoch 54/100\n",
            "5/5 [==============================] - 2s 462ms/step - loss: 0.2410 - mae: 0.2800 - val_loss: 8.3002 - val_mae: 2.0694\n",
            "Epoch 55/100\n",
            "5/5 [==============================] - 2s 462ms/step - loss: 0.2432 - mae: 0.2869 - val_loss: 8.8142 - val_mae: 2.1159\n",
            "Epoch 56/100\n",
            "5/5 [==============================] - 2s 456ms/step - loss: 0.2217 - mae: 0.2650 - val_loss: 10.2190 - val_mae: 2.2632\n",
            "Epoch 57/100\n",
            "5/5 [==============================] - 2s 458ms/step - loss: 0.2247 - mae: 0.2648 - val_loss: 10.4600 - val_mae: 2.2781\n",
            "Epoch 58/100\n",
            "5/5 [==============================] - 2s 462ms/step - loss: 0.2051 - mae: 0.2548 - val_loss: 11.1205 - val_mae: 2.3427\n",
            "Epoch 59/100\n",
            "5/5 [==============================] - 2s 463ms/step - loss: 0.1978 - mae: 0.2506 - val_loss: 10.0008 - val_mae: 2.2354\n",
            "Epoch 60/100\n",
            "5/5 [==============================] - 2s 456ms/step - loss: 0.1971 - mae: 0.2482 - val_loss: 10.1076 - val_mae: 2.2432\n",
            "Epoch 61/100\n",
            "5/5 [==============================] - 2s 462ms/step - loss: 0.1956 - mae: 0.2438 - val_loss: 10.5224 - val_mae: 2.2843\n",
            "Epoch 62/100\n",
            "5/5 [==============================] - 2s 461ms/step - loss: 0.1677 - mae: 0.2267 - val_loss: 11.5328 - val_mae: 2.3793\n",
            "Epoch 63/100\n",
            "5/5 [==============================] - 2s 460ms/step - loss: 0.1543 - mae: 0.2144 - val_loss: 12.2953 - val_mae: 2.4580\n",
            "Epoch 64/100\n",
            "5/5 [==============================] - 2s 460ms/step - loss: 0.1378 - mae: 0.1922 - val_loss: 10.3558 - val_mae: 2.2632\n",
            "Epoch 65/100\n",
            "5/5 [==============================] - 2s 457ms/step - loss: 0.1455 - mae: 0.1986 - val_loss: 11.9729 - val_mae: 2.4232\n",
            "Epoch 66/100\n",
            "5/5 [==============================] - 2s 462ms/step - loss: 0.1351 - mae: 0.2017 - val_loss: 11.0740 - val_mae: 2.3347\n",
            "Epoch 67/100\n",
            "5/5 [==============================] - 2s 459ms/step - loss: 0.1504 - mae: 0.2206 - val_loss: 12.7358 - val_mae: 2.4952\n",
            "Epoch 68/100\n",
            "5/5 [==============================] - 2s 459ms/step - loss: 0.1465 - mae: 0.2137 - val_loss: 12.1133 - val_mae: 2.4277\n",
            "Epoch 69/100\n",
            "5/5 [==============================] - 3s 526ms/step - loss: 0.1708 - mae: 0.2325 - val_loss: 11.6053 - val_mae: 2.3792\n",
            "Epoch 70/100\n",
            "5/5 [==============================] - 2s 458ms/step - loss: 0.1499 - mae: 0.2247 - val_loss: 11.5654 - val_mae: 2.3755\n",
            "Epoch 71/100\n",
            "5/5 [==============================] - 2s 459ms/step - loss: 0.1436 - mae: 0.2184 - val_loss: 9.1794 - val_mae: 2.1302\n",
            "Epoch 72/100\n",
            "5/5 [==============================] - 2s 458ms/step - loss: 0.1280 - mae: 0.1973 - val_loss: 8.6615 - val_mae: 2.0851\n",
            "Epoch 73/100\n",
            "5/5 [==============================] - 2s 460ms/step - loss: 0.1382 - mae: 0.2051 - val_loss: 8.5083 - val_mae: 2.0624\n",
            "Epoch 74/100\n",
            "5/5 [==============================] - 2s 460ms/step - loss: 0.1178 - mae: 0.1930 - val_loss: 9.3922 - val_mae: 2.1537\n",
            "Epoch 75/100\n",
            "5/5 [==============================] - 2s 461ms/step - loss: 0.1109 - mae: 0.1817 - val_loss: 9.6049 - val_mae: 2.1744\n",
            "Epoch 76/100\n",
            "5/5 [==============================] - 2s 458ms/step - loss: 0.1201 - mae: 0.1918 - val_loss: 8.6106 - val_mae: 2.0726\n",
            "Epoch 77/100\n",
            "5/5 [==============================] - 2s 467ms/step - loss: 0.1247 - mae: 0.1922 - val_loss: 8.9206 - val_mae: 2.1002\n",
            "Epoch 78/100\n",
            "5/5 [==============================] - 2s 457ms/step - loss: 0.1208 - mae: 0.1991 - val_loss: 8.1353 - val_mae: 2.0188\n",
            "Epoch 79/100\n",
            "5/5 [==============================] - 2s 462ms/step - loss: 0.1260 - mae: 0.2059 - val_loss: 10.1514 - val_mae: 2.2134\n",
            "Epoch 80/100\n",
            "5/5 [==============================] - 2s 461ms/step - loss: 0.1204 - mae: 0.1959 - val_loss: 9.9476 - val_mae: 2.2024\n",
            "Epoch 81/100\n",
            "5/5 [==============================] - 2s 462ms/step - loss: 0.1333 - mae: 0.2062 - val_loss: 9.5074 - val_mae: 2.1755\n",
            "Epoch 82/100\n",
            "5/5 [==============================] - 2s 464ms/step - loss: 0.1187 - mae: 0.1998 - val_loss: 8.7540 - val_mae: 2.0763\n",
            "Epoch 83/100\n",
            "5/5 [==============================] - 2s 468ms/step - loss: 0.1087 - mae: 0.1868 - val_loss: 8.9721 - val_mae: 2.0721\n",
            "Epoch 84/100\n",
            "5/5 [==============================] - 2s 459ms/step - loss: 0.1021 - mae: 0.1769 - val_loss: 7.6849 - val_mae: 1.9688\n",
            "Epoch 85/100\n",
            "5/5 [==============================] - 2s 462ms/step - loss: 0.1130 - mae: 0.1869 - val_loss: 8.9696 - val_mae: 2.0763\n",
            "Epoch 86/100\n",
            "5/5 [==============================] - 2s 522ms/step - loss: 0.0950 - mae: 0.1719 - val_loss: 9.5126 - val_mae: 2.1287\n",
            "Epoch 87/100\n",
            "5/5 [==============================] - 2s 463ms/step - loss: 0.0902 - mae: 0.1639 - val_loss: 10.1261 - val_mae: 2.1814\n",
            "Epoch 88/100\n",
            "5/5 [==============================] - 2s 460ms/step - loss: 0.0883 - mae: 0.1635 - val_loss: 9.1302 - val_mae: 2.0823\n",
            "Epoch 89/100\n",
            "5/5 [==============================] - 2s 459ms/step - loss: 0.0917 - mae: 0.1588 - val_loss: 7.9930 - val_mae: 1.9662\n",
            "Epoch 90/100\n",
            "5/5 [==============================] - 2s 463ms/step - loss: 0.0803 - mae: 0.1522 - val_loss: 7.5357 - val_mae: 1.9356\n",
            "Epoch 91/100\n",
            "5/5 [==============================] - 2s 461ms/step - loss: 0.0766 - mae: 0.1478 - val_loss: 7.3506 - val_mae: 1.9059\n",
            "Epoch 92/100\n",
            "5/5 [==============================] - 2s 458ms/step - loss: 0.0719 - mae: 0.1394 - val_loss: 8.1734 - val_mae: 1.9734\n",
            "Epoch 93/100\n",
            "5/5 [==============================] - 2s 459ms/step - loss: 0.0741 - mae: 0.1368 - val_loss: 7.5504 - val_mae: 1.9108\n",
            "Epoch 94/100\n",
            "5/5 [==============================] - 2s 462ms/step - loss: 0.0594 - mae: 0.1220 - val_loss: 7.8604 - val_mae: 1.9404\n",
            "Epoch 95/100\n",
            "5/5 [==============================] - 2s 458ms/step - loss: 0.0534 - mae: 0.1074 - val_loss: 7.4195 - val_mae: 1.8815\n",
            "Epoch 96/100\n",
            "5/5 [==============================] - 2s 461ms/step - loss: 0.0497 - mae: 0.0983 - val_loss: 7.3209 - val_mae: 1.8714\n",
            "Epoch 97/100\n",
            "5/5 [==============================] - 2s 461ms/step - loss: 0.0565 - mae: 0.1041 - val_loss: 7.1397 - val_mae: 1.8637\n",
            "Epoch 98/100\n",
            "5/5 [==============================] - 2s 462ms/step - loss: 0.0508 - mae: 0.1052 - val_loss: 7.1936 - val_mae: 1.8557\n",
            "Epoch 99/100\n",
            "5/5 [==============================] - 2s 463ms/step - loss: 0.0497 - mae: 0.1033 - val_loss: 7.1138 - val_mae: 1.8429\n",
            "Epoch 100/100\n",
            "5/5 [==============================] - 2s 455ms/step - loss: 0.0484 - mae: 0.0983 - val_loss: 7.2172 - val_mae: 1.8584\n"
          ]
        }
      ]
    },
    {
      "cell_type": "code",
      "metadata": {
        "id": "DrGvTe4ROHOx",
        "colab": {
          "base_uri": "https://localhost:8080/",
          "height": 334
        },
        "outputId": "31cc281e-dc09-4ce6-e5d5-8120aec1ca4f"
      },
      "source": [
        "fig, loss_ax = plt.subplots(figsize =(15,5))\n",
        "\n",
        "loss_ax.plot(model_hist.history['loss'], 'y', label='train loss')\n",
        "loss_ax.plot(model_hist.history['val_loss'], 'r', label='val loss')\n",
        "loss_ax.set_xlabel('epoch')\n",
        "loss_ax.set_ylabel('loss')\n",
        "loss_ax.legend(loc='upper left')\n",
        "loss_ax.set_yscale('symlog')\n",
        "\n",
        "plt.show()"
      ],
      "execution_count": null,
      "outputs": [
        {
          "output_type": "display_data",
          "data": {
            "image/png": "[encoded data removed]",
            "text/plain": [
              "<Figure size 1080x360 with 1 Axes>"
            ]
          },
          "metadata": {
            "needs_background": "light"
          }
        }
      ]
    },
    {
      "cell_type": "code",
      "metadata": {
        "id": "euoTNTQ3OHOx"
      },
      "source": [
        "predi = model.predict(data_input)"
      ],
      "execution_count": null,
      "outputs": []
    },
    {
      "cell_type": "code",
      "metadata": {
        "id": "TsVc7_2aOHOx"
      },
      "source": [
        "predi_round = np.round(predi,2)"
      ],
      "execution_count": null,
      "outputs": []
    },
    {
      "cell_type": "code",
      "metadata": {
        "id": "rVdgutYuOHOx",
        "colab": {
          "base_uri": "https://localhost:8080/",
          "height": 282
        },
        "outputId": "48aac898-2cbb-411f-f6a5-4a93c5931cb6"
      },
      "source": [
        "plt.scatter(data_label[:,0], data_label[:,1], s=10)"
      ],
      "execution_count": null,
      "outputs": [
        {
          "output_type": "execute_result",
          "data": {
            "text/plain": [
              "<matplotlib.collections.PathCollection at 0x7f8ce1f67590>"
            ]
          },
          "metadata": {},
          "execution_count": 21
        },
        {
          "output_type": "display_data",
          "data": {
            "image/png": "[encoded data removed]",
            "text/plain": [
              "<Figure size 432x288 with 1 Axes>"
            ]
          },
          "metadata": {
            "needs_background": "light"
          }
        }
      ]
    },
    {
      "cell_type": "code",
      "metadata": {
        "colab": {
          "base_uri": "https://localhost:8080/",
          "height": 592
        },
        "id": "NZ67YS8FZcF5",
        "outputId": "281023a0-f916-4c62-a996-f420638fe149"
      },
      "source": [
        "plt.figure(figsize = (10,10))\n",
        "for i in range(int(len(predi_round)/9)):\n",
        "    plt.scatter(predi_round[i*9:i*9+9,0], predi_round[i*9:i*9+9,1], s = 3)"
      ],
      "execution_count": null,
      "outputs": [
        {
          "output_type": "display_data",
          "data": {
            "image/png": "[encoded data removed]",
            "text/plain": [
              "<Figure size 720x720 with 1 Axes>"
            ]
          },
          "metadata": {
            "needs_background": "light"
          }
        }
      ]
    },
    {
      "cell_type": "code",
      "metadata": {
        "colab": {
          "base_uri": "https://localhost:8080/",
          "height": 609
        },
        "id": "2fDNmq8Jh0ku",
        "outputId": "2ae805f7-1530-44a8-8ec5-cf182142ea37"
      },
      "source": [
        "plt.figure(figsize = (10,10))\n",
        "plt.scatter(predi_round[:,0], predi_round[:,1], s=10)"
      ],
      "execution_count": null,
      "outputs": [
        {
          "output_type": "execute_result",
          "data": {
            "text/plain": [
              "<matplotlib.collections.PathCollection at 0x7f8ce194b7d0>"
            ]
          },
          "metadata": {},
          "execution_count": 23
        },
        {
          "output_type": "display_data",
          "data": {
            "image/png": "[encoded data removed]",
            "text/plain": [
              "<Figure size 720x720 with 1 Axes>"
            ]
          },
          "metadata": {
            "needs_background": "light"
          }
        }
      ]
    },
    {
      "cell_type": "code",
      "metadata": {
        "colab": {
          "base_uri": "https://localhost:8080/"
        },
        "id": "6_51qODC9yvF",
        "outputId": "51d9edd8-1f97-4611-d1ec-729975301b69"
      },
      "source": [
        "raw_data.shape"
      ],
      "execution_count": null,
      "outputs": [
        {
          "output_type": "execute_result",
          "data": {
            "text/plain": [
              "(2178, 2, 8, 150)"
            ]
          },
          "metadata": {},
          "execution_count": 134
        }
      ]
    },
    {
      "cell_type": "code",
      "metadata": {
        "colab": {
          "base_uri": "https://localhost:8080/"
        },
        "id": "tzTSsxA_-W7I",
        "outputId": "73104ed7-5a64-47b8-e59e-5d05792bc71b"
      },
      "source": [
        "raw_data_1.shape"
      ],
      "execution_count": null,
      "outputs": [
        {
          "output_type": "execute_result",
          "data": {
            "text/plain": [
              "(2178, 2, 8, 150)"
            ]
          },
          "metadata": {},
          "execution_count": 135
        }
      ]
    },
    {
      "cell_type": "code",
      "metadata": {
        "id": "nEbrI5Wq-aop"
      },
      "source": [
        "raw_data_2"
      ],
      "execution_count": null,
      "outputs": []
    },
    {
      "cell_type": "code",
      "metadata": {
        "id": "b6c474DL-fP6"
      },
      "source": [
        ""
      ],
      "execution_count": null,
      "outputs": []
    }
  ]
}